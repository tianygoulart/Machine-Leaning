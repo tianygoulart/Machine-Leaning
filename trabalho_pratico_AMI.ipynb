{
  "nbformat": 4,
  "nbformat_minor": 0,
  "metadata": {
    "colab": {
      "name": "trabalho_pratico_AMI.ipynb",
      "provenance": [],
      "include_colab_link": true
    },
    "kernelspec": {
      "name": "python3",
      "display_name": "Python 3"
    },
    "language_info": {
      "name": "python"
    }
  },
  "cells": [
    {
      "cell_type": "markdown",
      "metadata": {
        "id": "view-in-github",
        "colab_type": "text"
      },
      "source": [
        "<a href=\"https://colab.research.google.com/github/tianygoulart/Machine-Leaning/blob/main/trabalho_pratico_AMI.ipynb\" target=\"_parent\"><img src=\"https://colab.research.google.com/assets/colab-badge.svg\" alt=\"Open In Colab\"/></a>"
      ]
    },
    {
      "cell_type": "code",
      "metadata": {
        "id": "oj52_VE5JZUN"
      },
      "source": [
        "#código utilizado para a construção do trabalho prático para a disciplina de AMI do IGTI"
      ],
      "execution_count": null,
      "outputs": []
    },
    {
      "cell_type": "markdown",
      "metadata": {
        "id": "RCcY5ZQeKZbf"
      },
      "source": [
        "**Previsão de temperatura**"
      ]
    },
    {
      "cell_type": "code",
      "metadata": {
        "id": "6uwNMQmJJkat"
      },
      "source": [
        "#importando os módulos a serem utilizados\n",
        "import pandas as pd                                   #utilizado para a construção os dataframes e análise exploratória\n",
        "import numpy as np                                    #utilizado para a operações vetoriais e matriciais\n",
        "import matplotlib.pyplot as plt                       #utilizado para construção de gráficos\n",
        "from sklearn.linear_model import LinearRegression     #utilizada para a construção do modelo de regressão linear"
      ],
      "execution_count": 1,
      "outputs": []
    },
    {
      "cell_type": "code",
      "metadata": {
        "id": "do4oT5QZL9Mr"
      },
      "source": [
        "#importando os dados\n",
        "IOT_temp = pd.read_csv(\"IOT-temp.csv\")"
      ],
      "execution_count": 2,
      "outputs": []
    },
    {
      "cell_type": "code",
      "metadata": {
        "colab": {
          "base_uri": "https://localhost:8080/",
          "height": 206
        },
        "id": "MY5TjsohTZxa",
        "outputId": "64482ec7-bd64-4e88-f855-2a08c12f5993"
      },
      "source": [
        "#conhecendo o dataset\n",
        "IOT_temp.head(5)"
      ],
      "execution_count": 3,
      "outputs": [
        {
          "output_type": "execute_result",
          "data": {
            "text/plain": [
              "                                    id  room_id/id        noted_date  temp  \\\n",
              "0  __export__.temp_log_196134_bd201015  Room Admin  08-12-2018 09:30    29   \n",
              "1  __export__.temp_log_196131_7bca51bc  Room Admin  08-12-2018 09:30    29   \n",
              "2  __export__.temp_log_196127_522915e3  Room Admin  08-12-2018 09:29    41   \n",
              "3  __export__.temp_log_196128_be0919cf  Room Admin  08-12-2018 09:29    41   \n",
              "4  __export__.temp_log_196126_d30b72fb  Room Admin  08-12-2018 09:29    31   \n",
              "\n",
              "  out/in  \n",
              "0     In  \n",
              "1     In  \n",
              "2    Out  \n",
              "3    Out  \n",
              "4     In  "
            ],
            "text/html": [
              "\n",
              "  <div id=\"df-efdd44c7-d4c0-41f7-9eba-d245d11a1898\">\n",
              "    <div class=\"colab-df-container\">\n",
              "      <div>\n",
              "<style scoped>\n",
              "    .dataframe tbody tr th:only-of-type {\n",
              "        vertical-align: middle;\n",
              "    }\n",
              "\n",
              "    .dataframe tbody tr th {\n",
              "        vertical-align: top;\n",
              "    }\n",
              "\n",
              "    .dataframe thead th {\n",
              "        text-align: right;\n",
              "    }\n",
              "</style>\n",
              "<table border=\"1\" class=\"dataframe\">\n",
              "  <thead>\n",
              "    <tr style=\"text-align: right;\">\n",
              "      <th></th>\n",
              "      <th>id</th>\n",
              "      <th>room_id/id</th>\n",
              "      <th>noted_date</th>\n",
              "      <th>temp</th>\n",
              "      <th>out/in</th>\n",
              "    </tr>\n",
              "  </thead>\n",
              "  <tbody>\n",
              "    <tr>\n",
              "      <th>0</th>\n",
              "      <td>__export__.temp_log_196134_bd201015</td>\n",
              "      <td>Room Admin</td>\n",
              "      <td>08-12-2018 09:30</td>\n",
              "      <td>29</td>\n",
              "      <td>In</td>\n",
              "    </tr>\n",
              "    <tr>\n",
              "      <th>1</th>\n",
              "      <td>__export__.temp_log_196131_7bca51bc</td>\n",
              "      <td>Room Admin</td>\n",
              "      <td>08-12-2018 09:30</td>\n",
              "      <td>29</td>\n",
              "      <td>In</td>\n",
              "    </tr>\n",
              "    <tr>\n",
              "      <th>2</th>\n",
              "      <td>__export__.temp_log_196127_522915e3</td>\n",
              "      <td>Room Admin</td>\n",
              "      <td>08-12-2018 09:29</td>\n",
              "      <td>41</td>\n",
              "      <td>Out</td>\n",
              "    </tr>\n",
              "    <tr>\n",
              "      <th>3</th>\n",
              "      <td>__export__.temp_log_196128_be0919cf</td>\n",
              "      <td>Room Admin</td>\n",
              "      <td>08-12-2018 09:29</td>\n",
              "      <td>41</td>\n",
              "      <td>Out</td>\n",
              "    </tr>\n",
              "    <tr>\n",
              "      <th>4</th>\n",
              "      <td>__export__.temp_log_196126_d30b72fb</td>\n",
              "      <td>Room Admin</td>\n",
              "      <td>08-12-2018 09:29</td>\n",
              "      <td>31</td>\n",
              "      <td>In</td>\n",
              "    </tr>\n",
              "  </tbody>\n",
              "</table>\n",
              "</div>\n",
              "      <button class=\"colab-df-convert\" onclick=\"convertToInteractive('df-efdd44c7-d4c0-41f7-9eba-d245d11a1898')\"\n",
              "              title=\"Convert this dataframe to an interactive table.\"\n",
              "              style=\"display:none;\">\n",
              "        \n",
              "  <svg xmlns=\"http://www.w3.org/2000/svg\" height=\"24px\"viewBox=\"0 0 24 24\"\n",
              "       width=\"24px\">\n",
              "    <path d=\"M0 0h24v24H0V0z\" fill=\"none\"/>\n",
              "    <path d=\"M18.56 5.44l.94 2.06.94-2.06 2.06-.94-2.06-.94-.94-2.06-.94 2.06-2.06.94zm-11 1L8.5 8.5l.94-2.06 2.06-.94-2.06-.94L8.5 2.5l-.94 2.06-2.06.94zm10 10l.94 2.06.94-2.06 2.06-.94-2.06-.94-.94-2.06-.94 2.06-2.06.94z\"/><path d=\"M17.41 7.96l-1.37-1.37c-.4-.4-.92-.59-1.43-.59-.52 0-1.04.2-1.43.59L10.3 9.45l-7.72 7.72c-.78.78-.78 2.05 0 2.83L4 21.41c.39.39.9.59 1.41.59.51 0 1.02-.2 1.41-.59l7.78-7.78 2.81-2.81c.8-.78.8-2.07 0-2.86zM5.41 20L4 18.59l7.72-7.72 1.47 1.35L5.41 20z\"/>\n",
              "  </svg>\n",
              "      </button>\n",
              "      \n",
              "  <style>\n",
              "    .colab-df-container {\n",
              "      display:flex;\n",
              "      flex-wrap:wrap;\n",
              "      gap: 12px;\n",
              "    }\n",
              "\n",
              "    .colab-df-convert {\n",
              "      background-color: #E8F0FE;\n",
              "      border: none;\n",
              "      border-radius: 50%;\n",
              "      cursor: pointer;\n",
              "      display: none;\n",
              "      fill: #1967D2;\n",
              "      height: 32px;\n",
              "      padding: 0 0 0 0;\n",
              "      width: 32px;\n",
              "    }\n",
              "\n",
              "    .colab-df-convert:hover {\n",
              "      background-color: #E2EBFA;\n",
              "      box-shadow: 0px 1px 2px rgba(60, 64, 67, 0.3), 0px 1px 3px 1px rgba(60, 64, 67, 0.15);\n",
              "      fill: #174EA6;\n",
              "    }\n",
              "\n",
              "    [theme=dark] .colab-df-convert {\n",
              "      background-color: #3B4455;\n",
              "      fill: #D2E3FC;\n",
              "    }\n",
              "\n",
              "    [theme=dark] .colab-df-convert:hover {\n",
              "      background-color: #434B5C;\n",
              "      box-shadow: 0px 1px 3px 1px rgba(0, 0, 0, 0.15);\n",
              "      filter: drop-shadow(0px 1px 2px rgba(0, 0, 0, 0.3));\n",
              "      fill: #FFFFFF;\n",
              "    }\n",
              "  </style>\n",
              "\n",
              "      <script>\n",
              "        const buttonEl =\n",
              "          document.querySelector('#df-efdd44c7-d4c0-41f7-9eba-d245d11a1898 button.colab-df-convert');\n",
              "        buttonEl.style.display =\n",
              "          google.colab.kernel.accessAllowed ? 'block' : 'none';\n",
              "\n",
              "        async function convertToInteractive(key) {\n",
              "          const element = document.querySelector('#df-efdd44c7-d4c0-41f7-9eba-d245d11a1898');\n",
              "          const dataTable =\n",
              "            await google.colab.kernel.invokeFunction('convertToInteractive',\n",
              "                                                     [key], {});\n",
              "          if (!dataTable) return;\n",
              "\n",
              "          const docLinkHtml = 'Like what you see? Visit the ' +\n",
              "            '<a target=\"_blank\" href=https://colab.research.google.com/notebooks/data_table.ipynb>data table notebook</a>'\n",
              "            + ' to learn more about interactive tables.';\n",
              "          element.innerHTML = '';\n",
              "          dataTable['output_type'] = 'display_data';\n",
              "          await google.colab.output.renderOutput(dataTable, element);\n",
              "          const docLink = document.createElement('div');\n",
              "          docLink.innerHTML = docLinkHtml;\n",
              "          element.appendChild(docLink);\n",
              "        }\n",
              "      </script>\n",
              "    </div>\n",
              "  </div>\n",
              "  "
            ]
          },
          "metadata": {},
          "execution_count": 3
        }
      ]
    },
    {
      "cell_type": "markdown",
      "metadata": {
        "id": "ctjIC4VoTgJi"
      },
      "source": [
        "*Mostrando os dados*\n",
        "\n",
        "\n",
        "\n",
        "1.   id -> identificador único para cada medida.\n",
        "2.   room_id/id -> id do local onde o dispositivo foi instalado\n",
        "3.   noted_date -> data da leitura\n",
        "4.   temp -> valor da temperatura medida\n",
        "5.   out/in -> indica se o dispositivo foi instalado no ambiente interno(in) ou no ambiente externo (out) \n",
        "\n"
      ]
    },
    {
      "cell_type": "code",
      "metadata": {
        "colab": {
          "base_uri": "https://localhost:8080/"
        },
        "id": "SgTdEcBoTeIV",
        "outputId": "c469ff59-b7d5-43f1-977a-07fb949c28f8"
      },
      "source": [
        "#conhecendo as características dos dados\n",
        "IOT_temp.info()"
      ],
      "execution_count": 4,
      "outputs": [
        {
          "output_type": "stream",
          "name": "stdout",
          "text": [
            "<class 'pandas.core.frame.DataFrame'>\n",
            "RangeIndex: 97606 entries, 0 to 97605\n",
            "Data columns (total 5 columns):\n",
            " #   Column      Non-Null Count  Dtype \n",
            "---  ------      --------------  ----- \n",
            " 0   id          97606 non-null  object\n",
            " 1   room_id/id  97606 non-null  object\n",
            " 2   noted_date  97606 non-null  object\n",
            " 3   temp        97606 non-null  int64 \n",
            " 4   out/in      97606 non-null  object\n",
            "dtypes: int64(1), object(4)\n",
            "memory usage: 3.7+ MB\n"
          ]
        }
      ]
    },
    {
      "cell_type": "markdown",
      "metadata": {
        "id": "Fz3gP1zPV3L_"
      },
      "source": [
        "**Quantos tipos de dados distintos existem?**"
      ]
    },
    {
      "cell_type": "code",
      "source": [
        "IOT_temp.shape"
      ],
      "metadata": {
        "id": "kLwiysUJImzZ",
        "outputId": "f4017176-2b4f-4293-d7fc-06fe8c7b3290",
        "colab": {
          "base_uri": "https://localhost:8080/"
        }
      },
      "execution_count": 5,
      "outputs": [
        {
          "output_type": "execute_result",
          "data": {
            "text/plain": [
              "(97606, 5)"
            ]
          },
          "metadata": {},
          "execution_count": 5
        }
      ]
    },
    {
      "cell_type": "code",
      "source": [
        "IOT_temp.dtypes"
      ],
      "metadata": {
        "id": "LyeO_DoMgO0_",
        "outputId": "53c059bb-99ac-49ad-b80a-1ec44d68345c",
        "colab": {
          "base_uri": "https://localhost:8080/"
        }
      },
      "execution_count": 12,
      "outputs": [
        {
          "output_type": "execute_result",
          "data": {
            "text/plain": [
              "id            object\n",
              "room_id/id    object\n",
              "noted_date    object\n",
              "temp           int64\n",
              "out/in        object\n",
              "dtype: object"
            ]
          },
          "metadata": {},
          "execution_count": 12
        }
      ]
    },
    {
      "cell_type": "code",
      "source": [
        "IOT_temp.dtypes.value_counts()"
      ],
      "metadata": {
        "id": "CuvrlhMDhNek",
        "outputId": "c3685bc8-00e8-4877-c5a2-c8fca2b1fbe5",
        "colab": {
          "base_uri": "https://localhost:8080/"
        }
      },
      "execution_count": 13,
      "outputs": [
        {
          "output_type": "execute_result",
          "data": {
            "text/plain": [
              "object    4\n",
              "int64     1\n",
              "dtype: int64"
            ]
          },
          "metadata": {},
          "execution_count": 13
        }
      ]
    },
    {
      "cell_type": "markdown",
      "metadata": {
        "id": "UQb6X79bV-4j"
      },
      "source": [
        "**Quantos valores nulos existem?**"
      ]
    },
    {
      "cell_type": "code",
      "source": [
        "IOT_temp.isnull().sum()"
      ],
      "metadata": {
        "id": "XkvD27beJdX9",
        "outputId": "2a2ee011-017c-46f4-ceca-5b85c9f2deef",
        "colab": {
          "base_uri": "https://localhost:8080/"
        }
      },
      "execution_count": 14,
      "outputs": [
        {
          "output_type": "execute_result",
          "data": {
            "text/plain": [
              "id            0\n",
              "room_id/id    0\n",
              "noted_date    0\n",
              "temp          0\n",
              "out/in        0\n",
              "dtype: int64"
            ]
          },
          "metadata": {},
          "execution_count": 14
        }
      ]
    },
    {
      "cell_type": "code",
      "metadata": {
        "colab": {
          "base_uri": "https://localhost:8080/",
          "height": 300
        },
        "id": "e5t_0CFwUgI1",
        "outputId": "afc23ae6-2e09-4ae4-aad6-cd91c2afa36d"
      },
      "source": [
        "#obtendo as estatísticas descritivas do dataset\n",
        "IOT_temp.describe()"
      ],
      "execution_count": 15,
      "outputs": [
        {
          "output_type": "execute_result",
          "data": {
            "text/plain": [
              "               temp\n",
              "count  97606.000000\n",
              "mean      35.053931\n",
              "std        5.699825\n",
              "min       21.000000\n",
              "25%       30.000000\n",
              "50%       35.000000\n",
              "75%       40.000000\n",
              "max       51.000000"
            ],
            "text/html": [
              "\n",
              "  <div id=\"df-a17f3a67-1b60-4aac-a7fd-9f4cd1f23515\">\n",
              "    <div class=\"colab-df-container\">\n",
              "      <div>\n",
              "<style scoped>\n",
              "    .dataframe tbody tr th:only-of-type {\n",
              "        vertical-align: middle;\n",
              "    }\n",
              "\n",
              "    .dataframe tbody tr th {\n",
              "        vertical-align: top;\n",
              "    }\n",
              "\n",
              "    .dataframe thead th {\n",
              "        text-align: right;\n",
              "    }\n",
              "</style>\n",
              "<table border=\"1\" class=\"dataframe\">\n",
              "  <thead>\n",
              "    <tr style=\"text-align: right;\">\n",
              "      <th></th>\n",
              "      <th>temp</th>\n",
              "    </tr>\n",
              "  </thead>\n",
              "  <tbody>\n",
              "    <tr>\n",
              "      <th>count</th>\n",
              "      <td>97606.000000</td>\n",
              "    </tr>\n",
              "    <tr>\n",
              "      <th>mean</th>\n",
              "      <td>35.053931</td>\n",
              "    </tr>\n",
              "    <tr>\n",
              "      <th>std</th>\n",
              "      <td>5.699825</td>\n",
              "    </tr>\n",
              "    <tr>\n",
              "      <th>min</th>\n",
              "      <td>21.000000</td>\n",
              "    </tr>\n",
              "    <tr>\n",
              "      <th>25%</th>\n",
              "      <td>30.000000</td>\n",
              "    </tr>\n",
              "    <tr>\n",
              "      <th>50%</th>\n",
              "      <td>35.000000</td>\n",
              "    </tr>\n",
              "    <tr>\n",
              "      <th>75%</th>\n",
              "      <td>40.000000</td>\n",
              "    </tr>\n",
              "    <tr>\n",
              "      <th>max</th>\n",
              "      <td>51.000000</td>\n",
              "    </tr>\n",
              "  </tbody>\n",
              "</table>\n",
              "</div>\n",
              "      <button class=\"colab-df-convert\" onclick=\"convertToInteractive('df-a17f3a67-1b60-4aac-a7fd-9f4cd1f23515')\"\n",
              "              title=\"Convert this dataframe to an interactive table.\"\n",
              "              style=\"display:none;\">\n",
              "        \n",
              "  <svg xmlns=\"http://www.w3.org/2000/svg\" height=\"24px\"viewBox=\"0 0 24 24\"\n",
              "       width=\"24px\">\n",
              "    <path d=\"M0 0h24v24H0V0z\" fill=\"none\"/>\n",
              "    <path d=\"M18.56 5.44l.94 2.06.94-2.06 2.06-.94-2.06-.94-.94-2.06-.94 2.06-2.06.94zm-11 1L8.5 8.5l.94-2.06 2.06-.94-2.06-.94L8.5 2.5l-.94 2.06-2.06.94zm10 10l.94 2.06.94-2.06 2.06-.94-2.06-.94-.94-2.06-.94 2.06-2.06.94z\"/><path d=\"M17.41 7.96l-1.37-1.37c-.4-.4-.92-.59-1.43-.59-.52 0-1.04.2-1.43.59L10.3 9.45l-7.72 7.72c-.78.78-.78 2.05 0 2.83L4 21.41c.39.39.9.59 1.41.59.51 0 1.02-.2 1.41-.59l7.78-7.78 2.81-2.81c.8-.78.8-2.07 0-2.86zM5.41 20L4 18.59l7.72-7.72 1.47 1.35L5.41 20z\"/>\n",
              "  </svg>\n",
              "      </button>\n",
              "      \n",
              "  <style>\n",
              "    .colab-df-container {\n",
              "      display:flex;\n",
              "      flex-wrap:wrap;\n",
              "      gap: 12px;\n",
              "    }\n",
              "\n",
              "    .colab-df-convert {\n",
              "      background-color: #E8F0FE;\n",
              "      border: none;\n",
              "      border-radius: 50%;\n",
              "      cursor: pointer;\n",
              "      display: none;\n",
              "      fill: #1967D2;\n",
              "      height: 32px;\n",
              "      padding: 0 0 0 0;\n",
              "      width: 32px;\n",
              "    }\n",
              "\n",
              "    .colab-df-convert:hover {\n",
              "      background-color: #E2EBFA;\n",
              "      box-shadow: 0px 1px 2px rgba(60, 64, 67, 0.3), 0px 1px 3px 1px rgba(60, 64, 67, 0.15);\n",
              "      fill: #174EA6;\n",
              "    }\n",
              "\n",
              "    [theme=dark] .colab-df-convert {\n",
              "      background-color: #3B4455;\n",
              "      fill: #D2E3FC;\n",
              "    }\n",
              "\n",
              "    [theme=dark] .colab-df-convert:hover {\n",
              "      background-color: #434B5C;\n",
              "      box-shadow: 0px 1px 3px 1px rgba(0, 0, 0, 0.15);\n",
              "      filter: drop-shadow(0px 1px 2px rgba(0, 0, 0, 0.3));\n",
              "      fill: #FFFFFF;\n",
              "    }\n",
              "  </style>\n",
              "\n",
              "      <script>\n",
              "        const buttonEl =\n",
              "          document.querySelector('#df-a17f3a67-1b60-4aac-a7fd-9f4cd1f23515 button.colab-df-convert');\n",
              "        buttonEl.style.display =\n",
              "          google.colab.kernel.accessAllowed ? 'block' : 'none';\n",
              "\n",
              "        async function convertToInteractive(key) {\n",
              "          const element = document.querySelector('#df-a17f3a67-1b60-4aac-a7fd-9f4cd1f23515');\n",
              "          const dataTable =\n",
              "            await google.colab.kernel.invokeFunction('convertToInteractive',\n",
              "                                                     [key], {});\n",
              "          if (!dataTable) return;\n",
              "\n",
              "          const docLinkHtml = 'Like what you see? Visit the ' +\n",
              "            '<a target=\"_blank\" href=https://colab.research.google.com/notebooks/data_table.ipynb>data table notebook</a>'\n",
              "            + ' to learn more about interactive tables.';\n",
              "          element.innerHTML = '';\n",
              "          dataTable['output_type'] = 'display_data';\n",
              "          await google.colab.output.renderOutput(dataTable, element);\n",
              "          const docLink = document.createElement('div');\n",
              "          docLink.innerHTML = docLinkHtml;\n",
              "          element.appendChild(docLink);\n",
              "        }\n",
              "      </script>\n",
              "    </div>\n",
              "  </div>\n",
              "  "
            ]
          },
          "metadata": {},
          "execution_count": 15
        }
      ]
    },
    {
      "cell_type": "markdown",
      "metadata": {
        "id": "HL8qapkXUnUI"
      },
      "source": [
        "**Qual é a mediana das temperaturas medidas?**"
      ]
    },
    {
      "cell_type": "code",
      "metadata": {
        "colab": {
          "base_uri": "https://localhost:8080/"
        },
        "id": "-sGFkZAlUmHD",
        "outputId": "b1d09c0b-294b-4373-d7ec-d6ac1624a87f"
      },
      "source": [
        "#Contando quantos valores de temperaturas são In ou Out\n",
        "IOT_temp.groupby(\"out/in\").count()['id']"
      ],
      "execution_count": 16,
      "outputs": [
        {
          "output_type": "execute_result",
          "data": {
            "text/plain": [
              "out/in\n",
              "In     20345\n",
              "Out    77261\n",
              "Name: id, dtype: int64"
            ]
          },
          "metadata": {},
          "execution_count": 16
        }
      ]
    },
    {
      "cell_type": "markdown",
      "metadata": {
        "id": "leTOZaieUxAF"
      },
      "source": [
        "**Qual é o percentual dos dados de temperaturas coletados no ambiente externo (out)?**"
      ]
    },
    {
      "cell_type": "code",
      "metadata": {
        "colab": {
          "base_uri": "https://localhost:8080/",
          "height": 206
        },
        "id": "9l6q9B67VG7c",
        "outputId": "8184ccad-43c9-4f31-a0dc-a65884f6cbcb"
      },
      "source": [
        "#separando o dataset entre valores de In e Out\n",
        "df_in=IOT_temp[IOT_temp[\"out/in\"]==\"In\"]\n",
        "df_out=IOT_temp[IOT_temp[\"out/in\"]==\"Out\"]\n",
        "df_out.head(5)"
      ],
      "execution_count": 17,
      "outputs": [
        {
          "output_type": "execute_result",
          "data": {
            "text/plain": [
              "                                     id  room_id/id        noted_date  temp  \\\n",
              "2   __export__.temp_log_196127_522915e3  Room Admin  08-12-2018 09:29    41   \n",
              "3   __export__.temp_log_196128_be0919cf  Room Admin  08-12-2018 09:29    41   \n",
              "10  __export__.temp_log_196108_4a983c7e  Room Admin  08-12-2018 09:25    42   \n",
              "11  __export__.temp_log_196108_4a983c7e  Room Admin  08-12-2018 09:25    42   \n",
              "16  __export__.temp_log_196094_38501388  Room Admin  08-12-2018 09:21    41   \n",
              "\n",
              "   out/in  \n",
              "2     Out  \n",
              "3     Out  \n",
              "10    Out  \n",
              "11    Out  \n",
              "16    Out  "
            ],
            "text/html": [
              "\n",
              "  <div id=\"df-64eafcfb-da12-47d1-b68c-757232e02c6f\">\n",
              "    <div class=\"colab-df-container\">\n",
              "      <div>\n",
              "<style scoped>\n",
              "    .dataframe tbody tr th:only-of-type {\n",
              "        vertical-align: middle;\n",
              "    }\n",
              "\n",
              "    .dataframe tbody tr th {\n",
              "        vertical-align: top;\n",
              "    }\n",
              "\n",
              "    .dataframe thead th {\n",
              "        text-align: right;\n",
              "    }\n",
              "</style>\n",
              "<table border=\"1\" class=\"dataframe\">\n",
              "  <thead>\n",
              "    <tr style=\"text-align: right;\">\n",
              "      <th></th>\n",
              "      <th>id</th>\n",
              "      <th>room_id/id</th>\n",
              "      <th>noted_date</th>\n",
              "      <th>temp</th>\n",
              "      <th>out/in</th>\n",
              "    </tr>\n",
              "  </thead>\n",
              "  <tbody>\n",
              "    <tr>\n",
              "      <th>2</th>\n",
              "      <td>__export__.temp_log_196127_522915e3</td>\n",
              "      <td>Room Admin</td>\n",
              "      <td>08-12-2018 09:29</td>\n",
              "      <td>41</td>\n",
              "      <td>Out</td>\n",
              "    </tr>\n",
              "    <tr>\n",
              "      <th>3</th>\n",
              "      <td>__export__.temp_log_196128_be0919cf</td>\n",
              "      <td>Room Admin</td>\n",
              "      <td>08-12-2018 09:29</td>\n",
              "      <td>41</td>\n",
              "      <td>Out</td>\n",
              "    </tr>\n",
              "    <tr>\n",
              "      <th>10</th>\n",
              "      <td>__export__.temp_log_196108_4a983c7e</td>\n",
              "      <td>Room Admin</td>\n",
              "      <td>08-12-2018 09:25</td>\n",
              "      <td>42</td>\n",
              "      <td>Out</td>\n",
              "    </tr>\n",
              "    <tr>\n",
              "      <th>11</th>\n",
              "      <td>__export__.temp_log_196108_4a983c7e</td>\n",
              "      <td>Room Admin</td>\n",
              "      <td>08-12-2018 09:25</td>\n",
              "      <td>42</td>\n",
              "      <td>Out</td>\n",
              "    </tr>\n",
              "    <tr>\n",
              "      <th>16</th>\n",
              "      <td>__export__.temp_log_196094_38501388</td>\n",
              "      <td>Room Admin</td>\n",
              "      <td>08-12-2018 09:21</td>\n",
              "      <td>41</td>\n",
              "      <td>Out</td>\n",
              "    </tr>\n",
              "  </tbody>\n",
              "</table>\n",
              "</div>\n",
              "      <button class=\"colab-df-convert\" onclick=\"convertToInteractive('df-64eafcfb-da12-47d1-b68c-757232e02c6f')\"\n",
              "              title=\"Convert this dataframe to an interactive table.\"\n",
              "              style=\"display:none;\">\n",
              "        \n",
              "  <svg xmlns=\"http://www.w3.org/2000/svg\" height=\"24px\"viewBox=\"0 0 24 24\"\n",
              "       width=\"24px\">\n",
              "    <path d=\"M0 0h24v24H0V0z\" fill=\"none\"/>\n",
              "    <path d=\"M18.56 5.44l.94 2.06.94-2.06 2.06-.94-2.06-.94-.94-2.06-.94 2.06-2.06.94zm-11 1L8.5 8.5l.94-2.06 2.06-.94-2.06-.94L8.5 2.5l-.94 2.06-2.06.94zm10 10l.94 2.06.94-2.06 2.06-.94-2.06-.94-.94-2.06-.94 2.06-2.06.94z\"/><path d=\"M17.41 7.96l-1.37-1.37c-.4-.4-.92-.59-1.43-.59-.52 0-1.04.2-1.43.59L10.3 9.45l-7.72 7.72c-.78.78-.78 2.05 0 2.83L4 21.41c.39.39.9.59 1.41.59.51 0 1.02-.2 1.41-.59l7.78-7.78 2.81-2.81c.8-.78.8-2.07 0-2.86zM5.41 20L4 18.59l7.72-7.72 1.47 1.35L5.41 20z\"/>\n",
              "  </svg>\n",
              "      </button>\n",
              "      \n",
              "  <style>\n",
              "    .colab-df-container {\n",
              "      display:flex;\n",
              "      flex-wrap:wrap;\n",
              "      gap: 12px;\n",
              "    }\n",
              "\n",
              "    .colab-df-convert {\n",
              "      background-color: #E8F0FE;\n",
              "      border: none;\n",
              "      border-radius: 50%;\n",
              "      cursor: pointer;\n",
              "      display: none;\n",
              "      fill: #1967D2;\n",
              "      height: 32px;\n",
              "      padding: 0 0 0 0;\n",
              "      width: 32px;\n",
              "    }\n",
              "\n",
              "    .colab-df-convert:hover {\n",
              "      background-color: #E2EBFA;\n",
              "      box-shadow: 0px 1px 2px rgba(60, 64, 67, 0.3), 0px 1px 3px 1px rgba(60, 64, 67, 0.15);\n",
              "      fill: #174EA6;\n",
              "    }\n",
              "\n",
              "    [theme=dark] .colab-df-convert {\n",
              "      background-color: #3B4455;\n",
              "      fill: #D2E3FC;\n",
              "    }\n",
              "\n",
              "    [theme=dark] .colab-df-convert:hover {\n",
              "      background-color: #434B5C;\n",
              "      box-shadow: 0px 1px 3px 1px rgba(0, 0, 0, 0.15);\n",
              "      filter: drop-shadow(0px 1px 2px rgba(0, 0, 0, 0.3));\n",
              "      fill: #FFFFFF;\n",
              "    }\n",
              "  </style>\n",
              "\n",
              "      <script>\n",
              "        const buttonEl =\n",
              "          document.querySelector('#df-64eafcfb-da12-47d1-b68c-757232e02c6f button.colab-df-convert');\n",
              "        buttonEl.style.display =\n",
              "          google.colab.kernel.accessAllowed ? 'block' : 'none';\n",
              "\n",
              "        async function convertToInteractive(key) {\n",
              "          const element = document.querySelector('#df-64eafcfb-da12-47d1-b68c-757232e02c6f');\n",
              "          const dataTable =\n",
              "            await google.colab.kernel.invokeFunction('convertToInteractive',\n",
              "                                                     [key], {});\n",
              "          if (!dataTable) return;\n",
              "\n",
              "          const docLinkHtml = 'Like what you see? Visit the ' +\n",
              "            '<a target=\"_blank\" href=https://colab.research.google.com/notebooks/data_table.ipynb>data table notebook</a>'\n",
              "            + ' to learn more about interactive tables.';\n",
              "          element.innerHTML = '';\n",
              "          dataTable['output_type'] = 'display_data';\n",
              "          await google.colab.output.renderOutput(dataTable, element);\n",
              "          const docLink = document.createElement('div');\n",
              "          docLink.innerHTML = docLinkHtml;\n",
              "          element.appendChild(docLink);\n",
              "        }\n",
              "      </script>\n",
              "    </div>\n",
              "  </div>\n",
              "  "
            ]
          },
          "metadata": {},
          "execution_count": 17
        }
      ]
    },
    {
      "cell_type": "code",
      "metadata": {
        "colab": {
          "base_uri": "https://localhost:8080/",
          "height": 424
        },
        "id": "igtvMlUqVKXG",
        "outputId": "524eadae-dbba-473a-8a9c-e8c023648896"
      },
      "source": [
        "#realizando o reset do indice para as medidas de temperatura interna\n",
        "df_in.reset_index(drop=True)"
      ],
      "execution_count": 18,
      "outputs": [
        {
          "output_type": "execute_result",
          "data": {
            "text/plain": [
              "                                        id  room_id/id        noted_date  \\\n",
              "0      __export__.temp_log_196134_bd201015  Room Admin  08-12-2018 09:30   \n",
              "1      __export__.temp_log_196131_7bca51bc  Room Admin  08-12-2018 09:30   \n",
              "2      __export__.temp_log_196126_d30b72fb  Room Admin  08-12-2018 09:29   \n",
              "3      __export__.temp_log_196125_b0fa0b41  Room Admin  08-12-2018 09:29   \n",
              "4      __export__.temp_log_196121_01544d45  Room Admin  08-12-2018 09:28   \n",
              "...                                    ...         ...               ...   \n",
              "20340   __export__.temp_log_91076_7fbd08ca  Room Admin  28-07-2018 07:07   \n",
              "20341  __export__.temp_log_147733_62c03f31  Room Admin  28-07-2018 07:07   \n",
              "20342  __export__.temp_log_100386_84093a68  Room Admin  28-07-2018 07:06   \n",
              "20343  __export__.temp_log_123297_4d8e690b  Room Admin  28-07-2018 07:06   \n",
              "20344  __export__.temp_log_133741_32958703  Room Admin  28-07-2018 07:06   \n",
              "\n",
              "       temp out/in  \n",
              "0        29     In  \n",
              "1        29     In  \n",
              "2        31     In  \n",
              "3        31     In  \n",
              "4        29     In  \n",
              "...     ...    ...  \n",
              "20340    31     In  \n",
              "20341    31     In  \n",
              "20342    31     In  \n",
              "20343    31     In  \n",
              "20344    31     In  \n",
              "\n",
              "[20345 rows x 5 columns]"
            ],
            "text/html": [
              "\n",
              "  <div id=\"df-79878c93-eca7-4ce0-b426-ccb303ff2181\">\n",
              "    <div class=\"colab-df-container\">\n",
              "      <div>\n",
              "<style scoped>\n",
              "    .dataframe tbody tr th:only-of-type {\n",
              "        vertical-align: middle;\n",
              "    }\n",
              "\n",
              "    .dataframe tbody tr th {\n",
              "        vertical-align: top;\n",
              "    }\n",
              "\n",
              "    .dataframe thead th {\n",
              "        text-align: right;\n",
              "    }\n",
              "</style>\n",
              "<table border=\"1\" class=\"dataframe\">\n",
              "  <thead>\n",
              "    <tr style=\"text-align: right;\">\n",
              "      <th></th>\n",
              "      <th>id</th>\n",
              "      <th>room_id/id</th>\n",
              "      <th>noted_date</th>\n",
              "      <th>temp</th>\n",
              "      <th>out/in</th>\n",
              "    </tr>\n",
              "  </thead>\n",
              "  <tbody>\n",
              "    <tr>\n",
              "      <th>0</th>\n",
              "      <td>__export__.temp_log_196134_bd201015</td>\n",
              "      <td>Room Admin</td>\n",
              "      <td>08-12-2018 09:30</td>\n",
              "      <td>29</td>\n",
              "      <td>In</td>\n",
              "    </tr>\n",
              "    <tr>\n",
              "      <th>1</th>\n",
              "      <td>__export__.temp_log_196131_7bca51bc</td>\n",
              "      <td>Room Admin</td>\n",
              "      <td>08-12-2018 09:30</td>\n",
              "      <td>29</td>\n",
              "      <td>In</td>\n",
              "    </tr>\n",
              "    <tr>\n",
              "      <th>2</th>\n",
              "      <td>__export__.temp_log_196126_d30b72fb</td>\n",
              "      <td>Room Admin</td>\n",
              "      <td>08-12-2018 09:29</td>\n",
              "      <td>31</td>\n",
              "      <td>In</td>\n",
              "    </tr>\n",
              "    <tr>\n",
              "      <th>3</th>\n",
              "      <td>__export__.temp_log_196125_b0fa0b41</td>\n",
              "      <td>Room Admin</td>\n",
              "      <td>08-12-2018 09:29</td>\n",
              "      <td>31</td>\n",
              "      <td>In</td>\n",
              "    </tr>\n",
              "    <tr>\n",
              "      <th>4</th>\n",
              "      <td>__export__.temp_log_196121_01544d45</td>\n",
              "      <td>Room Admin</td>\n",
              "      <td>08-12-2018 09:28</td>\n",
              "      <td>29</td>\n",
              "      <td>In</td>\n",
              "    </tr>\n",
              "    <tr>\n",
              "      <th>...</th>\n",
              "      <td>...</td>\n",
              "      <td>...</td>\n",
              "      <td>...</td>\n",
              "      <td>...</td>\n",
              "      <td>...</td>\n",
              "    </tr>\n",
              "    <tr>\n",
              "      <th>20340</th>\n",
              "      <td>__export__.temp_log_91076_7fbd08ca</td>\n",
              "      <td>Room Admin</td>\n",
              "      <td>28-07-2018 07:07</td>\n",
              "      <td>31</td>\n",
              "      <td>In</td>\n",
              "    </tr>\n",
              "    <tr>\n",
              "      <th>20341</th>\n",
              "      <td>__export__.temp_log_147733_62c03f31</td>\n",
              "      <td>Room Admin</td>\n",
              "      <td>28-07-2018 07:07</td>\n",
              "      <td>31</td>\n",
              "      <td>In</td>\n",
              "    </tr>\n",
              "    <tr>\n",
              "      <th>20342</th>\n",
              "      <td>__export__.temp_log_100386_84093a68</td>\n",
              "      <td>Room Admin</td>\n",
              "      <td>28-07-2018 07:06</td>\n",
              "      <td>31</td>\n",
              "      <td>In</td>\n",
              "    </tr>\n",
              "    <tr>\n",
              "      <th>20343</th>\n",
              "      <td>__export__.temp_log_123297_4d8e690b</td>\n",
              "      <td>Room Admin</td>\n",
              "      <td>28-07-2018 07:06</td>\n",
              "      <td>31</td>\n",
              "      <td>In</td>\n",
              "    </tr>\n",
              "    <tr>\n",
              "      <th>20344</th>\n",
              "      <td>__export__.temp_log_133741_32958703</td>\n",
              "      <td>Room Admin</td>\n",
              "      <td>28-07-2018 07:06</td>\n",
              "      <td>31</td>\n",
              "      <td>In</td>\n",
              "    </tr>\n",
              "  </tbody>\n",
              "</table>\n",
              "<p>20345 rows × 5 columns</p>\n",
              "</div>\n",
              "      <button class=\"colab-df-convert\" onclick=\"convertToInteractive('df-79878c93-eca7-4ce0-b426-ccb303ff2181')\"\n",
              "              title=\"Convert this dataframe to an interactive table.\"\n",
              "              style=\"display:none;\">\n",
              "        \n",
              "  <svg xmlns=\"http://www.w3.org/2000/svg\" height=\"24px\"viewBox=\"0 0 24 24\"\n",
              "       width=\"24px\">\n",
              "    <path d=\"M0 0h24v24H0V0z\" fill=\"none\"/>\n",
              "    <path d=\"M18.56 5.44l.94 2.06.94-2.06 2.06-.94-2.06-.94-.94-2.06-.94 2.06-2.06.94zm-11 1L8.5 8.5l.94-2.06 2.06-.94-2.06-.94L8.5 2.5l-.94 2.06-2.06.94zm10 10l.94 2.06.94-2.06 2.06-.94-2.06-.94-.94-2.06-.94 2.06-2.06.94z\"/><path d=\"M17.41 7.96l-1.37-1.37c-.4-.4-.92-.59-1.43-.59-.52 0-1.04.2-1.43.59L10.3 9.45l-7.72 7.72c-.78.78-.78 2.05 0 2.83L4 21.41c.39.39.9.59 1.41.59.51 0 1.02-.2 1.41-.59l7.78-7.78 2.81-2.81c.8-.78.8-2.07 0-2.86zM5.41 20L4 18.59l7.72-7.72 1.47 1.35L5.41 20z\"/>\n",
              "  </svg>\n",
              "      </button>\n",
              "      \n",
              "  <style>\n",
              "    .colab-df-container {\n",
              "      display:flex;\n",
              "      flex-wrap:wrap;\n",
              "      gap: 12px;\n",
              "    }\n",
              "\n",
              "    .colab-df-convert {\n",
              "      background-color: #E8F0FE;\n",
              "      border: none;\n",
              "      border-radius: 50%;\n",
              "      cursor: pointer;\n",
              "      display: none;\n",
              "      fill: #1967D2;\n",
              "      height: 32px;\n",
              "      padding: 0 0 0 0;\n",
              "      width: 32px;\n",
              "    }\n",
              "\n",
              "    .colab-df-convert:hover {\n",
              "      background-color: #E2EBFA;\n",
              "      box-shadow: 0px 1px 2px rgba(60, 64, 67, 0.3), 0px 1px 3px 1px rgba(60, 64, 67, 0.15);\n",
              "      fill: #174EA6;\n",
              "    }\n",
              "\n",
              "    [theme=dark] .colab-df-convert {\n",
              "      background-color: #3B4455;\n",
              "      fill: #D2E3FC;\n",
              "    }\n",
              "\n",
              "    [theme=dark] .colab-df-convert:hover {\n",
              "      background-color: #434B5C;\n",
              "      box-shadow: 0px 1px 3px 1px rgba(0, 0, 0, 0.15);\n",
              "      filter: drop-shadow(0px 1px 2px rgba(0, 0, 0, 0.3));\n",
              "      fill: #FFFFFF;\n",
              "    }\n",
              "  </style>\n",
              "\n",
              "      <script>\n",
              "        const buttonEl =\n",
              "          document.querySelector('#df-79878c93-eca7-4ce0-b426-ccb303ff2181 button.colab-df-convert');\n",
              "        buttonEl.style.display =\n",
              "          google.colab.kernel.accessAllowed ? 'block' : 'none';\n",
              "\n",
              "        async function convertToInteractive(key) {\n",
              "          const element = document.querySelector('#df-79878c93-eca7-4ce0-b426-ccb303ff2181');\n",
              "          const dataTable =\n",
              "            await google.colab.kernel.invokeFunction('convertToInteractive',\n",
              "                                                     [key], {});\n",
              "          if (!dataTable) return;\n",
              "\n",
              "          const docLinkHtml = 'Like what you see? Visit the ' +\n",
              "            '<a target=\"_blank\" href=https://colab.research.google.com/notebooks/data_table.ipynb>data table notebook</a>'\n",
              "            + ' to learn more about interactive tables.';\n",
              "          element.innerHTML = '';\n",
              "          dataTable['output_type'] = 'display_data';\n",
              "          await google.colab.output.renderOutput(dataTable, element);\n",
              "          const docLink = document.createElement('div');\n",
              "          docLink.innerHTML = docLinkHtml;\n",
              "          element.appendChild(docLink);\n",
              "        }\n",
              "      </script>\n",
              "    </div>\n",
              "  </div>\n",
              "  "
            ]
          },
          "metadata": {},
          "execution_count": 18
        }
      ]
    },
    {
      "cell_type": "code",
      "metadata": {
        "colab": {
          "base_uri": "https://localhost:8080/",
          "height": 383
        },
        "id": "fHq34tBzVTmc",
        "outputId": "c51ea622-93f3-47d5-c9e8-211a1cc658c3"
      },
      "source": [
        "#plotando os valores (sempre bom...)\n",
        "plt.figure(figsize=(10,10))  #define o tamanho da figura\n",
        "fig=plt.figure()\n",
        "ax=fig.add_axes([0,0,1,1])\n",
        "ax.scatter(df_in.index, df_in.temp, color='r')\n",
        "ax.scatter(df_out.index, df_out.temp, color='b')\n",
        "ax.set_xlabel('Indice')\n",
        "ax.set_ylabel('Temperatura (ºC)')\n",
        "ax.legend([\"Temp_IN\", \"Temp_Out\"])\n",
        "ax.set_title('scatter plot')\n",
        "plt.show()"
      ],
      "execution_count": 19,
      "outputs": [
        {
          "output_type": "display_data",
          "data": {
            "text/plain": [
              "<Figure size 720x720 with 0 Axes>"
            ]
          },
          "metadata": {}
        },
        {
          "output_type": "display_data",
          "data": {
            "text/plain": [
              "<Figure size 432x288 with 1 Axes>"
            ],
            "image/png": "[encoded data removed]"
          },
          "metadata": {
            "needs_background": "light"
          }
        }
      ]
    },
    {
      "cell_type": "code",
      "metadata": {
        "colab": {
          "base_uri": "https://localhost:8080/",
          "height": 265
        },
        "id": "8snm0n1dWG73",
        "outputId": "c91e9973-1732-4385-c869-41537850dd25"
      },
      "source": [
        "#identificando possíveis outliers por meio do boxplot das temperaturas internas\n",
        "df_in.boxplot(\"temp\");"
      ],
      "execution_count": 20,
      "outputs": [
        {
          "output_type": "display_data",
          "data": {
            "text/plain": [
              "<Figure size 432x288 with 1 Axes>"
            ],
            "image/png": "[encoded data removed]"
          },
          "metadata": {
            "needs_background": "light"
          }
        }
      ]
    },
    {
      "cell_type": "code",
      "metadata": {
        "colab": {
          "base_uri": "https://localhost:8080/",
          "height": 265
        },
        "id": "odMybKDUWUT0",
        "outputId": "dbec58ee-b18d-49df-ca43-b2a8c245b049"
      },
      "source": [
        "#identificando possíveis outliers por meio do boxplot das temperaturas externas\n",
        "df_out.boxplot(\"temp\");"
      ],
      "execution_count": 21,
      "outputs": [
        {
          "output_type": "display_data",
          "data": {
            "text/plain": [
              "<Figure size 432x288 with 1 Axes>"
            ],
            "image/png": "[encoded data removed]"
          },
          "metadata": {
            "needs_background": "light"
          }
        }
      ]
    },
    {
      "cell_type": "markdown",
      "metadata": {
        "id": "_XE5rnxiZZLi"
      },
      "source": [
        "**Sobre o boxplot dos dados de temperatura interna(in) e externa(out), o que podemos dizer sobre os possíveis outliers?**"
      ]
    },
    {
      "cell_type": "code",
      "metadata": {
        "id": "C7vG_uTSWanP"
      },
      "source": [
        "#verificando se os dados internos possuem uma distribuição normal por meio do histograma\n",
        "temperatura=df_in.sample(n=2000,random_state=32)['temp']            #selecionando 2000 amostra dos dados "
      ],
      "execution_count": 22,
      "outputs": []
    },
    {
      "cell_type": "code",
      "metadata": {
        "colab": {
          "base_uri": "https://localhost:8080/"
        },
        "id": "6jXubf3Ja-I4",
        "outputId": "e98c1174-47c3-4416-fbf3-5ef508b23092"
      },
      "source": [
        "temperatura"
      ],
      "execution_count": 23,
      "outputs": [
        {
          "output_type": "execute_result",
          "data": {
            "text/plain": [
              "77697    30\n",
              "65783    29\n",
              "84342    28\n",
              "4598     24\n",
              "94207    32\n",
              "         ..\n",
              "812      29\n",
              "21196    31\n",
              "445      29\n",
              "97111    29\n",
              "73737    28\n",
              "Name: temp, Length: 2000, dtype: int64"
            ]
          },
          "metadata": {},
          "execution_count": 23
        }
      ]
    },
    {
      "cell_type": "code",
      "metadata": {
        "colab": {
          "base_uri": "https://localhost:8080/",
          "height": 295
        },
        "id": "EQiK2lt5atWt",
        "outputId": "348201e9-4fd0-487a-b34c-1640e456a5a8"
      },
      "source": [
        "n, bins, patches = plt.hist(x=temperatura, bins='auto', color='#0504aa',\n",
        "                            alpha=0.7, rwidth=0.85)\n",
        "plt.grid(axis='y', alpha=0.75)\n",
        "plt.xlabel('Valor')\n",
        "plt.ylabel('Frequência')\n",
        "plt.title('Histograma para 2000 dados de temperatura');"
      ],
      "execution_count": 24,
      "outputs": [
        {
          "output_type": "display_data",
          "data": {
            "text/plain": [
              "<Figure size 432x288 with 1 Axes>"
            ],
            "image/png": "[encoded data removed]"
          },
          "metadata": {
            "needs_background": "light"
          }
        }
      ]
    },
    {
      "cell_type": "code",
      "metadata": {
        "colab": {
          "base_uri": "https://localhost:8080/"
        },
        "id": "g5QUgShzWmpw",
        "outputId": "db37f888-bbd3-41d1-eb6b-ae2940db9533"
      },
      "source": [
        "#utilizando o teste de D’Agostino’s Test para verificar a normalidade dos dados de temperatura\n",
        "from scipy.stats import normaltest                                      #módulo utilizado para a realização do teste de normalidade \n",
        "f_valor, p_valor = normaltest(temperatura)                              #aplica o teste sobre os dados\n",
        "print('f-valor=%.3f, p-valor=%.3f' % (f_valor, p_valor))\n",
        "alpha = 0.05                                                         #nível de significância\n",
        "if p_valor > alpha:\n",
        "\tprint('Não rejeita H0')\n",
        "else:\n",
        "\tprint('Rejeita H0')"
      ],
      "execution_count": 25,
      "outputs": [
        {
          "output_type": "stream",
          "name": "stdout",
          "text": [
            "f-valor=3.881, p-valor=0.144\n",
            "Não rejeita H0\n"
          ]
        }
      ]
    },
    {
      "cell_type": "markdown",
      "metadata": {
        "id": "8tktCGiQdcoV"
      },
      "source": [
        "**Analisando o histograma e o resultado do teste, o que podemos falar sobre a normalidade dos dados?**"
      ]
    },
    {
      "cell_type": "code",
      "metadata": {
        "colab": {
          "base_uri": "https://localhost:8080/"
        },
        "id": "JFWgOadpdz0O",
        "outputId": "8679da2c-ffd8-43c7-d476-93f93b8ce730"
      },
      "source": [
        "#modificando o tipo dos dados de data para o dataset das temperaturas de entrada\n",
        "df_in['noted_date']= pd.to_datetime(df_in['noted_date'],errors='coerce') \n",
        "df_in.info()"
      ],
      "execution_count": 26,
      "outputs": [
        {
          "output_type": "stream",
          "name": "stdout",
          "text": [
            "<class 'pandas.core.frame.DataFrame'>\n",
            "Int64Index: 20345 entries, 0 to 97605\n",
            "Data columns (total 5 columns):\n",
            " #   Column      Non-Null Count  Dtype         \n",
            "---  ------      --------------  -----         \n",
            " 0   id          20345 non-null  object        \n",
            " 1   room_id/id  20345 non-null  object        \n",
            " 2   noted_date  20345 non-null  datetime64[ns]\n",
            " 3   temp        20345 non-null  int64         \n",
            " 4   out/in      20345 non-null  object        \n",
            "dtypes: datetime64[ns](1), int64(1), object(3)\n",
            "memory usage: 953.7+ KB\n"
          ]
        },
        {
          "output_type": "stream",
          "name": "stderr",
          "text": [
            "/usr/local/lib/python3.7/dist-packages/ipykernel_launcher.py:2: SettingWithCopyWarning: \n",
            "A value is trying to be set on a copy of a slice from a DataFrame.\n",
            "Try using .loc[row_indexer,col_indexer] = value instead\n",
            "\n",
            "See the caveats in the documentation: https://pandas.pydata.org/pandas-docs/stable/user_guide/indexing.html#returning-a-view-versus-a-copy\n",
            "  \n"
          ]
        }
      ]
    },
    {
      "cell_type": "markdown",
      "metadata": {
        "id": "mFlR0U9AeQrn"
      },
      "source": [
        "**Quantos tipos de dados existem agora no df_in?**"
      ]
    },
    {
      "cell_type": "code",
      "source": [
        "df_in.shape"
      ],
      "metadata": {
        "id": "AdnNBm0LR1zp",
        "outputId": "ac1cdfa0-5eea-4085-93b1-1dbaea55225d",
        "colab": {
          "base_uri": "https://localhost:8080/"
        }
      },
      "execution_count": 27,
      "outputs": [
        {
          "output_type": "execute_result",
          "data": {
            "text/plain": [
              "(20345, 5)"
            ]
          },
          "metadata": {},
          "execution_count": 27
        }
      ]
    },
    {
      "cell_type": "code",
      "source": [
        "df_in.dtypes"
      ],
      "metadata": {
        "id": "hU9qnDyfhf5F",
        "outputId": "ab52b7e0-3153-4e9b-d804-0986c223a102",
        "colab": {
          "base_uri": "https://localhost:8080/"
        }
      },
      "execution_count": 29,
      "outputs": [
        {
          "output_type": "execute_result",
          "data": {
            "text/plain": [
              "id                    object\n",
              "room_id/id            object\n",
              "noted_date    datetime64[ns]\n",
              "temp                   int64\n",
              "out/in                object\n",
              "dtype: object"
            ]
          },
          "metadata": {},
          "execution_count": 29
        }
      ]
    },
    {
      "cell_type": "code",
      "source": [
        "df_in.dtypes.value_counts()"
      ],
      "metadata": {
        "id": "6bOCjBHbUaas",
        "outputId": "9c184dc4-213d-40fe-8cfa-77038d4079af",
        "colab": {
          "base_uri": "https://localhost:8080/"
        }
      },
      "execution_count": 31,
      "outputs": [
        {
          "output_type": "execute_result",
          "data": {
            "text/plain": [
              "object            3\n",
              "datetime64[ns]    1\n",
              "int64             1\n",
              "dtype: int64"
            ]
          },
          "metadata": {},
          "execution_count": 31
        }
      ]
    },
    {
      "cell_type": "markdown",
      "metadata": {
        "id": "JM25ZjKheXfN"
      },
      "source": [
        "**Após a transformação do tipo de dados, foram introduzidos valores nulos?**"
      ]
    },
    {
      "cell_type": "code",
      "source": [
        "df_in.isnull().sum()"
      ],
      "metadata": {
        "id": "_vBG0nlvSS5v",
        "outputId": "1b8b3e95-5d8b-4871-8b1e-34c9bc92b6f5",
        "colab": {
          "base_uri": "https://localhost:8080/"
        }
      },
      "execution_count": 32,
      "outputs": [
        {
          "output_type": "execute_result",
          "data": {
            "text/plain": [
              "id            0\n",
              "room_id/id    0\n",
              "noted_date    0\n",
              "temp          0\n",
              "out/in        0\n",
              "dtype: int64"
            ]
          },
          "metadata": {},
          "execution_count": 32
        }
      ]
    },
    {
      "cell_type": "code",
      "metadata": {
        "colab": {
          "base_uri": "https://localhost:8080/",
          "height": 206
        },
        "id": "3cp_-ZKgeN5-",
        "outputId": "1f948e4a-94a0-4fe4-ad62-d48ef1f6f7bc"
      },
      "source": [
        "#ordenando o dataset\n",
        "df_in=df_in.sort_values(by=['noted_date'])\n",
        "df_in.head()"
      ],
      "execution_count": 33,
      "outputs": [
        {
          "output_type": "execute_result",
          "data": {
            "text/plain": [
              "                                        id  room_id/id          noted_date  \\\n",
              "16218  __export__.temp_log_126924_cb744837  Room Admin 2018-01-11 00:06:00   \n",
              "16186  __export__.temp_log_128828_1f2ca69c  Room Admin 2018-01-11 02:12:00   \n",
              "16176  __export__.temp_log_142141_12bd7384  Room Admin 2018-01-11 02:44:00   \n",
              "16174  __export__.temp_log_106858_cdf61926  Room Admin 2018-01-11 02:46:00   \n",
              "16167  __export__.temp_log_120068_a0fc57cc  Room Admin 2018-01-11 02:58:00   \n",
              "\n",
              "       temp out/in  \n",
              "16218    32     In  \n",
              "16186    32     In  \n",
              "16176    32     In  \n",
              "16174    32     In  \n",
              "16167    31     In  "
            ],
            "text/html": [
              "\n",
              "  <div id=\"df-dff49bc0-78b8-40d4-b183-83e82ef58b35\">\n",
              "    <div class=\"colab-df-container\">\n",
              "      <div>\n",
              "<style scoped>\n",
              "    .dataframe tbody tr th:only-of-type {\n",
              "        vertical-align: middle;\n",
              "    }\n",
              "\n",
              "    .dataframe tbody tr th {\n",
              "        vertical-align: top;\n",
              "    }\n",
              "\n",
              "    .dataframe thead th {\n",
              "        text-align: right;\n",
              "    }\n",
              "</style>\n",
              "<table border=\"1\" class=\"dataframe\">\n",
              "  <thead>\n",
              "    <tr style=\"text-align: right;\">\n",
              "      <th></th>\n",
              "      <th>id</th>\n",
              "      <th>room_id/id</th>\n",
              "      <th>noted_date</th>\n",
              "      <th>temp</th>\n",
              "      <th>out/in</th>\n",
              "    </tr>\n",
              "  </thead>\n",
              "  <tbody>\n",
              "    <tr>\n",
              "      <th>16218</th>\n",
              "      <td>__export__.temp_log_126924_cb744837</td>\n",
              "      <td>Room Admin</td>\n",
              "      <td>2018-01-11 00:06:00</td>\n",
              "      <td>32</td>\n",
              "      <td>In</td>\n",
              "    </tr>\n",
              "    <tr>\n",
              "      <th>16186</th>\n",
              "      <td>__export__.temp_log_128828_1f2ca69c</td>\n",
              "      <td>Room Admin</td>\n",
              "      <td>2018-01-11 02:12:00</td>\n",
              "      <td>32</td>\n",
              "      <td>In</td>\n",
              "    </tr>\n",
              "    <tr>\n",
              "      <th>16176</th>\n",
              "      <td>__export__.temp_log_142141_12bd7384</td>\n",
              "      <td>Room Admin</td>\n",
              "      <td>2018-01-11 02:44:00</td>\n",
              "      <td>32</td>\n",
              "      <td>In</td>\n",
              "    </tr>\n",
              "    <tr>\n",
              "      <th>16174</th>\n",
              "      <td>__export__.temp_log_106858_cdf61926</td>\n",
              "      <td>Room Admin</td>\n",
              "      <td>2018-01-11 02:46:00</td>\n",
              "      <td>32</td>\n",
              "      <td>In</td>\n",
              "    </tr>\n",
              "    <tr>\n",
              "      <th>16167</th>\n",
              "      <td>__export__.temp_log_120068_a0fc57cc</td>\n",
              "      <td>Room Admin</td>\n",
              "      <td>2018-01-11 02:58:00</td>\n",
              "      <td>31</td>\n",
              "      <td>In</td>\n",
              "    </tr>\n",
              "  </tbody>\n",
              "</table>\n",
              "</div>\n",
              "      <button class=\"colab-df-convert\" onclick=\"convertToInteractive('df-dff49bc0-78b8-40d4-b183-83e82ef58b35')\"\n",
              "              title=\"Convert this dataframe to an interactive table.\"\n",
              "              style=\"display:none;\">\n",
              "        \n",
              "  <svg xmlns=\"http://www.w3.org/2000/svg\" height=\"24px\"viewBox=\"0 0 24 24\"\n",
              "       width=\"24px\">\n",
              "    <path d=\"M0 0h24v24H0V0z\" fill=\"none\"/>\n",
              "    <path d=\"M18.56 5.44l.94 2.06.94-2.06 2.06-.94-2.06-.94-.94-2.06-.94 2.06-2.06.94zm-11 1L8.5 8.5l.94-2.06 2.06-.94-2.06-.94L8.5 2.5l-.94 2.06-2.06.94zm10 10l.94 2.06.94-2.06 2.06-.94-2.06-.94-.94-2.06-.94 2.06-2.06.94z\"/><path d=\"M17.41 7.96l-1.37-1.37c-.4-.4-.92-.59-1.43-.59-.52 0-1.04.2-1.43.59L10.3 9.45l-7.72 7.72c-.78.78-.78 2.05 0 2.83L4 21.41c.39.39.9.59 1.41.59.51 0 1.02-.2 1.41-.59l7.78-7.78 2.81-2.81c.8-.78.8-2.07 0-2.86zM5.41 20L4 18.59l7.72-7.72 1.47 1.35L5.41 20z\"/>\n",
              "  </svg>\n",
              "      </button>\n",
              "      \n",
              "  <style>\n",
              "    .colab-df-container {\n",
              "      display:flex;\n",
              "      flex-wrap:wrap;\n",
              "      gap: 12px;\n",
              "    }\n",
              "\n",
              "    .colab-df-convert {\n",
              "      background-color: #E8F0FE;\n",
              "      border: none;\n",
              "      border-radius: 50%;\n",
              "      cursor: pointer;\n",
              "      display: none;\n",
              "      fill: #1967D2;\n",
              "      height: 32px;\n",
              "      padding: 0 0 0 0;\n",
              "      width: 32px;\n",
              "    }\n",
              "\n",
              "    .colab-df-convert:hover {\n",
              "      background-color: #E2EBFA;\n",
              "      box-shadow: 0px 1px 2px rgba(60, 64, 67, 0.3), 0px 1px 3px 1px rgba(60, 64, 67, 0.15);\n",
              "      fill: #174EA6;\n",
              "    }\n",
              "\n",
              "    [theme=dark] .colab-df-convert {\n",
              "      background-color: #3B4455;\n",
              "      fill: #D2E3FC;\n",
              "    }\n",
              "\n",
              "    [theme=dark] .colab-df-convert:hover {\n",
              "      background-color: #434B5C;\n",
              "      box-shadow: 0px 1px 3px 1px rgba(0, 0, 0, 0.15);\n",
              "      filter: drop-shadow(0px 1px 2px rgba(0, 0, 0, 0.3));\n",
              "      fill: #FFFFFF;\n",
              "    }\n",
              "  </style>\n",
              "\n",
              "      <script>\n",
              "        const buttonEl =\n",
              "          document.querySelector('#df-dff49bc0-78b8-40d4-b183-83e82ef58b35 button.colab-df-convert');\n",
              "        buttonEl.style.display =\n",
              "          google.colab.kernel.accessAllowed ? 'block' : 'none';\n",
              "\n",
              "        async function convertToInteractive(key) {\n",
              "          const element = document.querySelector('#df-dff49bc0-78b8-40d4-b183-83e82ef58b35');\n",
              "          const dataTable =\n",
              "            await google.colab.kernel.invokeFunction('convertToInteractive',\n",
              "                                                     [key], {});\n",
              "          if (!dataTable) return;\n",
              "\n",
              "          const docLinkHtml = 'Like what you see? Visit the ' +\n",
              "            '<a target=\"_blank\" href=https://colab.research.google.com/notebooks/data_table.ipynb>data table notebook</a>'\n",
              "            + ' to learn more about interactive tables.';\n",
              "          element.innerHTML = '';\n",
              "          dataTable['output_type'] = 'display_data';\n",
              "          await google.colab.output.renderOutput(dataTable, element);\n",
              "          const docLink = document.createElement('div');\n",
              "          docLink.innerHTML = docLinkHtml;\n",
              "          element.appendChild(docLink);\n",
              "        }\n",
              "      </script>\n",
              "    </div>\n",
              "  </div>\n",
              "  "
            ]
          },
          "metadata": {},
          "execution_count": 33
        }
      ]
    },
    {
      "cell_type": "code",
      "metadata": {
        "colab": {
          "base_uri": "https://localhost:8080/",
          "height": 424
        },
        "id": "uJLcwiJrgPTh",
        "outputId": "40f0722b-48f8-4458-a607-f04492d10d56"
      },
      "source": [
        "#aplicando o reset de index\n",
        "df_in.reset_index(drop=True)"
      ],
      "execution_count": 34,
      "outputs": [
        {
          "output_type": "execute_result",
          "data": {
            "text/plain": [
              "                                        id  room_id/id          noted_date  \\\n",
              "0      __export__.temp_log_126924_cb744837  Room Admin 2018-01-11 00:06:00   \n",
              "1      __export__.temp_log_128828_1f2ca69c  Room Admin 2018-01-11 02:12:00   \n",
              "2      __export__.temp_log_142141_12bd7384  Room Admin 2018-01-11 02:44:00   \n",
              "3      __export__.temp_log_106858_cdf61926  Room Admin 2018-01-11 02:46:00   \n",
              "4      __export__.temp_log_120068_a0fc57cc  Room Admin 2018-01-11 02:58:00   \n",
              "...                                    ...         ...                 ...   \n",
              "20340   __export__.temp_log_41083_917dc7ae  Room Admin 2018-12-10 20:25:00   \n",
              "20341   __export__.temp_log_41090_c0ed0bd1  Room Admin 2018-12-10 20:35:00   \n",
              "20342   __export__.temp_log_41091_8546ae99  Room Admin 2018-12-10 20:37:00   \n",
              "20343   __export__.temp_log_41129_77d8da57  Room Admin 2018-12-10 21:31:00   \n",
              "20344   __export__.temp_log_41130_13e2eff7  Room Admin 2018-12-10 21:33:00   \n",
              "\n",
              "       temp out/in  \n",
              "0        32     In  \n",
              "1        32     In  \n",
              "2        32     In  \n",
              "3        32     In  \n",
              "4        31     In  \n",
              "...     ...    ...  \n",
              "20340    35     In  \n",
              "20341    34     In  \n",
              "20342    35     In  \n",
              "20343    34     In  \n",
              "20344    35     In  \n",
              "\n",
              "[20345 rows x 5 columns]"
            ],
            "text/html": [
              "\n",
              "  <div id=\"df-cc98a05e-b49e-4416-a930-d8e0a7c8e06f\">\n",
              "    <div class=\"colab-df-container\">\n",
              "      <div>\n",
              "<style scoped>\n",
              "    .dataframe tbody tr th:only-of-type {\n",
              "        vertical-align: middle;\n",
              "    }\n",
              "\n",
              "    .dataframe tbody tr th {\n",
              "        vertical-align: top;\n",
              "    }\n",
              "\n",
              "    .dataframe thead th {\n",
              "        text-align: right;\n",
              "    }\n",
              "</style>\n",
              "<table border=\"1\" class=\"dataframe\">\n",
              "  <thead>\n",
              "    <tr style=\"text-align: right;\">\n",
              "      <th></th>\n",
              "      <th>id</th>\n",
              "      <th>room_id/id</th>\n",
              "      <th>noted_date</th>\n",
              "      <th>temp</th>\n",
              "      <th>out/in</th>\n",
              "    </tr>\n",
              "  </thead>\n",
              "  <tbody>\n",
              "    <tr>\n",
              "      <th>0</th>\n",
              "      <td>__export__.temp_log_126924_cb744837</td>\n",
              "      <td>Room Admin</td>\n",
              "      <td>2018-01-11 00:06:00</td>\n",
              "      <td>32</td>\n",
              "      <td>In</td>\n",
              "    </tr>\n",
              "    <tr>\n",
              "      <th>1</th>\n",
              "      <td>__export__.temp_log_128828_1f2ca69c</td>\n",
              "      <td>Room Admin</td>\n",
              "      <td>2018-01-11 02:12:00</td>\n",
              "      <td>32</td>\n",
              "      <td>In</td>\n",
              "    </tr>\n",
              "    <tr>\n",
              "      <th>2</th>\n",
              "      <td>__export__.temp_log_142141_12bd7384</td>\n",
              "      <td>Room Admin</td>\n",
              "      <td>2018-01-11 02:44:00</td>\n",
              "      <td>32</td>\n",
              "      <td>In</td>\n",
              "    </tr>\n",
              "    <tr>\n",
              "      <th>3</th>\n",
              "      <td>__export__.temp_log_106858_cdf61926</td>\n",
              "      <td>Room Admin</td>\n",
              "      <td>2018-01-11 02:46:00</td>\n",
              "      <td>32</td>\n",
              "      <td>In</td>\n",
              "    </tr>\n",
              "    <tr>\n",
              "      <th>4</th>\n",
              "      <td>__export__.temp_log_120068_a0fc57cc</td>\n",
              "      <td>Room Admin</td>\n",
              "      <td>2018-01-11 02:58:00</td>\n",
              "      <td>31</td>\n",
              "      <td>In</td>\n",
              "    </tr>\n",
              "    <tr>\n",
              "      <th>...</th>\n",
              "      <td>...</td>\n",
              "      <td>...</td>\n",
              "      <td>...</td>\n",
              "      <td>...</td>\n",
              "      <td>...</td>\n",
              "    </tr>\n",
              "    <tr>\n",
              "      <th>20340</th>\n",
              "      <td>__export__.temp_log_41083_917dc7ae</td>\n",
              "      <td>Room Admin</td>\n",
              "      <td>2018-12-10 20:25:00</td>\n",
              "      <td>35</td>\n",
              "      <td>In</td>\n",
              "    </tr>\n",
              "    <tr>\n",
              "      <th>20341</th>\n",
              "      <td>__export__.temp_log_41090_c0ed0bd1</td>\n",
              "      <td>Room Admin</td>\n",
              "      <td>2018-12-10 20:35:00</td>\n",
              "      <td>34</td>\n",
              "      <td>In</td>\n",
              "    </tr>\n",
              "    <tr>\n",
              "      <th>20342</th>\n",
              "      <td>__export__.temp_log_41091_8546ae99</td>\n",
              "      <td>Room Admin</td>\n",
              "      <td>2018-12-10 20:37:00</td>\n",
              "      <td>35</td>\n",
              "      <td>In</td>\n",
              "    </tr>\n",
              "    <tr>\n",
              "      <th>20343</th>\n",
              "      <td>__export__.temp_log_41129_77d8da57</td>\n",
              "      <td>Room Admin</td>\n",
              "      <td>2018-12-10 21:31:00</td>\n",
              "      <td>34</td>\n",
              "      <td>In</td>\n",
              "    </tr>\n",
              "    <tr>\n",
              "      <th>20344</th>\n",
              "      <td>__export__.temp_log_41130_13e2eff7</td>\n",
              "      <td>Room Admin</td>\n",
              "      <td>2018-12-10 21:33:00</td>\n",
              "      <td>35</td>\n",
              "      <td>In</td>\n",
              "    </tr>\n",
              "  </tbody>\n",
              "</table>\n",
              "<p>20345 rows × 5 columns</p>\n",
              "</div>\n",
              "      <button class=\"colab-df-convert\" onclick=\"convertToInteractive('df-cc98a05e-b49e-4416-a930-d8e0a7c8e06f')\"\n",
              "              title=\"Convert this dataframe to an interactive table.\"\n",
              "              style=\"display:none;\">\n",
              "        \n",
              "  <svg xmlns=\"http://www.w3.org/2000/svg\" height=\"24px\"viewBox=\"0 0 24 24\"\n",
              "       width=\"24px\">\n",
              "    <path d=\"M0 0h24v24H0V0z\" fill=\"none\"/>\n",
              "    <path d=\"M18.56 5.44l.94 2.06.94-2.06 2.06-.94-2.06-.94-.94-2.06-.94 2.06-2.06.94zm-11 1L8.5 8.5l.94-2.06 2.06-.94-2.06-.94L8.5 2.5l-.94 2.06-2.06.94zm10 10l.94 2.06.94-2.06 2.06-.94-2.06-.94-.94-2.06-.94 2.06-2.06.94z\"/><path d=\"M17.41 7.96l-1.37-1.37c-.4-.4-.92-.59-1.43-.59-.52 0-1.04.2-1.43.59L10.3 9.45l-7.72 7.72c-.78.78-.78 2.05 0 2.83L4 21.41c.39.39.9.59 1.41.59.51 0 1.02-.2 1.41-.59l7.78-7.78 2.81-2.81c.8-.78.8-2.07 0-2.86zM5.41 20L4 18.59l7.72-7.72 1.47 1.35L5.41 20z\"/>\n",
              "  </svg>\n",
              "      </button>\n",
              "      \n",
              "  <style>\n",
              "    .colab-df-container {\n",
              "      display:flex;\n",
              "      flex-wrap:wrap;\n",
              "      gap: 12px;\n",
              "    }\n",
              "\n",
              "    .colab-df-convert {\n",
              "      background-color: #E8F0FE;\n",
              "      border: none;\n",
              "      border-radius: 50%;\n",
              "      cursor: pointer;\n",
              "      display: none;\n",
              "      fill: #1967D2;\n",
              "      height: 32px;\n",
              "      padding: 0 0 0 0;\n",
              "      width: 32px;\n",
              "    }\n",
              "\n",
              "    .colab-df-convert:hover {\n",
              "      background-color: #E2EBFA;\n",
              "      box-shadow: 0px 1px 2px rgba(60, 64, 67, 0.3), 0px 1px 3px 1px rgba(60, 64, 67, 0.15);\n",
              "      fill: #174EA6;\n",
              "    }\n",
              "\n",
              "    [theme=dark] .colab-df-convert {\n",
              "      background-color: #3B4455;\n",
              "      fill: #D2E3FC;\n",
              "    }\n",
              "\n",
              "    [theme=dark] .colab-df-convert:hover {\n",
              "      background-color: #434B5C;\n",
              "      box-shadow: 0px 1px 3px 1px rgba(0, 0, 0, 0.15);\n",
              "      filter: drop-shadow(0px 1px 2px rgba(0, 0, 0, 0.3));\n",
              "      fill: #FFFFFF;\n",
              "    }\n",
              "  </style>\n",
              "\n",
              "      <script>\n",
              "        const buttonEl =\n",
              "          document.querySelector('#df-cc98a05e-b49e-4416-a930-d8e0a7c8e06f button.colab-df-convert');\n",
              "        buttonEl.style.display =\n",
              "          google.colab.kernel.accessAllowed ? 'block' : 'none';\n",
              "\n",
              "        async function convertToInteractive(key) {\n",
              "          const element = document.querySelector('#df-cc98a05e-b49e-4416-a930-d8e0a7c8e06f');\n",
              "          const dataTable =\n",
              "            await google.colab.kernel.invokeFunction('convertToInteractive',\n",
              "                                                     [key], {});\n",
              "          if (!dataTable) return;\n",
              "\n",
              "          const docLinkHtml = 'Like what you see? Visit the ' +\n",
              "            '<a target=\"_blank\" href=https://colab.research.google.com/notebooks/data_table.ipynb>data table notebook</a>'\n",
              "            + ' to learn more about interactive tables.';\n",
              "          element.innerHTML = '';\n",
              "          dataTable['output_type'] = 'display_data';\n",
              "          await google.colab.output.renderOutput(dataTable, element);\n",
              "          const docLink = document.createElement('div');\n",
              "          docLink.innerHTML = docLinkHtml;\n",
              "          element.appendChild(docLink);\n",
              "        }\n",
              "      </script>\n",
              "    </div>\n",
              "  </div>\n",
              "  "
            ]
          },
          "metadata": {},
          "execution_count": 34
        }
      ]
    },
    {
      "cell_type": "code",
      "metadata": {
        "colab": {
          "base_uri": "https://localhost:8080/",
          "height": 528
        },
        "id": "90C9TA5dgSrC",
        "outputId": "cdfffa05-6c6f-4f13-c265-ecd8f417ba75"
      },
      "source": [
        "#aplicando o mesmo procedimento para o dataframe de out\n",
        "#modificando o tipo de dados \n",
        "df_out['noted_date']= pd.to_datetime(df_out['noted_date']) \n",
        "df_out=df_out.sort_values(by=['noted_date'])\n",
        "df_out.reset_index(drop=True)"
      ],
      "execution_count": 35,
      "outputs": [
        {
          "output_type": "stream",
          "name": "stderr",
          "text": [
            "/usr/local/lib/python3.7/dist-packages/ipykernel_launcher.py:3: SettingWithCopyWarning: \n",
            "A value is trying to be set on a copy of a slice from a DataFrame.\n",
            "Try using .loc[row_indexer,col_indexer] = value instead\n",
            "\n",
            "See the caveats in the documentation: https://pandas.pydata.org/pandas-docs/stable/user_guide/indexing.html#returning-a-view-versus-a-copy\n",
            "  This is separate from the ipykernel package so we can avoid doing imports until\n"
          ]
        },
        {
          "output_type": "execute_result",
          "data": {
            "text/plain": [
              "                                        id  room_id/id          noted_date  \\\n",
              "0      __export__.temp_log_146101_e61c18d4  Room Admin 2018-01-11 00:07:00   \n",
              "1      __export__.temp_log_111262_7b3ed086  Room Admin 2018-01-11 00:09:00   \n",
              "2      __export__.temp_log_147650_344507e9  Room Admin 2018-01-11 00:13:00   \n",
              "3      __export__.temp_log_139505_cd77d7f9  Room Admin 2018-01-11 00:23:00   \n",
              "4      __export__.temp_log_127981_32c85db7  Room Admin 2018-01-11 00:25:00   \n",
              "...                                    ...         ...                 ...   \n",
              "77256   __export__.temp_log_41241_36e995ef  Room Admin 2018-12-10 23:41:00   \n",
              "77257   __export__.temp_log_41244_1cef6363  Room Admin 2018-12-10 23:43:00   \n",
              "77258   __export__.temp_log_41249_7d6819cd  Room Admin 2018-12-10 23:49:00   \n",
              "77259   __export__.temp_log_41250_eed95540  Room Admin 2018-12-10 23:51:00   \n",
              "77260   __export__.temp_log_41254_5b6ff69c  Room Admin 2018-12-10 23:55:00   \n",
              "\n",
              "       temp out/in  \n",
              "0        40    Out  \n",
              "1        39    Out  \n",
              "2        40    Out  \n",
              "3        40    Out  \n",
              "4        40    Out  \n",
              "...     ...    ...  \n",
              "77256    44    Out  \n",
              "77257    44    Out  \n",
              "77258    44    Out  \n",
              "77259    45    Out  \n",
              "77260    44    Out  \n",
              "\n",
              "[77261 rows x 5 columns]"
            ],
            "text/html": [
              "\n",
              "  <div id=\"df-68dc952f-0681-4d98-8e7b-322761dfb597\">\n",
              "    <div class=\"colab-df-container\">\n",
              "      <div>\n",
              "<style scoped>\n",
              "    .dataframe tbody tr th:only-of-type {\n",
              "        vertical-align: middle;\n",
              "    }\n",
              "\n",
              "    .dataframe tbody tr th {\n",
              "        vertical-align: top;\n",
              "    }\n",
              "\n",
              "    .dataframe thead th {\n",
              "        text-align: right;\n",
              "    }\n",
              "</style>\n",
              "<table border=\"1\" class=\"dataframe\">\n",
              "  <thead>\n",
              "    <tr style=\"text-align: right;\">\n",
              "      <th></th>\n",
              "      <th>id</th>\n",
              "      <th>room_id/id</th>\n",
              "      <th>noted_date</th>\n",
              "      <th>temp</th>\n",
              "      <th>out/in</th>\n",
              "    </tr>\n",
              "  </thead>\n",
              "  <tbody>\n",
              "    <tr>\n",
              "      <th>0</th>\n",
              "      <td>__export__.temp_log_146101_e61c18d4</td>\n",
              "      <td>Room Admin</td>\n",
              "      <td>2018-01-11 00:07:00</td>\n",
              "      <td>40</td>\n",
              "      <td>Out</td>\n",
              "    </tr>\n",
              "    <tr>\n",
              "      <th>1</th>\n",
              "      <td>__export__.temp_log_111262_7b3ed086</td>\n",
              "      <td>Room Admin</td>\n",
              "      <td>2018-01-11 00:09:00</td>\n",
              "      <td>39</td>\n",
              "      <td>Out</td>\n",
              "    </tr>\n",
              "    <tr>\n",
              "      <th>2</th>\n",
              "      <td>__export__.temp_log_147650_344507e9</td>\n",
              "      <td>Room Admin</td>\n",
              "      <td>2018-01-11 00:13:00</td>\n",
              "      <td>40</td>\n",
              "      <td>Out</td>\n",
              "    </tr>\n",
              "    <tr>\n",
              "      <th>3</th>\n",
              "      <td>__export__.temp_log_139505_cd77d7f9</td>\n",
              "      <td>Room Admin</td>\n",
              "      <td>2018-01-11 00:23:00</td>\n",
              "      <td>40</td>\n",
              "      <td>Out</td>\n",
              "    </tr>\n",
              "    <tr>\n",
              "      <th>4</th>\n",
              "      <td>__export__.temp_log_127981_32c85db7</td>\n",
              "      <td>Room Admin</td>\n",
              "      <td>2018-01-11 00:25:00</td>\n",
              "      <td>40</td>\n",
              "      <td>Out</td>\n",
              "    </tr>\n",
              "    <tr>\n",
              "      <th>...</th>\n",
              "      <td>...</td>\n",
              "      <td>...</td>\n",
              "      <td>...</td>\n",
              "      <td>...</td>\n",
              "      <td>...</td>\n",
              "    </tr>\n",
              "    <tr>\n",
              "      <th>77256</th>\n",
              "      <td>__export__.temp_log_41241_36e995ef</td>\n",
              "      <td>Room Admin</td>\n",
              "      <td>2018-12-10 23:41:00</td>\n",
              "      <td>44</td>\n",
              "      <td>Out</td>\n",
              "    </tr>\n",
              "    <tr>\n",
              "      <th>77257</th>\n",
              "      <td>__export__.temp_log_41244_1cef6363</td>\n",
              "      <td>Room Admin</td>\n",
              "      <td>2018-12-10 23:43:00</td>\n",
              "      <td>44</td>\n",
              "      <td>Out</td>\n",
              "    </tr>\n",
              "    <tr>\n",
              "      <th>77258</th>\n",
              "      <td>__export__.temp_log_41249_7d6819cd</td>\n",
              "      <td>Room Admin</td>\n",
              "      <td>2018-12-10 23:49:00</td>\n",
              "      <td>44</td>\n",
              "      <td>Out</td>\n",
              "    </tr>\n",
              "    <tr>\n",
              "      <th>77259</th>\n",
              "      <td>__export__.temp_log_41250_eed95540</td>\n",
              "      <td>Room Admin</td>\n",
              "      <td>2018-12-10 23:51:00</td>\n",
              "      <td>45</td>\n",
              "      <td>Out</td>\n",
              "    </tr>\n",
              "    <tr>\n",
              "      <th>77260</th>\n",
              "      <td>__export__.temp_log_41254_5b6ff69c</td>\n",
              "      <td>Room Admin</td>\n",
              "      <td>2018-12-10 23:55:00</td>\n",
              "      <td>44</td>\n",
              "      <td>Out</td>\n",
              "    </tr>\n",
              "  </tbody>\n",
              "</table>\n",
              "<p>77261 rows × 5 columns</p>\n",
              "</div>\n",
              "      <button class=\"colab-df-convert\" onclick=\"convertToInteractive('df-68dc952f-0681-4d98-8e7b-322761dfb597')\"\n",
              "              title=\"Convert this dataframe to an interactive table.\"\n",
              "              style=\"display:none;\">\n",
              "        \n",
              "  <svg xmlns=\"http://www.w3.org/2000/svg\" height=\"24px\"viewBox=\"0 0 24 24\"\n",
              "       width=\"24px\">\n",
              "    <path d=\"M0 0h24v24H0V0z\" fill=\"none\"/>\n",
              "    <path d=\"M18.56 5.44l.94 2.06.94-2.06 2.06-.94-2.06-.94-.94-2.06-.94 2.06-2.06.94zm-11 1L8.5 8.5l.94-2.06 2.06-.94-2.06-.94L8.5 2.5l-.94 2.06-2.06.94zm10 10l.94 2.06.94-2.06 2.06-.94-2.06-.94-.94-2.06-.94 2.06-2.06.94z\"/><path d=\"M17.41 7.96l-1.37-1.37c-.4-.4-.92-.59-1.43-.59-.52 0-1.04.2-1.43.59L10.3 9.45l-7.72 7.72c-.78.78-.78 2.05 0 2.83L4 21.41c.39.39.9.59 1.41.59.51 0 1.02-.2 1.41-.59l7.78-7.78 2.81-2.81c.8-.78.8-2.07 0-2.86zM5.41 20L4 18.59l7.72-7.72 1.47 1.35L5.41 20z\"/>\n",
              "  </svg>\n",
              "      </button>\n",
              "      \n",
              "  <style>\n",
              "    .colab-df-container {\n",
              "      display:flex;\n",
              "      flex-wrap:wrap;\n",
              "      gap: 12px;\n",
              "    }\n",
              "\n",
              "    .colab-df-convert {\n",
              "      background-color: #E8F0FE;\n",
              "      border: none;\n",
              "      border-radius: 50%;\n",
              "      cursor: pointer;\n",
              "      display: none;\n",
              "      fill: #1967D2;\n",
              "      height: 32px;\n",
              "      padding: 0 0 0 0;\n",
              "      width: 32px;\n",
              "    }\n",
              "\n",
              "    .colab-df-convert:hover {\n",
              "      background-color: #E2EBFA;\n",
              "      box-shadow: 0px 1px 2px rgba(60, 64, 67, 0.3), 0px 1px 3px 1px rgba(60, 64, 67, 0.15);\n",
              "      fill: #174EA6;\n",
              "    }\n",
              "\n",
              "    [theme=dark] .colab-df-convert {\n",
              "      background-color: #3B4455;\n",
              "      fill: #D2E3FC;\n",
              "    }\n",
              "\n",
              "    [theme=dark] .colab-df-convert:hover {\n",
              "      background-color: #434B5C;\n",
              "      box-shadow: 0px 1px 3px 1px rgba(0, 0, 0, 0.15);\n",
              "      filter: drop-shadow(0px 1px 2px rgba(0, 0, 0, 0.3));\n",
              "      fill: #FFFFFF;\n",
              "    }\n",
              "  </style>\n",
              "\n",
              "      <script>\n",
              "        const buttonEl =\n",
              "          document.querySelector('#df-68dc952f-0681-4d98-8e7b-322761dfb597 button.colab-df-convert');\n",
              "        buttonEl.style.display =\n",
              "          google.colab.kernel.accessAllowed ? 'block' : 'none';\n",
              "\n",
              "        async function convertToInteractive(key) {\n",
              "          const element = document.querySelector('#df-68dc952f-0681-4d98-8e7b-322761dfb597');\n",
              "          const dataTable =\n",
              "            await google.colab.kernel.invokeFunction('convertToInteractive',\n",
              "                                                     [key], {});\n",
              "          if (!dataTable) return;\n",
              "\n",
              "          const docLinkHtml = 'Like what you see? Visit the ' +\n",
              "            '<a target=\"_blank\" href=https://colab.research.google.com/notebooks/data_table.ipynb>data table notebook</a>'\n",
              "            + ' to learn more about interactive tables.';\n",
              "          element.innerHTML = '';\n",
              "          dataTable['output_type'] = 'display_data';\n",
              "          await google.colab.output.renderOutput(dataTable, element);\n",
              "          const docLink = document.createElement('div');\n",
              "          docLink.innerHTML = docLinkHtml;\n",
              "          element.appendChild(docLink);\n",
              "        }\n",
              "      </script>\n",
              "    </div>\n",
              "  </div>\n",
              "  "
            ]
          },
          "metadata": {},
          "execution_count": 35
        }
      ]
    },
    {
      "cell_type": "code",
      "metadata": {
        "colab": {
          "base_uri": "https://localhost:8080/"
        },
        "id": "YXlbtJQeghUd",
        "outputId": "087d2ab9-b908-473e-9348-f8bea36bb576"
      },
      "source": [
        "print(\"Registros existentes no df_IN: \",df_in.count()[0])\n",
        "print(\"Registros existentes no df_OUt: \",df_out.count()[0])"
      ],
      "execution_count": 36,
      "outputs": [
        {
          "output_type": "stream",
          "name": "stdout",
          "text": [
            "Registros existentes no df_IN:  20345\n",
            "Registros existentes no df_OUt:  77261\n"
          ]
        }
      ]
    },
    {
      "cell_type": "code",
      "metadata": {
        "colab": {
          "base_uri": "https://localhost:8080/",
          "height": 206
        },
        "id": "UsrWfJO3gy7c",
        "outputId": "e4407716-eefd-41dd-ee63-69bb5a587413"
      },
      "source": [
        "#comparando as duas temperaturas \"estatísticamente\"\n",
        "frame = { 'temp_in': df_in.temp, 'temp_out': df_out.temp } \n",
        "df_in_out=pd.DataFrame(frame)\n",
        "df_in_out.head()"
      ],
      "execution_count": 37,
      "outputs": [
        {
          "output_type": "execute_result",
          "data": {
            "text/plain": [
              "   temp_in  temp_out\n",
              "0     29.0       NaN\n",
              "1     29.0       NaN\n",
              "2      NaN      41.0\n",
              "3      NaN      41.0\n",
              "4     31.0       NaN"
            ],
            "text/html": [
              "\n",
              "  <div id=\"df-41b68c94-2d31-47c0-aeeb-189ec90e873a\">\n",
              "    <div class=\"colab-df-container\">\n",
              "      <div>\n",
              "<style scoped>\n",
              "    .dataframe tbody tr th:only-of-type {\n",
              "        vertical-align: middle;\n",
              "    }\n",
              "\n",
              "    .dataframe tbody tr th {\n",
              "        vertical-align: top;\n",
              "    }\n",
              "\n",
              "    .dataframe thead th {\n",
              "        text-align: right;\n",
              "    }\n",
              "</style>\n",
              "<table border=\"1\" class=\"dataframe\">\n",
              "  <thead>\n",
              "    <tr style=\"text-align: right;\">\n",
              "      <th></th>\n",
              "      <th>temp_in</th>\n",
              "      <th>temp_out</th>\n",
              "    </tr>\n",
              "  </thead>\n",
              "  <tbody>\n",
              "    <tr>\n",
              "      <th>0</th>\n",
              "      <td>29.0</td>\n",
              "      <td>NaN</td>\n",
              "    </tr>\n",
              "    <tr>\n",
              "      <th>1</th>\n",
              "      <td>29.0</td>\n",
              "      <td>NaN</td>\n",
              "    </tr>\n",
              "    <tr>\n",
              "      <th>2</th>\n",
              "      <td>NaN</td>\n",
              "      <td>41.0</td>\n",
              "    </tr>\n",
              "    <tr>\n",
              "      <th>3</th>\n",
              "      <td>NaN</td>\n",
              "      <td>41.0</td>\n",
              "    </tr>\n",
              "    <tr>\n",
              "      <th>4</th>\n",
              "      <td>31.0</td>\n",
              "      <td>NaN</td>\n",
              "    </tr>\n",
              "  </tbody>\n",
              "</table>\n",
              "</div>\n",
              "      <button class=\"colab-df-convert\" onclick=\"convertToInteractive('df-41b68c94-2d31-47c0-aeeb-189ec90e873a')\"\n",
              "              title=\"Convert this dataframe to an interactive table.\"\n",
              "              style=\"display:none;\">\n",
              "        \n",
              "  <svg xmlns=\"http://www.w3.org/2000/svg\" height=\"24px\"viewBox=\"0 0 24 24\"\n",
              "       width=\"24px\">\n",
              "    <path d=\"M0 0h24v24H0V0z\" fill=\"none\"/>\n",
              "    <path d=\"M18.56 5.44l.94 2.06.94-2.06 2.06-.94-2.06-.94-.94-2.06-.94 2.06-2.06.94zm-11 1L8.5 8.5l.94-2.06 2.06-.94-2.06-.94L8.5 2.5l-.94 2.06-2.06.94zm10 10l.94 2.06.94-2.06 2.06-.94-2.06-.94-.94-2.06-.94 2.06-2.06.94z\"/><path d=\"M17.41 7.96l-1.37-1.37c-.4-.4-.92-.59-1.43-.59-.52 0-1.04.2-1.43.59L10.3 9.45l-7.72 7.72c-.78.78-.78 2.05 0 2.83L4 21.41c.39.39.9.59 1.41.59.51 0 1.02-.2 1.41-.59l7.78-7.78 2.81-2.81c.8-.78.8-2.07 0-2.86zM5.41 20L4 18.59l7.72-7.72 1.47 1.35L5.41 20z\"/>\n",
              "  </svg>\n",
              "      </button>\n",
              "      \n",
              "  <style>\n",
              "    .colab-df-container {\n",
              "      display:flex;\n",
              "      flex-wrap:wrap;\n",
              "      gap: 12px;\n",
              "    }\n",
              "\n",
              "    .colab-df-convert {\n",
              "      background-color: #E8F0FE;\n",
              "      border: none;\n",
              "      border-radius: 50%;\n",
              "      cursor: pointer;\n",
              "      display: none;\n",
              "      fill: #1967D2;\n",
              "      height: 32px;\n",
              "      padding: 0 0 0 0;\n",
              "      width: 32px;\n",
              "    }\n",
              "\n",
              "    .colab-df-convert:hover {\n",
              "      background-color: #E2EBFA;\n",
              "      box-shadow: 0px 1px 2px rgba(60, 64, 67, 0.3), 0px 1px 3px 1px rgba(60, 64, 67, 0.15);\n",
              "      fill: #174EA6;\n",
              "    }\n",
              "\n",
              "    [theme=dark] .colab-df-convert {\n",
              "      background-color: #3B4455;\n",
              "      fill: #D2E3FC;\n",
              "    }\n",
              "\n",
              "    [theme=dark] .colab-df-convert:hover {\n",
              "      background-color: #434B5C;\n",
              "      box-shadow: 0px 1px 3px 1px rgba(0, 0, 0, 0.15);\n",
              "      filter: drop-shadow(0px 1px 2px rgba(0, 0, 0, 0.3));\n",
              "      fill: #FFFFFF;\n",
              "    }\n",
              "  </style>\n",
              "\n",
              "      <script>\n",
              "        const buttonEl =\n",
              "          document.querySelector('#df-41b68c94-2d31-47c0-aeeb-189ec90e873a button.colab-df-convert');\n",
              "        buttonEl.style.display =\n",
              "          google.colab.kernel.accessAllowed ? 'block' : 'none';\n",
              "\n",
              "        async function convertToInteractive(key) {\n",
              "          const element = document.querySelector('#df-41b68c94-2d31-47c0-aeeb-189ec90e873a');\n",
              "          const dataTable =\n",
              "            await google.colab.kernel.invokeFunction('convertToInteractive',\n",
              "                                                     [key], {});\n",
              "          if (!dataTable) return;\n",
              "\n",
              "          const docLinkHtml = 'Like what you see? Visit the ' +\n",
              "            '<a target=\"_blank\" href=https://colab.research.google.com/notebooks/data_table.ipynb>data table notebook</a>'\n",
              "            + ' to learn more about interactive tables.';\n",
              "          element.innerHTML = '';\n",
              "          dataTable['output_type'] = 'display_data';\n",
              "          await google.colab.output.renderOutput(dataTable, element);\n",
              "          const docLink = document.createElement('div');\n",
              "          docLink.innerHTML = docLinkHtml;\n",
              "          element.appendChild(docLink);\n",
              "        }\n",
              "      </script>\n",
              "    </div>\n",
              "  </div>\n",
              "  "
            ]
          },
          "metadata": {},
          "execution_count": 37
        }
      ]
    },
    {
      "cell_type": "code",
      "metadata": {
        "colab": {
          "base_uri": "https://localhost:8080/"
        },
        "id": "UOog4sOYg4ay",
        "outputId": "302a5e50-56fa-4212-f4e2-78655576e379"
      },
      "source": [
        "#mostrando os dados\n",
        "df_in_out.info()"
      ],
      "execution_count": 38,
      "outputs": [
        {
          "output_type": "stream",
          "name": "stdout",
          "text": [
            "<class 'pandas.core.frame.DataFrame'>\n",
            "Int64Index: 97606 entries, 0 to 97605\n",
            "Data columns (total 2 columns):\n",
            " #   Column    Non-Null Count  Dtype  \n",
            "---  ------    --------------  -----  \n",
            " 0   temp_in   20345 non-null  float64\n",
            " 1   temp_out  77261 non-null  float64\n",
            "dtypes: float64(2)\n",
            "memory usage: 2.2 MB\n"
          ]
        }
      ]
    },
    {
      "cell_type": "code",
      "metadata": {
        "colab": {
          "base_uri": "https://localhost:8080/",
          "height": 455
        },
        "id": "0AecENnwg-S2",
        "outputId": "7eae475f-ed36-48b0-c383-57d03f300d4a"
      },
      "source": [
        "#exemplificando o pivot\n",
        "table = pd.pivot_table(IOT_temp, values='temp', index=['noted_date'], columns= [\"out/in\"],fill_value=0)\n",
        "table"
      ],
      "execution_count": 39,
      "outputs": [
        {
          "output_type": "execute_result",
          "data": {
            "text/plain": [
              "out/in              In   Out\n",
              "noted_date                  \n",
              "01-11-2018 00:06  32.0   0.0\n",
              "01-11-2018 00:07   0.0  40.0\n",
              "01-11-2018 00:09   0.0  39.0\n",
              "01-11-2018 00:13   0.0  40.0\n",
              "01-11-2018 00:23   0.0  40.0\n",
              "...                ...   ...\n",
              "31-10-2018 23:52   0.0  40.0\n",
              "31-10-2018 23:53   0.0  39.0\n",
              "31-10-2018 23:54  32.0   0.0\n",
              "31-10-2018 23:55   0.0  40.0\n",
              "31-10-2018 23:57   0.0  39.0\n",
              "\n",
              "[27920 rows x 2 columns]"
            ],
            "text/html": [
              "\n",
              "  <div id=\"df-ba53e522-5c67-479b-96fe-af752fbebf78\">\n",
              "    <div class=\"colab-df-container\">\n",
              "      <div>\n",
              "<style scoped>\n",
              "    .dataframe tbody tr th:only-of-type {\n",
              "        vertical-align: middle;\n",
              "    }\n",
              "\n",
              "    .dataframe tbody tr th {\n",
              "        vertical-align: top;\n",
              "    }\n",
              "\n",
              "    .dataframe thead th {\n",
              "        text-align: right;\n",
              "    }\n",
              "</style>\n",
              "<table border=\"1\" class=\"dataframe\">\n",
              "  <thead>\n",
              "    <tr style=\"text-align: right;\">\n",
              "      <th>out/in</th>\n",
              "      <th>In</th>\n",
              "      <th>Out</th>\n",
              "    </tr>\n",
              "    <tr>\n",
              "      <th>noted_date</th>\n",
              "      <th></th>\n",
              "      <th></th>\n",
              "    </tr>\n",
              "  </thead>\n",
              "  <tbody>\n",
              "    <tr>\n",
              "      <th>01-11-2018 00:06</th>\n",
              "      <td>32.0</td>\n",
              "      <td>0.0</td>\n",
              "    </tr>\n",
              "    <tr>\n",
              "      <th>01-11-2018 00:07</th>\n",
              "      <td>0.0</td>\n",
              "      <td>40.0</td>\n",
              "    </tr>\n",
              "    <tr>\n",
              "      <th>01-11-2018 00:09</th>\n",
              "      <td>0.0</td>\n",
              "      <td>39.0</td>\n",
              "    </tr>\n",
              "    <tr>\n",
              "      <th>01-11-2018 00:13</th>\n",
              "      <td>0.0</td>\n",
              "      <td>40.0</td>\n",
              "    </tr>\n",
              "    <tr>\n",
              "      <th>01-11-2018 00:23</th>\n",
              "      <td>0.0</td>\n",
              "      <td>40.0</td>\n",
              "    </tr>\n",
              "    <tr>\n",
              "      <th>...</th>\n",
              "      <td>...</td>\n",
              "      <td>...</td>\n",
              "    </tr>\n",
              "    <tr>\n",
              "      <th>31-10-2018 23:52</th>\n",
              "      <td>0.0</td>\n",
              "      <td>40.0</td>\n",
              "    </tr>\n",
              "    <tr>\n",
              "      <th>31-10-2018 23:53</th>\n",
              "      <td>0.0</td>\n",
              "      <td>39.0</td>\n",
              "    </tr>\n",
              "    <tr>\n",
              "      <th>31-10-2018 23:54</th>\n",
              "      <td>32.0</td>\n",
              "      <td>0.0</td>\n",
              "    </tr>\n",
              "    <tr>\n",
              "      <th>31-10-2018 23:55</th>\n",
              "      <td>0.0</td>\n",
              "      <td>40.0</td>\n",
              "    </tr>\n",
              "    <tr>\n",
              "      <th>31-10-2018 23:57</th>\n",
              "      <td>0.0</td>\n",
              "      <td>39.0</td>\n",
              "    </tr>\n",
              "  </tbody>\n",
              "</table>\n",
              "<p>27920 rows × 2 columns</p>\n",
              "</div>\n",
              "      <button class=\"colab-df-convert\" onclick=\"convertToInteractive('df-ba53e522-5c67-479b-96fe-af752fbebf78')\"\n",
              "              title=\"Convert this dataframe to an interactive table.\"\n",
              "              style=\"display:none;\">\n",
              "        \n",
              "  <svg xmlns=\"http://www.w3.org/2000/svg\" height=\"24px\"viewBox=\"0 0 24 24\"\n",
              "       width=\"24px\">\n",
              "    <path d=\"M0 0h24v24H0V0z\" fill=\"none\"/>\n",
              "    <path d=\"M18.56 5.44l.94 2.06.94-2.06 2.06-.94-2.06-.94-.94-2.06-.94 2.06-2.06.94zm-11 1L8.5 8.5l.94-2.06 2.06-.94-2.06-.94L8.5 2.5l-.94 2.06-2.06.94zm10 10l.94 2.06.94-2.06 2.06-.94-2.06-.94-.94-2.06-.94 2.06-2.06.94z\"/><path d=\"M17.41 7.96l-1.37-1.37c-.4-.4-.92-.59-1.43-.59-.52 0-1.04.2-1.43.59L10.3 9.45l-7.72 7.72c-.78.78-.78 2.05 0 2.83L4 21.41c.39.39.9.59 1.41.59.51 0 1.02-.2 1.41-.59l7.78-7.78 2.81-2.81c.8-.78.8-2.07 0-2.86zM5.41 20L4 18.59l7.72-7.72 1.47 1.35L5.41 20z\"/>\n",
              "  </svg>\n",
              "      </button>\n",
              "      \n",
              "  <style>\n",
              "    .colab-df-container {\n",
              "      display:flex;\n",
              "      flex-wrap:wrap;\n",
              "      gap: 12px;\n",
              "    }\n",
              "\n",
              "    .colab-df-convert {\n",
              "      background-color: #E8F0FE;\n",
              "      border: none;\n",
              "      border-radius: 50%;\n",
              "      cursor: pointer;\n",
              "      display: none;\n",
              "      fill: #1967D2;\n",
              "      height: 32px;\n",
              "      padding: 0 0 0 0;\n",
              "      width: 32px;\n",
              "    }\n",
              "\n",
              "    .colab-df-convert:hover {\n",
              "      background-color: #E2EBFA;\n",
              "      box-shadow: 0px 1px 2px rgba(60, 64, 67, 0.3), 0px 1px 3px 1px rgba(60, 64, 67, 0.15);\n",
              "      fill: #174EA6;\n",
              "    }\n",
              "\n",
              "    [theme=dark] .colab-df-convert {\n",
              "      background-color: #3B4455;\n",
              "      fill: #D2E3FC;\n",
              "    }\n",
              "\n",
              "    [theme=dark] .colab-df-convert:hover {\n",
              "      background-color: #434B5C;\n",
              "      box-shadow: 0px 1px 3px 1px rgba(0, 0, 0, 0.15);\n",
              "      filter: drop-shadow(0px 1px 2px rgba(0, 0, 0, 0.3));\n",
              "      fill: #FFFFFF;\n",
              "    }\n",
              "  </style>\n",
              "\n",
              "      <script>\n",
              "        const buttonEl =\n",
              "          document.querySelector('#df-ba53e522-5c67-479b-96fe-af752fbebf78 button.colab-df-convert');\n",
              "        buttonEl.style.display =\n",
              "          google.colab.kernel.accessAllowed ? 'block' : 'none';\n",
              "\n",
              "        async function convertToInteractive(key) {\n",
              "          const element = document.querySelector('#df-ba53e522-5c67-479b-96fe-af752fbebf78');\n",
              "          const dataTable =\n",
              "            await google.colab.kernel.invokeFunction('convertToInteractive',\n",
              "                                                     [key], {});\n",
              "          if (!dataTable) return;\n",
              "\n",
              "          const docLinkHtml = 'Like what you see? Visit the ' +\n",
              "            '<a target=\"_blank\" href=https://colab.research.google.com/notebooks/data_table.ipynb>data table notebook</a>'\n",
              "            + ' to learn more about interactive tables.';\n",
              "          element.innerHTML = '';\n",
              "          dataTable['output_type'] = 'display_data';\n",
              "          await google.colab.output.renderOutput(dataTable, element);\n",
              "          const docLink = document.createElement('div');\n",
              "          docLink.innerHTML = docLinkHtml;\n",
              "          element.appendChild(docLink);\n",
              "        }\n",
              "      </script>\n",
              "    </div>\n",
              "  </div>\n",
              "  "
            ]
          },
          "metadata": {},
          "execution_count": 39
        }
      ]
    },
    {
      "cell_type": "code",
      "metadata": {
        "colab": {
          "base_uri": "https://localhost:8080/",
          "height": 321
        },
        "id": "SUa43PY0hMav",
        "outputId": "1692d0ae-1d2d-4761-98be-8ed5131ada15"
      },
      "source": [
        "#comparando a igualdade dos valores In e Out\n",
        "df_in_out.boxplot();"
      ],
      "execution_count": 40,
      "outputs": [
        {
          "output_type": "stream",
          "name": "stderr",
          "text": [
            "/usr/local/lib/python3.7/dist-packages/matplotlib/cbook/__init__.py:1376: VisibleDeprecationWarning: Creating an ndarray from ragged nested sequences (which is a list-or-tuple of lists-or-tuples-or ndarrays with different lengths or shapes) is deprecated. If you meant to do this, you must specify 'dtype=object' when creating the ndarray.\n",
            "  X = np.atleast_1d(X.T if isinstance(X, np.ndarray) else np.asarray(X))\n"
          ]
        },
        {
          "output_type": "display_data",
          "data": {
            "text/plain": [
              "<Figure size 432x288 with 1 Axes>"
            ],
            "image/png": "[encoded data removed]"
          },
          "metadata": {
            "needs_background": "light"
          }
        }
      ]
    },
    {
      "cell_type": "markdown",
      "metadata": {
        "id": "pR-xcT6EhXPs"
      },
      "source": [
        "**Analisando o boxplot da temp_in e temp_out, o que é possível afirmar?**"
      ]
    },
    {
      "cell_type": "code",
      "metadata": {
        "id": "TsmnuSEYhmJi"
      },
      "source": [
        "#criando um modelo de previsão de temperatura \n",
        "df_out_new=IOT_temp[IOT_temp[\"out/in\"]==\"Out\"][\"temp\"].values"
      ],
      "execution_count": 41,
      "outputs": []
    },
    {
      "cell_type": "code",
      "metadata": {
        "id": "DcdTVHexhyqv"
      },
      "source": [
        "#normaliza os dados\n",
        "from sklearn.preprocessing import MinMaxScaler\n",
        "scaler = MinMaxScaler(feature_range=(0, 1))\n",
        "serie_out = scaler.fit_transform(df_out_new.reshape(-1, 1))"
      ],
      "execution_count": 42,
      "outputs": []
    },
    {
      "cell_type": "code",
      "metadata": {
        "colab": {
          "base_uri": "https://localhost:8080/"
        },
        "id": "5KRLBlnPh1o5",
        "outputId": "887504aa-4381-440b-ad10-500d6da93116"
      },
      "source": [
        "serie_out"
      ],
      "execution_count": 43,
      "outputs": [
        {
          "output_type": "execute_result",
          "data": {
            "text/plain": [
              "array([[0.62962963],\n",
              "       [0.62962963],\n",
              "       [0.66666667],\n",
              "       ...,\n",
              "       [0.2962963 ],\n",
              "       [0.2962963 ],\n",
              "       [0.2962963 ]])"
            ]
          },
          "metadata": {},
          "execution_count": 43
        }
      ]
    },
    {
      "cell_type": "code",
      "metadata": {
        "id": "17b5JyICh4MB"
      },
      "source": [
        "#define a quantidade de dados para treinamento e teste\n",
        "train=serie_out[:int(len(serie_out)*0.7)]      #70% inicial para o treinamento\n",
        "test=serie_out[int(len(serie_out)*0.7):]       #30% final para o teste"
      ],
      "execution_count": 44,
      "outputs": []
    },
    {
      "cell_type": "code",
      "metadata": {
        "id": "ojgHO2hqh7DN"
      },
      "source": [
        "#método para colcoar os dados de entrada em um formato necessário para a previsão\n",
        "#define o intervalo a ser utilizado para entrada da rede neural recorrente LSTM\n",
        "def create_dataset(dataset, look_back=1):\n",
        "    dataX, dataY = [], []\n",
        "    for i in range(len(dataset)-look_back-1):\n",
        "        a = dataset[i:(i+look_back), 0]\n",
        "        dataX.append(a)\n",
        "        dataY.append(dataset[i + look_back, 0])\n",
        "    return np.array(dataX), np.array(dataY)"
      ],
      "execution_count": 45,
      "outputs": []
    },
    {
      "cell_type": "code",
      "metadata": {
        "id": "i4sT7CITiMBn"
      },
      "source": [
        "look_back = 3                                           # quantidade de passos para a autocorrelação\n",
        "trainX, trainY = create_dataset(train, look_back)\n",
        "testX, testY = create_dataset(test, look_back)"
      ],
      "execution_count": 46,
      "outputs": []
    },
    {
      "cell_type": "code",
      "metadata": {
        "id": "Fxip1A8QihVI"
      },
      "source": [
        "#colocando os dados no formato para entrada na rede LSTM  [amostras, time steps, features]\n",
        "trainX = np.reshape(trainX, (trainX.shape[0], look_back, 1))\n",
        "testX = np.reshape(testX, (testX.shape[0], look_back, 1))"
      ],
      "execution_count": 47,
      "outputs": []
    },
    {
      "cell_type": "code",
      "metadata": {
        "id": "_DlNkJYgikYL"
      },
      "source": [
        "#definindo o modelo para a rede neural recorrente LSTM\n",
        "from tensorflow.keras.models import Sequential              #utilizando o modelo sequencial para a construção da rede\n",
        "from tensorflow.keras.layers import Dense, Flatten, LSTM    #utilizado para definir as camadas a serem utilizadas\n"
      ],
      "execution_count": 48,
      "outputs": []
    },
    {
      "cell_type": "code",
      "metadata": {
        "id": "Qvz1je5GiwrT"
      },
      "source": [
        "#definindo o modelo\n",
        "model = Sequential()\n",
        "model.add(LSTM(4, input_shape=(look_back,1)))\n",
        "model.add(Dense(1))\n",
        "model.compile(loss='mean_squared_error', optimizer='adam')"
      ],
      "execution_count": 49,
      "outputs": []
    },
    {
      "cell_type": "code",
      "metadata": {
        "colab": {
          "base_uri": "https://localhost:8080/"
        },
        "id": "SOwc8Xz9jTRv",
        "outputId": "9f4ef63f-b01c-420c-ba2b-f39914c563b6"
      },
      "source": [
        "#mostra o modelo\n",
        "model.summary()"
      ],
      "execution_count": 50,
      "outputs": [
        {
          "output_type": "stream",
          "name": "stdout",
          "text": [
            "Model: \"sequential\"\n",
            "_________________________________________________________________\n",
            " Layer (type)                Output Shape              Param #   \n",
            "=================================================================\n",
            " lstm (LSTM)                 (None, 4)                 96        \n",
            "                                                                 \n",
            " dense (Dense)               (None, 1)                 5         \n",
            "                                                                 \n",
            "=================================================================\n",
            "Total params: 101\n",
            "Trainable params: 101\n",
            "Non-trainable params: 0\n",
            "_________________________________________________________________\n"
          ]
        }
      ]
    },
    {
      "cell_type": "markdown",
      "metadata": {
        "id": "K5k58L3JjU6i"
      },
      "source": [
        "**Sobre a rede LSTM criada, o que é correto dizer?**"
      ]
    },
    {
      "cell_type": "code",
      "metadata": {
        "colab": {
          "base_uri": "https://localhost:8080/"
        },
        "id": "0ESau0UtjeNl",
        "outputId": "b941cd69-631a-4dba-b20c-dd0ec1c76ce3"
      },
      "source": [
        "#Treina o modelo\n",
        "historico=model.fit(trainX, trainY, validation_split=0.2,epochs=10, batch_size=100, verbose=2)"
      ],
      "execution_count": 51,
      "outputs": [
        {
          "output_type": "stream",
          "name": "stdout",
          "text": [
            "Epoch 1/10\n",
            "433/433 - 4s - loss: 0.0231 - val_loss: 0.0198 - 4s/epoch - 8ms/step\n",
            "Epoch 2/10\n",
            "433/433 - 1s - loss: 0.0024 - val_loss: 0.0088 - 1s/epoch - 2ms/step\n",
            "Epoch 3/10\n",
            "433/433 - 1s - loss: 0.0010 - val_loss: 0.0024 - 1s/epoch - 2ms/step\n",
            "Epoch 4/10\n",
            "433/433 - 1s - loss: 4.9811e-04 - val_loss: 0.0010 - 1s/epoch - 2ms/step\n",
            "Epoch 5/10\n",
            "433/433 - 1s - loss: 4.3447e-04 - val_loss: 8.9829e-04 - 1s/epoch - 2ms/step\n",
            "Epoch 6/10\n",
            "433/433 - 1s - loss: 4.3152e-04 - val_loss: 8.7959e-04 - 1s/epoch - 2ms/step\n",
            "Epoch 7/10\n",
            "433/433 - 1s - loss: 4.3099e-04 - val_loss: 8.9217e-04 - 1s/epoch - 2ms/step\n",
            "Epoch 8/10\n",
            "433/433 - 1s - loss: 4.3124e-04 - val_loss: 9.0328e-04 - 1s/epoch - 2ms/step\n",
            "Epoch 9/10\n",
            "433/433 - 1s - loss: 4.2923e-04 - val_loss: 9.2600e-04 - 1s/epoch - 2ms/step\n",
            "Epoch 10/10\n",
            "433/433 - 1s - loss: 4.2927e-04 - val_loss: 9.2207e-04 - 1s/epoch - 2ms/step\n"
          ]
        }
      ]
    },
    {
      "cell_type": "code",
      "metadata": {
        "colab": {
          "base_uri": "https://localhost:8080/"
        },
        "id": "PLvLr3pNmjn-",
        "outputId": "d4286de4-5c89-42d5-aebf-8385f9054866"
      },
      "source": [
        "#mostrando as keys presentes no objeto history do keras\n",
        "print(historico.history.keys())"
      ],
      "execution_count": 52,
      "outputs": [
        {
          "output_type": "stream",
          "name": "stdout",
          "text": [
            "dict_keys(['loss', 'val_loss'])\n"
          ]
        }
      ]
    },
    {
      "cell_type": "code",
      "metadata": {
        "colab": {
          "base_uri": "https://localhost:8080/",
          "height": 297
        },
        "id": "CAG82OZ9keV0",
        "outputId": "fb5a54e7-bb0e-48e1-a0a0-012b74031f7c"
      },
      "source": [
        "#plotando os gráficos para a função perda do algoritmo\n",
        "plt.plot(historico.history['loss'])\n",
        "plt.plot(historico.history['val_loss'])\n",
        "plt.title('Função perda durante o treinamento')\n",
        "plt.ylabel('Função perda')\n",
        "plt.xlabel('Época')\n",
        "plt.legend(['Treinamento', 'Teste'], loc='upper left')\n",
        "plt.show()"
      ],
      "execution_count": 53,
      "outputs": [
        {
          "output_type": "display_data",
          "data": {
            "text/plain": [
              "<Figure size 432x288 with 1 Axes>"
            ],
            "image/png": "[encoded data removed]"
          },
          "metadata": {
            "needs_background": "light"
          }
        }
      ]
    },
    {
      "cell_type": "markdown",
      "metadata": {
        "id": "F1fcuagFpKvt"
      },
      "source": [
        "**Analisando o gráfico da função perda, o que é incorreto afirmar?**"
      ]
    },
    {
      "cell_type": "code",
      "metadata": {
        "id": "5DHC_rzGnEDK"
      },
      "source": [
        "# realizando as previsões\n",
        "trainPredict = model.predict(trainX)\n",
        "testPredict = model.predict(testX)"
      ],
      "execution_count": 54,
      "outputs": []
    },
    {
      "cell_type": "code",
      "metadata": {
        "id": "vd7GnkaZnFcF"
      },
      "source": [
        "# colocando os dados em um formato para a previsão \"correta\"\n",
        "trainPredict = scaler.inverse_transform(trainPredict)\n",
        "trainY = scaler.inverse_transform([trainY])\n",
        "testPredict = scaler.inverse_transform(testPredict)\n",
        "testY = scaler.inverse_transform([testY])"
      ],
      "execution_count": 55,
      "outputs": []
    },
    {
      "cell_type": "code",
      "metadata": {
        "id": "QPuTSRJWnLN_"
      },
      "source": [
        "#identificando o \"qualidade\" do modelo\n",
        "import math                                       #utilizada para realizar as operações matemáticas\n",
        "from sklearn.metrics import mean_squared_error    #calcular o erro médio quadrático nas previsões"
      ],
      "execution_count": 56,
      "outputs": []
    },
    {
      "cell_type": "code",
      "metadata": {
        "colab": {
          "base_uri": "https://localhost:8080/"
        },
        "id": "wM_iTmJLnadi",
        "outputId": "378ea754-57b5-478f-9ea1-65d0cd23cf99"
      },
      "source": [
        "# Calculando os erros de previsão\n",
        "trainScore = math.sqrt(mean_squared_error(trainY[0], trainPredict[:,0]))\n",
        "print('Pontuação para o treinamento: %.2f MSE' % (trainScore))\n",
        "testScore = math.sqrt(mean_squared_error(testY[0], testPredict[:,0]))\n",
        "print('Pontuação para o teste: %.2f MSE' % (testScore))"
      ],
      "execution_count": 57,
      "outputs": [
        {
          "output_type": "stream",
          "name": "stdout",
          "text": [
            "Pontuação para o treinamento: 0.62 MSE\n",
            "Pontuação para o teste: 0.78 MSE\n"
          ]
        }
      ]
    },
    {
      "cell_type": "markdown",
      "metadata": {
        "id": "vT28knGkpWUo"
      },
      "source": [
        "**Analisando o MSE mostrado para o treinamento e teste do algoritmo, o que é incorreto afirmar?**"
      ]
    },
    {
      "cell_type": "code",
      "metadata": {
        "id": "IfIwnDBFneB1"
      },
      "source": [
        "# realizando o shift dos valores para construir o plot dos valores\n",
        "trainPredictPlot = np.empty_like(serie_out)\n",
        "trainPredictPlot[:, :] = np.nan\n",
        "trainPredictPlot[look_back:len(trainPredict)+look_back, :] = trainPredict"
      ],
      "execution_count": null,
      "outputs": []
    },
    {
      "cell_type": "code",
      "metadata": {
        "id": "9pNeOcYfnjK6"
      },
      "source": [
        "# realizando um shift dos dados de previsão para o treinamento\n",
        "testPredictPlot = np.empty_like(serie_out)\n",
        "testPredictPlot[:, :] = np.nan\n",
        "testPredictPlot[len(trainPredict)+(look_back*2)+1:len(serie_out)-1, :] = testPredict"
      ],
      "execution_count": null,
      "outputs": []
    },
    {
      "cell_type": "code",
      "metadata": {
        "colab": {
          "base_uri": "https://localhost:8080/",
          "height": 863
        },
        "id": "8TU6LrYLnlhI",
        "outputId": "10ad5dd0-c5e8-4f88-c3a8-547bc16c4e22"
      },
      "source": [
        "# realizando o plot dos dados para treinamento e teste\n",
        "plt.figure(figsize=(15,15))  #define o tamanho da figura\n",
        "plt.plot(scaler.inverse_transform(serie_out))\n",
        "plt.plot(trainPredictPlot)\n",
        "plt.plot(testPredictPlot)\n",
        "plt.legend([\"Real\",\"Previsao Treinamento\",\"Previsão Teste\"])\n",
        "plt.show()"
      ],
      "execution_count": null,
      "outputs": [
        {
          "output_type": "display_data",
          "data": {
            "image/png": "[encoded data removed]",
            "text/plain": [
              "<Figure size 1080x1080 with 1 Axes>"
            ]
          },
          "metadata": {
            "needs_background": "light"
          }
        }
      ]
    },
    {
      "cell_type": "markdown",
      "metadata": {
        "id": "R6Df1fvnpi4K"
      },
      "source": [
        "**Analisando o gráfico comparativo entre os valores reais e previstos, o que é correto afirmar?**"
      ]
    }
  ]
}