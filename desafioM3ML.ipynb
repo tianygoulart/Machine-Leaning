{
  "nbformat": 4,
  "nbformat_minor": 0,
  "metadata": {
    "colab": {
      "name": "desafioM3ML.ipynb",
      "provenance": [],
      "authorship_tag": "ABX9TyOaD7yA8mqjZgksn322WPnf",
      "include_colab_link": true
    },
    "kernelspec": {
      "name": "python3",
      "display_name": "Python 3"
    },
    "language_info": {
      "name": "python"
    }
  },
  "cells": [
    {
      "cell_type": "markdown",
      "metadata": {
        "id": "view-in-github",
        "colab_type": "text"
      },
      "source": [
        "<a href=\"https://colab.research.google.com/github/tianygoulart/Machine-Leaning/blob/main/desafioM3ML.ipynb\" target=\"_parent\"><img src=\"https://colab.research.google.com/assets/colab-badge.svg\" alt=\"Open In Colab\"/></a>"
      ]
    },
    {
      "cell_type": "code",
      "execution_count": 1,
      "metadata": {
        "id": "Amd-GxuxE6Co"
      },
      "outputs": [],
      "source": [
        "import numpy as np\n",
        "import matplotlib.pyplot as plt\n",
        "import pandas as pd\n",
        "\n",
        "from scipy.spatial.distance import pdist, hamming, cosine\n"
      ]
    },
    {
      "cell_type": "code",
      "source": [
        "def cosine_similarity(x: np.array, y: np.array):\n",
        "  cosine_sim = np.dot(x,y)/(np.linalg.norm(x)*np.linalg.norm(y))\n",
        "\n",
        "  return cosine_sim"
      ],
      "metadata": {
        "id": "EK0KJ5s-FAS0"
      },
      "execution_count": 2,
      "outputs": []
    },
    {
      "cell_type": "code",
      "source": [
        "def array_centering(v):\n",
        "  \"\"\"Subtraindo dos elementos não nulos pela media.\"\"\"\n",
        "  # copia para evitar sobreescrita\n",
        "  v = v.copy()\n",
        "  # idexação para extrair elementos não nulos\n",
        "  non_zeros = v>0\n",
        "  # substituição pela media\n",
        "  v[non_zeros]=v[non_zeros]-np.mean(v[non_zeros]) + 1e-6\n",
        "  return v "
      ],
      "metadata": {
        "id": "Y6oM6PfXFhSw"
      },
      "execution_count": 3,
      "outputs": []
    },
    {
      "cell_type": "code",
      "source": [
        "def centered_cosine_similarity(x,y):\n",
        "  \"\"\"Calcula a similaridade de cossenos centralizados entre arrays x e y.\"\"\"\n",
        "  # subtarindo a media\n",
        "  x = array_centering(x)\n",
        "  y = array_centering(y)\n",
        "  # similaridade por cossenos\n",
        "  centered_cosine_sim = cosine_similarity(x,y)\n",
        "  return centered_cosine_sim"
      ],
      "metadata": {
        "id": "VTvJUB3SFiJE"
      },
      "execution_count": 4,
      "outputs": []
    },
    {
      "cell_type": "code",
      "source": [
        "ratings = np.array([[4.0,0.0,0.0,4.7,1.0,0.0,0.0],\n",
        "                   [5.0,4.5,4.0,0.0,0.0,0.0,0.0],\n",
        "                   [0.0,0.0,0.0,1.5,5.0,4.0,0.0],\n",
        "                   [4.1,3.0,0.0,4.9,0.0,0.0,3.0],\n",
        "                   [1.0,4.0,0.0,2.5,3.8,1.0,5.0]])\n",
        "columns = ['I'+str(i) for i in range(ratings.shape[1])]\n",
        "index = ['U'+str(i) for i in range(ratings.shape[0])]"
      ],
      "metadata": {
        "id": "yas9fmOjFkKc"
      },
      "execution_count": 5,
      "outputs": []
    },
    {
      "cell_type": "code",
      "source": [
        "ratings = pd.DataFrame(data=ratings, columns=columns, index=index, dtype=float)"
      ],
      "metadata": {
        "id": "FZG5TG5FHdIJ"
      },
      "execution_count": 6,
      "outputs": []
    },
    {
      "cell_type": "code",
      "source": [
        "ratings"
      ],
      "metadata": {
        "colab": {
          "base_uri": "https://localhost:8080/",
          "height": 206
        },
        "id": "w3tthurkHgzA",
        "outputId": "af6bcf1e-d503-4b08-85d7-da4cd622f771"
      },
      "execution_count": 7,
      "outputs": [
        {
          "output_type": "execute_result",
          "data": {
            "text/plain": [
              "     I0   I1   I2   I3   I4   I5   I6\n",
              "U0  4.0  0.0  0.0  4.7  1.0  0.0  0.0\n",
              "U1  5.0  4.5  4.0  0.0  0.0  0.0  0.0\n",
              "U2  0.0  0.0  0.0  1.5  5.0  4.0  0.0\n",
              "U3  4.1  3.0  0.0  4.9  0.0  0.0  3.0\n",
              "U4  1.0  4.0  0.0  2.5  3.8  1.0  5.0"
            ],
            "text/html": [
              "\n",
              "  <div id=\"df-e5a44fa9-79f3-4cab-8b74-299b9e8851de\">\n",
              "    <div class=\"colab-df-container\">\n",
              "      <div>\n",
              "<style scoped>\n",
              "    .dataframe tbody tr th:only-of-type {\n",
              "        vertical-align: middle;\n",
              "    }\n",
              "\n",
              "    .dataframe tbody tr th {\n",
              "        vertical-align: top;\n",
              "    }\n",
              "\n",
              "    .dataframe thead th {\n",
              "        text-align: right;\n",
              "    }\n",
              "</style>\n",
              "<table border=\"1\" class=\"dataframe\">\n",
              "  <thead>\n",
              "    <tr style=\"text-align: right;\">\n",
              "      <th></th>\n",
              "      <th>I0</th>\n",
              "      <th>I1</th>\n",
              "      <th>I2</th>\n",
              "      <th>I3</th>\n",
              "      <th>I4</th>\n",
              "      <th>I5</th>\n",
              "      <th>I6</th>\n",
              "    </tr>\n",
              "  </thead>\n",
              "  <tbody>\n",
              "    <tr>\n",
              "      <th>U0</th>\n",
              "      <td>4.0</td>\n",
              "      <td>0.0</td>\n",
              "      <td>0.0</td>\n",
              "      <td>4.7</td>\n",
              "      <td>1.0</td>\n",
              "      <td>0.0</td>\n",
              "      <td>0.0</td>\n",
              "    </tr>\n",
              "    <tr>\n",
              "      <th>U1</th>\n",
              "      <td>5.0</td>\n",
              "      <td>4.5</td>\n",
              "      <td>4.0</td>\n",
              "      <td>0.0</td>\n",
              "      <td>0.0</td>\n",
              "      <td>0.0</td>\n",
              "      <td>0.0</td>\n",
              "    </tr>\n",
              "    <tr>\n",
              "      <th>U2</th>\n",
              "      <td>0.0</td>\n",
              "      <td>0.0</td>\n",
              "      <td>0.0</td>\n",
              "      <td>1.5</td>\n",
              "      <td>5.0</td>\n",
              "      <td>4.0</td>\n",
              "      <td>0.0</td>\n",
              "    </tr>\n",
              "    <tr>\n",
              "      <th>U3</th>\n",
              "      <td>4.1</td>\n",
              "      <td>3.0</td>\n",
              "      <td>0.0</td>\n",
              "      <td>4.9</td>\n",
              "      <td>0.0</td>\n",
              "      <td>0.0</td>\n",
              "      <td>3.0</td>\n",
              "    </tr>\n",
              "    <tr>\n",
              "      <th>U4</th>\n",
              "      <td>1.0</td>\n",
              "      <td>4.0</td>\n",
              "      <td>0.0</td>\n",
              "      <td>2.5</td>\n",
              "      <td>3.8</td>\n",
              "      <td>1.0</td>\n",
              "      <td>5.0</td>\n",
              "    </tr>\n",
              "  </tbody>\n",
              "</table>\n",
              "</div>\n",
              "      <button class=\"colab-df-convert\" onclick=\"convertToInteractive('df-e5a44fa9-79f3-4cab-8b74-299b9e8851de')\"\n",
              "              title=\"Convert this dataframe to an interactive table.\"\n",
              "              style=\"display:none;\">\n",
              "        \n",
              "  <svg xmlns=\"http://www.w3.org/2000/svg\" height=\"24px\"viewBox=\"0 0 24 24\"\n",
              "       width=\"24px\">\n",
              "    <path d=\"M0 0h24v24H0V0z\" fill=\"none\"/>\n",
              "    <path d=\"M18.56 5.44l.94 2.06.94-2.06 2.06-.94-2.06-.94-.94-2.06-.94 2.06-2.06.94zm-11 1L8.5 8.5l.94-2.06 2.06-.94-2.06-.94L8.5 2.5l-.94 2.06-2.06.94zm10 10l.94 2.06.94-2.06 2.06-.94-2.06-.94-.94-2.06-.94 2.06-2.06.94z\"/><path d=\"M17.41 7.96l-1.37-1.37c-.4-.4-.92-.59-1.43-.59-.52 0-1.04.2-1.43.59L10.3 9.45l-7.72 7.72c-.78.78-.78 2.05 0 2.83L4 21.41c.39.39.9.59 1.41.59.51 0 1.02-.2 1.41-.59l7.78-7.78 2.81-2.81c.8-.78.8-2.07 0-2.86zM5.41 20L4 18.59l7.72-7.72 1.47 1.35L5.41 20z\"/>\n",
              "  </svg>\n",
              "      </button>\n",
              "      \n",
              "  <style>\n",
              "    .colab-df-container {\n",
              "      display:flex;\n",
              "      flex-wrap:wrap;\n",
              "      gap: 12px;\n",
              "    }\n",
              "\n",
              "    .colab-df-convert {\n",
              "      background-color: #E8F0FE;\n",
              "      border: none;\n",
              "      border-radius: 50%;\n",
              "      cursor: pointer;\n",
              "      display: none;\n",
              "      fill: #1967D2;\n",
              "      height: 32px;\n",
              "      padding: 0 0 0 0;\n",
              "      width: 32px;\n",
              "    }\n",
              "\n",
              "    .colab-df-convert:hover {\n",
              "      background-color: #E2EBFA;\n",
              "      box-shadow: 0px 1px 2px rgba(60, 64, 67, 0.3), 0px 1px 3px 1px rgba(60, 64, 67, 0.15);\n",
              "      fill: #174EA6;\n",
              "    }\n",
              "\n",
              "    [theme=dark] .colab-df-convert {\n",
              "      background-color: #3B4455;\n",
              "      fill: #D2E3FC;\n",
              "    }\n",
              "\n",
              "    [theme=dark] .colab-df-convert:hover {\n",
              "      background-color: #434B5C;\n",
              "      box-shadow: 0px 1px 3px 1px rgba(0, 0, 0, 0.15);\n",
              "      filter: drop-shadow(0px 1px 2px rgba(0, 0, 0, 0.3));\n",
              "      fill: #FFFFFF;\n",
              "    }\n",
              "  </style>\n",
              "\n",
              "      <script>\n",
              "        const buttonEl =\n",
              "          document.querySelector('#df-e5a44fa9-79f3-4cab-8b74-299b9e8851de button.colab-df-convert');\n",
              "        buttonEl.style.display =\n",
              "          google.colab.kernel.accessAllowed ? 'block' : 'none';\n",
              "\n",
              "        async function convertToInteractive(key) {\n",
              "          const element = document.querySelector('#df-e5a44fa9-79f3-4cab-8b74-299b9e8851de');\n",
              "          const dataTable =\n",
              "            await google.colab.kernel.invokeFunction('convertToInteractive',\n",
              "                                                     [key], {});\n",
              "          if (!dataTable) return;\n",
              "\n",
              "          const docLinkHtml = 'Like what you see? Visit the ' +\n",
              "            '<a target=\"_blank\" href=https://colab.research.google.com/notebooks/data_table.ipynb>data table notebook</a>'\n",
              "            + ' to learn more about interactive tables.';\n",
              "          element.innerHTML = '';\n",
              "          dataTable['output_type'] = 'display_data';\n",
              "          await google.colab.output.renderOutput(dataTable, element);\n",
              "          const docLink = document.createElement('div');\n",
              "          docLink.innerHTML = docLinkHtml;\n",
              "          element.appendChild(docLink);\n",
              "        }\n",
              "      </script>\n",
              "    </div>\n",
              "  </div>\n",
              "  "
            ]
          },
          "metadata": {},
          "execution_count": 7
        }
      ]
    },
    {
      "cell_type": "code",
      "source": [
        "x = ratings.loc['U0'].values\n",
        "y = ratings.loc['U1'].values"
      ],
      "metadata": {
        "id": "6lT4hPW7IKkt"
      },
      "execution_count": 8,
      "outputs": []
    },
    {
      "cell_type": "code",
      "source": [
        "#Qual o valor da similaridade de cossenos entre os usuários U1 e U2?\n",
        "cos_sim_U0U1 = cosine_similarity(x,y)\n",
        "print(f\"A similaridade de cossenos entre U0 e U1 é {cos_sim_U0U1:.2f}.\")"
      ],
      "metadata": {
        "colab": {
          "base_uri": "https://localhost:8080/"
        },
        "id": "OqmuchScIpL8",
        "outputId": "6b1be43f-722b-4361-a4aa-c5dc907f5b4d"
      },
      "execution_count": 9,
      "outputs": [
        {
          "output_type": "stream",
          "name": "stdout",
          "text": [
            "A similaridade de cossenos entre U0 e U1 é 0.41.\n"
          ]
        }
      ]
    },
    {
      "cell_type": "code",
      "source": [
        "x = ratings.loc['U0'].values\n",
        "y = ratings.loc['U2'].values"
      ],
      "metadata": {
        "id": "uNhaI-_kI8H4"
      },
      "execution_count": 10,
      "outputs": []
    },
    {
      "cell_type": "code",
      "source": [
        "#Qual o valor da similaridade de cossenos entre os usuários U1 e U3?\n",
        "cos_sim_U0U2 = cosine_similarity(x,y)\n",
        "print(f\"A similaridade de cossenos entre U0 e U2 é {cos_sim_U0U2:.2f}.\")\n"
      ],
      "metadata": {
        "colab": {
          "base_uri": "https://localhost:8080/"
        },
        "id": "13Ul2ILKJGFY",
        "outputId": "77f4c475-a7e2-46b8-f293-84fba4d324ff"
      },
      "execution_count": 11,
      "outputs": [
        {
          "output_type": "stream",
          "name": "stdout",
          "text": [
            "A similaridade de cossenos entre U0 e U2 é 0.29.\n"
          ]
        }
      ]
    },
    {
      "cell_type": "code",
      "source": [
        "x = ratings.loc['U0'].values\n",
        "y = ratings.loc['U3'].values"
      ],
      "metadata": {
        "id": "VY1vciZKJPbg"
      },
      "execution_count": 12,
      "outputs": []
    },
    {
      "cell_type": "code",
      "source": [
        "#Qual o valor da similaridade de cossenos entre os usuários U1 e U4?\n",
        "cos_sim_U0U3 = cosine_similarity(x,y)\n",
        "print(f\"A similaridade de cossenos entre U0 e U3 é {cos_sim_U0U3:.2f}.\")\n"
      ],
      "metadata": {
        "colab": {
          "base_uri": "https://localhost:8080/"
        },
        "id": "JLey4XfpJVwb",
        "outputId": "a6afa735-8dc7-416c-e93a-e547ef8f965a"
      },
      "execution_count": 13,
      "outputs": [
        {
          "output_type": "stream",
          "name": "stdout",
          "text": [
            "A similaridade de cossenos entre U0 e U3 é 0.82.\n"
          ]
        }
      ]
    },
    {
      "cell_type": "code",
      "source": [
        "x = ratings.loc['U0'].values\n",
        "y = ratings.loc['U4'].values"
      ],
      "metadata": {
        "id": "Tf1-U125JdAL"
      },
      "execution_count": 14,
      "outputs": []
    },
    {
      "cell_type": "code",
      "source": [
        "#Qual o valor da similaridade de cossenos entre os usuários U1 e U5?\n",
        "cos_sim_U0U4 = cosine_similarity(x,y)\n",
        "print(f\"A similaridade de cossenos entre U0 e U4 é {cos_sim_U0U4:.2f}.\")\n"
      ],
      "metadata": {
        "colab": {
          "base_uri": "https://localhost:8080/"
        },
        "id": "-Mp1b8C7JgQI",
        "outputId": "1ae9506d-915d-434f-b4d7-ef478287eebc"
      },
      "execution_count": 15,
      "outputs": [
        {
          "output_type": "stream",
          "name": "stdout",
          "text": [
            "A similaridade de cossenos entre U0 e U4 é 0.39.\n"
          ]
        }
      ]
    },
    {
      "cell_type": "code",
      "source": [
        "x = ratings.loc['U0'].values\n",
        "y = ratings.loc['U1'].values"
      ],
      "metadata": {
        "id": "yWdT-oNYJnW6"
      },
      "execution_count": 16,
      "outputs": []
    },
    {
      "cell_type": "code",
      "source": [
        "#Qual o valor da similaridade de cossenos centralizada entre os usuários U1 e U2?\n",
        "centered_cos_sim_U0U1 = centered_cosine_similarity(x, y)\n",
        "print(f'A similaridade de cossenos centralizada entre U0 e U1 é {centered_cos_sim_U0U1:.2f}.')\n"
      ],
      "metadata": {
        "colab": {
          "base_uri": "https://localhost:8080/"
        },
        "id": "e8FwFo7qKdja",
        "outputId": "6947ea82-2386-4d70-b4e8-98b9353ea65f"
      },
      "execution_count": 17,
      "outputs": [
        {
          "output_type": "stream",
          "name": "stdout",
          "text": [
            "A similaridade de cossenos centralizada entre U0 e U1 é 0.20.\n"
          ]
        }
      ]
    },
    {
      "cell_type": "code",
      "source": [
        "x = ratings.loc['U0'].values\n",
        "y = ratings.loc['U2'].values"
      ],
      "metadata": {
        "id": "6GsJUYOYKsD7"
      },
      "execution_count": 18,
      "outputs": []
    },
    {
      "cell_type": "code",
      "source": [
        "#Qual o valor da similaridade de cossenos centralizada entre os usuários U1 e U3?\n",
        "centered_cos_sim_U0U2 = centered_cosine_similarity(x, y)\n",
        "print(f'A similaridade de cossenos centralizada entre U0 e U2 é {centered_cos_sim_U0U2:.2f}.')"
      ],
      "metadata": {
        "colab": {
          "base_uri": "https://localhost:8080/"
        },
        "id": "aC5R-BTcKv40",
        "outputId": "20e82ee1-04c9-41b5-a807-a8a987b72077"
      },
      "execution_count": 19,
      "outputs": [
        {
          "output_type": "stream",
          "name": "stdout",
          "text": [
            "A similaridade de cossenos centralizada entre U0 e U2 é -0.89.\n"
          ]
        }
      ]
    },
    {
      "cell_type": "code",
      "source": [
        "x = ratings.loc['U0'].values\n",
        "y = ratings.loc['U3'].values"
      ],
      "metadata": {
        "id": "sy_pJxsBK4nx"
      },
      "execution_count": 20,
      "outputs": []
    },
    {
      "cell_type": "code",
      "source": [
        "#Qual o valor da similaridade de cossenos centralizada entre os usuários U1 e U4?\n",
        "centered_cos_sim_U0U3 = centered_cosine_similarity(x, y)\n",
        "print(f'A similaridade de cossenos centralizada entre U0 e U3 é {centered_cos_sim_U0U3:.2f}.')"
      ],
      "metadata": {
        "colab": {
          "base_uri": "https://localhost:8080/"
        },
        "id": "Ehnkr0PxK7-k",
        "outputId": "43b6ad35-3aab-4365-8608-55b7038db734"
      },
      "execution_count": 21,
      "outputs": [
        {
          "output_type": "stream",
          "name": "stdout",
          "text": [
            "A similaridade de cossenos centralizada entre U0 e U3 é 0.44.\n"
          ]
        }
      ]
    },
    {
      "cell_type": "code",
      "source": [
        "x = ratings.loc['U0'].values\n",
        "y = ratings.loc['U4'].values"
      ],
      "metadata": {
        "id": "EOlajTMwLDVF"
      },
      "execution_count": 22,
      "outputs": []
    },
    {
      "cell_type": "code",
      "source": [
        "#Qual o valor da similaridade de cossenos centralizada entre os usuários U1 e U5?\n",
        "centered_cos_sim_U0U4 = centered_cosine_similarity(x, y)\n",
        "print(f'A similaridade de cossenos centralizada entre U0 e U4 é {centered_cos_sim_U0U4:.2f}.')"
      ],
      "metadata": {
        "colab": {
          "base_uri": "https://localhost:8080/"
        },
        "id": "tFKjtYhaLGyp",
        "outputId": "413472e0-aaed-4e5e-e8d4-29867f794bb7"
      },
      "execution_count": 23,
      "outputs": [
        {
          "output_type": "stream",
          "name": "stdout",
          "text": [
            "A similaridade de cossenos centralizada entre U0 e U4 é -0.39.\n"
          ]
        }
      ]
    },
    {
      "cell_type": "code",
      "source": [
        "#Considerando a similaridade de cossenos centralizada, qual o usuário é mais similar ao usuário U1? U2"
      ],
      "metadata": {
        "id": "7g3DmqFGLOrU"
      },
      "execution_count": null,
      "outputs": []
    },
    {
      "cell_type": "code",
      "source": [
        "#Considerando a similaridade de cossenos centralizada, qual o segundo usuário mais similar ao usuário U1? U3\n"
      ],
      "metadata": {
        "id": "6WsYuVRkLh_d"
      },
      "execution_count": null,
      "outputs": []
    },
    {
      "cell_type": "code",
      "source": [
        "#Considerando uma filtragem colaborativa User-User, com agregação pela média simples e número de vizinhos igual a 2, qual a predição para a avaliação do usuário U1 ao item I2?"
      ],
      "metadata": {
        "id": "EDx_fwSaLsWc"
      },
      "execution_count": null,
      "outputs": []
    },
    {
      "cell_type": "code",
      "source": [
        "def estimate_rating(ratings,\n",
        "                    user_index=0,\n",
        "                    item_index=0,\n",
        "                    k=2,\n",
        "                    similarity=centered_cosine_similarity,\n",
        "                    aggregation='mean'):\n",
        "  \"\"\"\n",
        "  Estima a avaliação de um par (usuario, item) pela filtragem colaborativa\n",
        "  Item-Item com a vizinhança de tamanho k.\n",
        "  \"\"\"\n",
        "  # vetor de avaliaçãoes do item\n",
        "  item_rating = ratings.iloc[item_index].values\n",
        "\n",
        "  # calcula a similaridade entre item_index e os demais indices\n",
        "  items_indexes = np.array([i for i in range(ratings.shape[0]) if i!=item_index])\n",
        "  similarities = np.array([similarity(x=item_rating, y=ratings.iloc[i].values) for i in items_indexes])\n",
        "\n",
        "  # acha os k itens mais semelhantes e que possuem avaliação\n",
        "  items_rated = np.where(ratings.iloc[items_indexes, user_index]>0)[0]\n",
        "  sorted_similarities = np.argsort(-1*similarities[items_rated])\n",
        "  k_closest = items_indexes[items_rated[sorted_similarities]][:k]\n",
        "\n",
        "  # agregação\n",
        "  ratings_k_closest = ratings.iloc[k_closest, user_index]\n",
        "  if aggregation=='mean':\n",
        "    prediction = np.mean(ratings_k_closest)\n",
        "  elif aggregation=='wmean':\n",
        "    similarities_k_closest = similarities[items_rated][sorted_similarities][:k]\n",
        "    prediction = np.dot(np.abs(similarities_k_closest),\n",
        "                        ratings_k_closest)/np.sum(np.abs(similarities_k_closest))\n",
        "  else:\n",
        "    raise ValueError(f'{aggregation} is an invalid value for aggregation!')\n",
        "\n",
        "  # trata singularidades\n",
        "  prediction = prediction if not np.isnan(prediction) else 3.\n",
        "\n",
        "  # verbose\n",
        "  print(f\"Predição para user_index={user_index}, item_index={item_index},\" \\\n",
        "        f\"k={k}, aggregation={aggregation} é: {prediction:.2f}\")\n",
        "  return prediction\n"
      ],
      "metadata": {
        "id": "fF3IWntzQcRh"
      },
      "execution_count": 24,
      "outputs": []
    },
    {
      "cell_type": "code",
      "source": [
        "# previsão para usuario = U1, item =2, k=2, aggregation=mean\n",
        "prediction = estimate_rating(ratings,\n",
        "                             user_index=1,\n",
        "                             item_index=0,\n",
        "                             aggregation='mean')"
      ],
      "metadata": {
        "colab": {
          "base_uri": "https://localhost:8080/"
        },
        "id": "O0MRusWrQdhR",
        "outputId": "ea0e308c-bee2-4c88-a832-725d93ab2f7e"
      },
      "execution_count": 42,
      "outputs": [
        {
          "output_type": "stream",
          "name": "stdout",
          "text": [
            "Predição para user_index=1, item_index=0,k=2, aggregation=mean é: 3.75\n"
          ]
        }
      ]
    },
    {
      "cell_type": "code",
      "source": [
        "prediction = estimate_rating(ratings,\n",
        "                             user_index=0,\n",
        "                             item_index=1,\n",
        "                             aggregation='mean')"
      ],
      "metadata": {
        "colab": {
          "base_uri": "https://localhost:8080/"
        },
        "id": "l6yu3Le9VFZs",
        "outputId": "aa1e46ed-b2b2-4b46-bdba-ac0f80a1135b"
      },
      "execution_count": 41,
      "outputs": [
        {
          "output_type": "stream",
          "name": "stdout",
          "text": [
            "Predição para user_index=0, item_index=1,k=2, aggregation=mean é: 4.05\n"
          ]
        }
      ]
    },
    {
      "cell_type": "code",
      "source": [
        "#Considerando uma filtragem colaborativa User-User, com agregação pela média simples\n",
        "#e número de vizinhos igual a 2, qual a predição para a avaliação do usuário U1 ao item I1?\n",
        "#Suponha que a avaliação (U1, I1) seja desconhecida.\n",
        "prediction = estimate_rating(ratings,\n",
        "                             user_index=0,\n",
        "                             item_index=0,\n",
        "                             aggregation='mean')\n"
      ],
      "metadata": {
        "colab": {
          "base_uri": "https://localhost:8080/"
        },
        "id": "Lah0SaKWXhT9",
        "outputId": "0ad8af82-0a31-43f6-ecf1-37021abb3393"
      },
      "execution_count": 26,
      "outputs": [
        {
          "output_type": "stream",
          "name": "stdout",
          "text": [
            "Predição para user_index=0, item_index=0,k=2, aggregation=mean é: 4.55\n"
          ]
        }
      ]
    },
    {
      "cell_type": "code",
      "source": [
        "#Qual o erro absoluto (|real-previsto|) da predição da tupla (U1, I1), considerando uma\n",
        "#filtragem colaborativa User-User, com agregação pela média simples e número de vizinhos igual a 2?"
      ],
      "metadata": {
        "id": "0OfQzKTdX1JE"
      },
      "execution_count": null,
      "outputs": []
    },
    {
      "cell_type": "code",
      "source": [
        "i,j = np.where(ratings > 0)"
      ],
      "metadata": {
        "id": "PqixLr4vOANH"
      },
      "execution_count": 28,
      "outputs": []
    },
    {
      "cell_type": "code",
      "source": [
        "n=len(i)\n",
        "p=.1\n",
        "np.random.seed(25)\n",
        "idx_test=np.random.choice(n, size=int(p*n))"
      ],
      "metadata": {
        "id": "7Ny5UzONOBV3"
      },
      "execution_count": 29,
      "outputs": []
    },
    {
      "cell_type": "code",
      "source": [
        "ratings_train = ratings.copy()\n",
        "ratings_train.iloc[i[idx_test], j[idx_test]]=0."
      ],
      "metadata": {
        "id": "4dnDLnWSODmD"
      },
      "execution_count": 30,
      "outputs": []
    },
    {
      "cell_type": "code",
      "source": [
        "i[idx_test]"
      ],
      "metadata": {
        "colab": {
          "base_uri": "https://localhost:8080/"
        },
        "id": "a4WMyK0_OGSr",
        "outputId": "c258fd5b-700e-4ddb-d2e5-046e3c32aaf2"
      },
      "execution_count": 31,
      "outputs": [
        {
          "output_type": "execute_result",
          "data": {
            "text/plain": [
              "array([1])"
            ]
          },
          "metadata": {},
          "execution_count": 31
        }
      ]
    },
    {
      "cell_type": "code",
      "source": [
        "j[idx_test]"
      ],
      "metadata": {
        "colab": {
          "base_uri": "https://localhost:8080/"
        },
        "id": "eLeGDzBTOJPT",
        "outputId": "8dd21601-bfb1-405e-a6d9-71c8d4327e0b"
      },
      "execution_count": 32,
      "outputs": [
        {
          "output_type": "execute_result",
          "data": {
            "text/plain": [
              "array([1])"
            ]
          },
          "metadata": {},
          "execution_count": 32
        }
      ]
    },
    {
      "cell_type": "code",
      "source": [
        "ratings"
      ],
      "metadata": {
        "colab": {
          "base_uri": "https://localhost:8080/",
          "height": 206
        },
        "id": "zwO8ZRRlOLRX",
        "outputId": "b54235f1-78c9-45b7-e7cc-311f3b1c331d"
      },
      "execution_count": 33,
      "outputs": [
        {
          "output_type": "execute_result",
          "data": {
            "text/plain": [
              "     I0   I1   I2   I3   I4   I5   I6\n",
              "U0  4.0  0.0  0.0  4.7  1.0  0.0  0.0\n",
              "U1  5.0  4.5  4.0  0.0  0.0  0.0  0.0\n",
              "U2  0.0  0.0  0.0  1.5  5.0  4.0  0.0\n",
              "U3  4.1  3.0  0.0  4.9  0.0  0.0  3.0\n",
              "U4  1.0  4.0  0.0  2.5  3.8  1.0  5.0"
            ],
            "text/html": [
              "\n",
              "  <div id=\"df-b70d86e0-53e0-4524-9ae5-2d343c2d7a28\">\n",
              "    <div class=\"colab-df-container\">\n",
              "      <div>\n",
              "<style scoped>\n",
              "    .dataframe tbody tr th:only-of-type {\n",
              "        vertical-align: middle;\n",
              "    }\n",
              "\n",
              "    .dataframe tbody tr th {\n",
              "        vertical-align: top;\n",
              "    }\n",
              "\n",
              "    .dataframe thead th {\n",
              "        text-align: right;\n",
              "    }\n",
              "</style>\n",
              "<table border=\"1\" class=\"dataframe\">\n",
              "  <thead>\n",
              "    <tr style=\"text-align: right;\">\n",
              "      <th></th>\n",
              "      <th>I0</th>\n",
              "      <th>I1</th>\n",
              "      <th>I2</th>\n",
              "      <th>I3</th>\n",
              "      <th>I4</th>\n",
              "      <th>I5</th>\n",
              "      <th>I6</th>\n",
              "    </tr>\n",
              "  </thead>\n",
              "  <tbody>\n",
              "    <tr>\n",
              "      <th>U0</th>\n",
              "      <td>4.0</td>\n",
              "      <td>0.0</td>\n",
              "      <td>0.0</td>\n",
              "      <td>4.7</td>\n",
              "      <td>1.0</td>\n",
              "      <td>0.0</td>\n",
              "      <td>0.0</td>\n",
              "    </tr>\n",
              "    <tr>\n",
              "      <th>U1</th>\n",
              "      <td>5.0</td>\n",
              "      <td>4.5</td>\n",
              "      <td>4.0</td>\n",
              "      <td>0.0</td>\n",
              "      <td>0.0</td>\n",
              "      <td>0.0</td>\n",
              "      <td>0.0</td>\n",
              "    </tr>\n",
              "    <tr>\n",
              "      <th>U2</th>\n",
              "      <td>0.0</td>\n",
              "      <td>0.0</td>\n",
              "      <td>0.0</td>\n",
              "      <td>1.5</td>\n",
              "      <td>5.0</td>\n",
              "      <td>4.0</td>\n",
              "      <td>0.0</td>\n",
              "    </tr>\n",
              "    <tr>\n",
              "      <th>U3</th>\n",
              "      <td>4.1</td>\n",
              "      <td>3.0</td>\n",
              "      <td>0.0</td>\n",
              "      <td>4.9</td>\n",
              "      <td>0.0</td>\n",
              "      <td>0.0</td>\n",
              "      <td>3.0</td>\n",
              "    </tr>\n",
              "    <tr>\n",
              "      <th>U4</th>\n",
              "      <td>1.0</td>\n",
              "      <td>4.0</td>\n",
              "      <td>0.0</td>\n",
              "      <td>2.5</td>\n",
              "      <td>3.8</td>\n",
              "      <td>1.0</td>\n",
              "      <td>5.0</td>\n",
              "    </tr>\n",
              "  </tbody>\n",
              "</table>\n",
              "</div>\n",
              "      <button class=\"colab-df-convert\" onclick=\"convertToInteractive('df-b70d86e0-53e0-4524-9ae5-2d343c2d7a28')\"\n",
              "              title=\"Convert this dataframe to an interactive table.\"\n",
              "              style=\"display:none;\">\n",
              "        \n",
              "  <svg xmlns=\"http://www.w3.org/2000/svg\" height=\"24px\"viewBox=\"0 0 24 24\"\n",
              "       width=\"24px\">\n",
              "    <path d=\"M0 0h24v24H0V0z\" fill=\"none\"/>\n",
              "    <path d=\"M18.56 5.44l.94 2.06.94-2.06 2.06-.94-2.06-.94-.94-2.06-.94 2.06-2.06.94zm-11 1L8.5 8.5l.94-2.06 2.06-.94-2.06-.94L8.5 2.5l-.94 2.06-2.06.94zm10 10l.94 2.06.94-2.06 2.06-.94-2.06-.94-.94-2.06-.94 2.06-2.06.94z\"/><path d=\"M17.41 7.96l-1.37-1.37c-.4-.4-.92-.59-1.43-.59-.52 0-1.04.2-1.43.59L10.3 9.45l-7.72 7.72c-.78.78-.78 2.05 0 2.83L4 21.41c.39.39.9.59 1.41.59.51 0 1.02-.2 1.41-.59l7.78-7.78 2.81-2.81c.8-.78.8-2.07 0-2.86zM5.41 20L4 18.59l7.72-7.72 1.47 1.35L5.41 20z\"/>\n",
              "  </svg>\n",
              "      </button>\n",
              "      \n",
              "  <style>\n",
              "    .colab-df-container {\n",
              "      display:flex;\n",
              "      flex-wrap:wrap;\n",
              "      gap: 12px;\n",
              "    }\n",
              "\n",
              "    .colab-df-convert {\n",
              "      background-color: #E8F0FE;\n",
              "      border: none;\n",
              "      border-radius: 50%;\n",
              "      cursor: pointer;\n",
              "      display: none;\n",
              "      fill: #1967D2;\n",
              "      height: 32px;\n",
              "      padding: 0 0 0 0;\n",
              "      width: 32px;\n",
              "    }\n",
              "\n",
              "    .colab-df-convert:hover {\n",
              "      background-color: #E2EBFA;\n",
              "      box-shadow: 0px 1px 2px rgba(60, 64, 67, 0.3), 0px 1px 3px 1px rgba(60, 64, 67, 0.15);\n",
              "      fill: #174EA6;\n",
              "    }\n",
              "\n",
              "    [theme=dark] .colab-df-convert {\n",
              "      background-color: #3B4455;\n",
              "      fill: #D2E3FC;\n",
              "    }\n",
              "\n",
              "    [theme=dark] .colab-df-convert:hover {\n",
              "      background-color: #434B5C;\n",
              "      box-shadow: 0px 1px 3px 1px rgba(0, 0, 0, 0.15);\n",
              "      filter: drop-shadow(0px 1px 2px rgba(0, 0, 0, 0.3));\n",
              "      fill: #FFFFFF;\n",
              "    }\n",
              "  </style>\n",
              "\n",
              "      <script>\n",
              "        const buttonEl =\n",
              "          document.querySelector('#df-b70d86e0-53e0-4524-9ae5-2d343c2d7a28 button.colab-df-convert');\n",
              "        buttonEl.style.display =\n",
              "          google.colab.kernel.accessAllowed ? 'block' : 'none';\n",
              "\n",
              "        async function convertToInteractive(key) {\n",
              "          const element = document.querySelector('#df-b70d86e0-53e0-4524-9ae5-2d343c2d7a28');\n",
              "          const dataTable =\n",
              "            await google.colab.kernel.invokeFunction('convertToInteractive',\n",
              "                                                     [key], {});\n",
              "          if (!dataTable) return;\n",
              "\n",
              "          const docLinkHtml = 'Like what you see? Visit the ' +\n",
              "            '<a target=\"_blank\" href=https://colab.research.google.com/notebooks/data_table.ipynb>data table notebook</a>'\n",
              "            + ' to learn more about interactive tables.';\n",
              "          element.innerHTML = '';\n",
              "          dataTable['output_type'] = 'display_data';\n",
              "          await google.colab.output.renderOutput(dataTable, element);\n",
              "          const docLink = document.createElement('div');\n",
              "          docLink.innerHTML = docLinkHtml;\n",
              "          element.appendChild(docLink);\n",
              "        }\n",
              "      </script>\n",
              "    </div>\n",
              "  </div>\n",
              "  "
            ]
          },
          "metadata": {},
          "execution_count": 33
        }
      ]
    },
    {
      "cell_type": "code",
      "source": [
        "ratings_train"
      ],
      "metadata": {
        "colab": {
          "base_uri": "https://localhost:8080/",
          "height": 206
        },
        "id": "VeZVGOgrONmI",
        "outputId": "d386a788-5701-4345-c432-2b007491a75b"
      },
      "execution_count": 34,
      "outputs": [
        {
          "output_type": "execute_result",
          "data": {
            "text/plain": [
              "     I0   I1   I2   I3   I4   I5   I6\n",
              "U0  4.0  0.0  0.0  4.7  1.0  0.0  0.0\n",
              "U1  5.0  0.0  4.0  0.0  0.0  0.0  0.0\n",
              "U2  0.0  0.0  0.0  1.5  5.0  4.0  0.0\n",
              "U3  4.1  3.0  0.0  4.9  0.0  0.0  3.0\n",
              "U4  1.0  4.0  0.0  2.5  3.8  1.0  5.0"
            ],
            "text/html": [
              "\n",
              "  <div id=\"df-7badeb64-66c9-4b8f-99c0-ba1d7d0cc0a9\">\n",
              "    <div class=\"colab-df-container\">\n",
              "      <div>\n",
              "<style scoped>\n",
              "    .dataframe tbody tr th:only-of-type {\n",
              "        vertical-align: middle;\n",
              "    }\n",
              "\n",
              "    .dataframe tbody tr th {\n",
              "        vertical-align: top;\n",
              "    }\n",
              "\n",
              "    .dataframe thead th {\n",
              "        text-align: right;\n",
              "    }\n",
              "</style>\n",
              "<table border=\"1\" class=\"dataframe\">\n",
              "  <thead>\n",
              "    <tr style=\"text-align: right;\">\n",
              "      <th></th>\n",
              "      <th>I0</th>\n",
              "      <th>I1</th>\n",
              "      <th>I2</th>\n",
              "      <th>I3</th>\n",
              "      <th>I4</th>\n",
              "      <th>I5</th>\n",
              "      <th>I6</th>\n",
              "    </tr>\n",
              "  </thead>\n",
              "  <tbody>\n",
              "    <tr>\n",
              "      <th>U0</th>\n",
              "      <td>4.0</td>\n",
              "      <td>0.0</td>\n",
              "      <td>0.0</td>\n",
              "      <td>4.7</td>\n",
              "      <td>1.0</td>\n",
              "      <td>0.0</td>\n",
              "      <td>0.0</td>\n",
              "    </tr>\n",
              "    <tr>\n",
              "      <th>U1</th>\n",
              "      <td>5.0</td>\n",
              "      <td>0.0</td>\n",
              "      <td>4.0</td>\n",
              "      <td>0.0</td>\n",
              "      <td>0.0</td>\n",
              "      <td>0.0</td>\n",
              "      <td>0.0</td>\n",
              "    </tr>\n",
              "    <tr>\n",
              "      <th>U2</th>\n",
              "      <td>0.0</td>\n",
              "      <td>0.0</td>\n",
              "      <td>0.0</td>\n",
              "      <td>1.5</td>\n",
              "      <td>5.0</td>\n",
              "      <td>4.0</td>\n",
              "      <td>0.0</td>\n",
              "    </tr>\n",
              "    <tr>\n",
              "      <th>U3</th>\n",
              "      <td>4.1</td>\n",
              "      <td>3.0</td>\n",
              "      <td>0.0</td>\n",
              "      <td>4.9</td>\n",
              "      <td>0.0</td>\n",
              "      <td>0.0</td>\n",
              "      <td>3.0</td>\n",
              "    </tr>\n",
              "    <tr>\n",
              "      <th>U4</th>\n",
              "      <td>1.0</td>\n",
              "      <td>4.0</td>\n",
              "      <td>0.0</td>\n",
              "      <td>2.5</td>\n",
              "      <td>3.8</td>\n",
              "      <td>1.0</td>\n",
              "      <td>5.0</td>\n",
              "    </tr>\n",
              "  </tbody>\n",
              "</table>\n",
              "</div>\n",
              "      <button class=\"colab-df-convert\" onclick=\"convertToInteractive('df-7badeb64-66c9-4b8f-99c0-ba1d7d0cc0a9')\"\n",
              "              title=\"Convert this dataframe to an interactive table.\"\n",
              "              style=\"display:none;\">\n",
              "        \n",
              "  <svg xmlns=\"http://www.w3.org/2000/svg\" height=\"24px\"viewBox=\"0 0 24 24\"\n",
              "       width=\"24px\">\n",
              "    <path d=\"M0 0h24v24H0V0z\" fill=\"none\"/>\n",
              "    <path d=\"M18.56 5.44l.94 2.06.94-2.06 2.06-.94-2.06-.94-.94-2.06-.94 2.06-2.06.94zm-11 1L8.5 8.5l.94-2.06 2.06-.94-2.06-.94L8.5 2.5l-.94 2.06-2.06.94zm10 10l.94 2.06.94-2.06 2.06-.94-2.06-.94-.94-2.06-.94 2.06-2.06.94z\"/><path d=\"M17.41 7.96l-1.37-1.37c-.4-.4-.92-.59-1.43-.59-.52 0-1.04.2-1.43.59L10.3 9.45l-7.72 7.72c-.78.78-.78 2.05 0 2.83L4 21.41c.39.39.9.59 1.41.59.51 0 1.02-.2 1.41-.59l7.78-7.78 2.81-2.81c.8-.78.8-2.07 0-2.86zM5.41 20L4 18.59l7.72-7.72 1.47 1.35L5.41 20z\"/>\n",
              "  </svg>\n",
              "      </button>\n",
              "      \n",
              "  <style>\n",
              "    .colab-df-container {\n",
              "      display:flex;\n",
              "      flex-wrap:wrap;\n",
              "      gap: 12px;\n",
              "    }\n",
              "\n",
              "    .colab-df-convert {\n",
              "      background-color: #E8F0FE;\n",
              "      border: none;\n",
              "      border-radius: 50%;\n",
              "      cursor: pointer;\n",
              "      display: none;\n",
              "      fill: #1967D2;\n",
              "      height: 32px;\n",
              "      padding: 0 0 0 0;\n",
              "      width: 32px;\n",
              "    }\n",
              "\n",
              "    .colab-df-convert:hover {\n",
              "      background-color: #E2EBFA;\n",
              "      box-shadow: 0px 1px 2px rgba(60, 64, 67, 0.3), 0px 1px 3px 1px rgba(60, 64, 67, 0.15);\n",
              "      fill: #174EA6;\n",
              "    }\n",
              "\n",
              "    [theme=dark] .colab-df-convert {\n",
              "      background-color: #3B4455;\n",
              "      fill: #D2E3FC;\n",
              "    }\n",
              "\n",
              "    [theme=dark] .colab-df-convert:hover {\n",
              "      background-color: #434B5C;\n",
              "      box-shadow: 0px 1px 3px 1px rgba(0, 0, 0, 0.15);\n",
              "      filter: drop-shadow(0px 1px 2px rgba(0, 0, 0, 0.3));\n",
              "      fill: #FFFFFF;\n",
              "    }\n",
              "  </style>\n",
              "\n",
              "      <script>\n",
              "        const buttonEl =\n",
              "          document.querySelector('#df-7badeb64-66c9-4b8f-99c0-ba1d7d0cc0a9 button.colab-df-convert');\n",
              "        buttonEl.style.display =\n",
              "          google.colab.kernel.accessAllowed ? 'block' : 'none';\n",
              "\n",
              "        async function convertToInteractive(key) {\n",
              "          const element = document.querySelector('#df-7badeb64-66c9-4b8f-99c0-ba1d7d0cc0a9');\n",
              "          const dataTable =\n",
              "            await google.colab.kernel.invokeFunction('convertToInteractive',\n",
              "                                                     [key], {});\n",
              "          if (!dataTable) return;\n",
              "\n",
              "          const docLinkHtml = 'Like what you see? Visit the ' +\n",
              "            '<a target=\"_blank\" href=https://colab.research.google.com/notebooks/data_table.ipynb>data table notebook</a>'\n",
              "            + ' to learn more about interactive tables.';\n",
              "          element.innerHTML = '';\n",
              "          dataTable['output_type'] = 'display_data';\n",
              "          await google.colab.output.renderOutput(dataTable, element);\n",
              "          const docLink = document.createElement('div');\n",
              "          docLink.innerHTML = docLinkHtml;\n",
              "          element.appendChild(docLink);\n",
              "        }\n",
              "      </script>\n",
              "    </div>\n",
              "  </div>\n",
              "  "
            ]
          },
          "metadata": {},
          "execution_count": 34
        }
      ]
    },
    {
      "cell_type": "code",
      "source": [
        "y_true = ratings.values[i[idx_test], j[idx_test]]"
      ],
      "metadata": {
        "id": "pP2gWT8wOQJD"
      },
      "execution_count": 35,
      "outputs": []
    },
    {
      "cell_type": "code",
      "source": [
        "y_true"
      ],
      "metadata": {
        "colab": {
          "base_uri": "https://localhost:8080/"
        },
        "id": "Xn9-PBbROREP",
        "outputId": "d672aa41-ee22-4f0a-dab0-ca2eff8f94b7"
      },
      "execution_count": 36,
      "outputs": [
        {
          "output_type": "execute_result",
          "data": {
            "text/plain": [
              "array([4.5])"
            ]
          },
          "metadata": {},
          "execution_count": 36
        }
      ]
    },
    {
      "cell_type": "code",
      "source": [
        "y_pred=[]\n",
        "for k in range(len(idx_test)):\n",
        "  y_pred.append(estimate_rating(ratings_train,\n",
        "                user_index=j[idx_test][k],\n",
        "                item_index=i[idx_test][k],\n",
        "                aggregation='mean'))"
      ],
      "metadata": {
        "colab": {
          "base_uri": "https://localhost:8080/"
        },
        "id": "styi8EaRNj6w",
        "outputId": "fa1b80cb-72cb-47a7-8b30-2d983f6c19a5"
      },
      "execution_count": 37,
      "outputs": [
        {
          "output_type": "stream",
          "name": "stdout",
          "text": [
            "Predição para user_index=1, item_index=1,k=2, aggregation=mean é: 3.50\n"
          ]
        }
      ]
    },
    {
      "cell_type": "code",
      "source": [
        "y_pred"
      ],
      "metadata": {
        "colab": {
          "base_uri": "https://localhost:8080/"
        },
        "id": "WqOUxNPjOVsz",
        "outputId": "79c11bff-d400-4750-b73f-d3e3f4f7e4c0"
      },
      "execution_count": 38,
      "outputs": [
        {
          "output_type": "execute_result",
          "data": {
            "text/plain": [
              "[3.5]"
            ]
          },
          "metadata": {},
          "execution_count": 38
        }
      ]
    },
    {
      "cell_type": "code",
      "source": [
        "rmse = np.sqrt(np.sum((y_true-y_pred)**2))\n",
        "print(f\"RMSE de teste FC agregando pela média simples: {rmse: .2f}\")"
      ],
      "metadata": {
        "colab": {
          "base_uri": "https://localhost:8080/"
        },
        "id": "rIgvae0yOY0f",
        "outputId": "a9a10359-44c0-435a-e4b4-4a143f1383d9"
      },
      "execution_count": 39,
      "outputs": [
        {
          "output_type": "stream",
          "name": "stdout",
          "text": [
            "RMSE de teste FC agregando pela média simples:  1.00\n"
          ]
        }
      ]
    },
    {
      "cell_type": "code",
      "source": [
        "ratings = np.array([[4.0,3.59,0.0,4.7,1.0,0.0,0.0],\n",
        "                   [5.0,4.5,4.0,0.0,0.0,0.0,0.0],\n",
        "                   [0.0,0.0,0.0,1.5,5.0,4.0,0.0],\n",
        "                   [4.1,3.0,0.0,4.9,0.0,0.0,3.0],\n",
        "                   [1.0,4.0,0.0,2.5,3.8,1.0,5.0]])\n",
        "columns = ['I'+str(i) for i in range(ratings.shape[1])]\n",
        "index = ['U'+str(i) for i in range(ratings.shape[0])]"
      ],
      "metadata": {
        "id": "7rmcK0aCc3UH"
      },
      "execution_count": 52,
      "outputs": []
    },
    {
      "cell_type": "code",
      "source": [
        "ratings = pd.DataFrame(data=ratings, columns=columns, index=index, dtype=float)"
      ],
      "metadata": {
        "id": "1611czstdVFI"
      },
      "execution_count": 53,
      "outputs": []
    },
    {
      "cell_type": "code",
      "source": [
        "ratings"
      ],
      "metadata": {
        "colab": {
          "base_uri": "https://localhost:8080/",
          "height": 206
        },
        "id": "GmuOJ2V7dadP",
        "outputId": "1811acfd-402a-45b9-d910-a43375f73c46"
      },
      "execution_count": 54,
      "outputs": [
        {
          "output_type": "execute_result",
          "data": {
            "text/plain": [
              "     I0    I1   I2   I3   I4   I5   I6\n",
              "U0  4.0  3.59  0.0  4.7  1.0  0.0  0.0\n",
              "U1  5.0  4.50  4.0  0.0  0.0  0.0  0.0\n",
              "U2  0.0  0.00  0.0  1.5  5.0  4.0  0.0\n",
              "U3  4.1  3.00  0.0  4.9  0.0  0.0  3.0\n",
              "U4  1.0  4.00  0.0  2.5  3.8  1.0  5.0"
            ],
            "text/html": [
              "\n",
              "  <div id=\"df-22f549aa-78c2-431c-aadc-caf5278babf8\">\n",
              "    <div class=\"colab-df-container\">\n",
              "      <div>\n",
              "<style scoped>\n",
              "    .dataframe tbody tr th:only-of-type {\n",
              "        vertical-align: middle;\n",
              "    }\n",
              "\n",
              "    .dataframe tbody tr th {\n",
              "        vertical-align: top;\n",
              "    }\n",
              "\n",
              "    .dataframe thead th {\n",
              "        text-align: right;\n",
              "    }\n",
              "</style>\n",
              "<table border=\"1\" class=\"dataframe\">\n",
              "  <thead>\n",
              "    <tr style=\"text-align: right;\">\n",
              "      <th></th>\n",
              "      <th>I0</th>\n",
              "      <th>I1</th>\n",
              "      <th>I2</th>\n",
              "      <th>I3</th>\n",
              "      <th>I4</th>\n",
              "      <th>I5</th>\n",
              "      <th>I6</th>\n",
              "    </tr>\n",
              "  </thead>\n",
              "  <tbody>\n",
              "    <tr>\n",
              "      <th>U0</th>\n",
              "      <td>4.0</td>\n",
              "      <td>3.59</td>\n",
              "      <td>0.0</td>\n",
              "      <td>4.7</td>\n",
              "      <td>1.0</td>\n",
              "      <td>0.0</td>\n",
              "      <td>0.0</td>\n",
              "    </tr>\n",
              "    <tr>\n",
              "      <th>U1</th>\n",
              "      <td>5.0</td>\n",
              "      <td>4.50</td>\n",
              "      <td>4.0</td>\n",
              "      <td>0.0</td>\n",
              "      <td>0.0</td>\n",
              "      <td>0.0</td>\n",
              "      <td>0.0</td>\n",
              "    </tr>\n",
              "    <tr>\n",
              "      <th>U2</th>\n",
              "      <td>0.0</td>\n",
              "      <td>0.00</td>\n",
              "      <td>0.0</td>\n",
              "      <td>1.5</td>\n",
              "      <td>5.0</td>\n",
              "      <td>4.0</td>\n",
              "      <td>0.0</td>\n",
              "    </tr>\n",
              "    <tr>\n",
              "      <th>U3</th>\n",
              "      <td>4.1</td>\n",
              "      <td>3.00</td>\n",
              "      <td>0.0</td>\n",
              "      <td>4.9</td>\n",
              "      <td>0.0</td>\n",
              "      <td>0.0</td>\n",
              "      <td>3.0</td>\n",
              "    </tr>\n",
              "    <tr>\n",
              "      <th>U4</th>\n",
              "      <td>1.0</td>\n",
              "      <td>4.00</td>\n",
              "      <td>0.0</td>\n",
              "      <td>2.5</td>\n",
              "      <td>3.8</td>\n",
              "      <td>1.0</td>\n",
              "      <td>5.0</td>\n",
              "    </tr>\n",
              "  </tbody>\n",
              "</table>\n",
              "</div>\n",
              "      <button class=\"colab-df-convert\" onclick=\"convertToInteractive('df-22f549aa-78c2-431c-aadc-caf5278babf8')\"\n",
              "              title=\"Convert this dataframe to an interactive table.\"\n",
              "              style=\"display:none;\">\n",
              "        \n",
              "  <svg xmlns=\"http://www.w3.org/2000/svg\" height=\"24px\"viewBox=\"0 0 24 24\"\n",
              "       width=\"24px\">\n",
              "    <path d=\"M0 0h24v24H0V0z\" fill=\"none\"/>\n",
              "    <path d=\"M18.56 5.44l.94 2.06.94-2.06 2.06-.94-2.06-.94-.94-2.06-.94 2.06-2.06.94zm-11 1L8.5 8.5l.94-2.06 2.06-.94-2.06-.94L8.5 2.5l-.94 2.06-2.06.94zm10 10l.94 2.06.94-2.06 2.06-.94-2.06-.94-.94-2.06-.94 2.06-2.06.94z\"/><path d=\"M17.41 7.96l-1.37-1.37c-.4-.4-.92-.59-1.43-.59-.52 0-1.04.2-1.43.59L10.3 9.45l-7.72 7.72c-.78.78-.78 2.05 0 2.83L4 21.41c.39.39.9.59 1.41.59.51 0 1.02-.2 1.41-.59l7.78-7.78 2.81-2.81c.8-.78.8-2.07 0-2.86zM5.41 20L4 18.59l7.72-7.72 1.47 1.35L5.41 20z\"/>\n",
              "  </svg>\n",
              "      </button>\n",
              "      \n",
              "  <style>\n",
              "    .colab-df-container {\n",
              "      display:flex;\n",
              "      flex-wrap:wrap;\n",
              "      gap: 12px;\n",
              "    }\n",
              "\n",
              "    .colab-df-convert {\n",
              "      background-color: #E8F0FE;\n",
              "      border: none;\n",
              "      border-radius: 50%;\n",
              "      cursor: pointer;\n",
              "      display: none;\n",
              "      fill: #1967D2;\n",
              "      height: 32px;\n",
              "      padding: 0 0 0 0;\n",
              "      width: 32px;\n",
              "    }\n",
              "\n",
              "    .colab-df-convert:hover {\n",
              "      background-color: #E2EBFA;\n",
              "      box-shadow: 0px 1px 2px rgba(60, 64, 67, 0.3), 0px 1px 3px 1px rgba(60, 64, 67, 0.15);\n",
              "      fill: #174EA6;\n",
              "    }\n",
              "\n",
              "    [theme=dark] .colab-df-convert {\n",
              "      background-color: #3B4455;\n",
              "      fill: #D2E3FC;\n",
              "    }\n",
              "\n",
              "    [theme=dark] .colab-df-convert:hover {\n",
              "      background-color: #434B5C;\n",
              "      box-shadow: 0px 1px 3px 1px rgba(0, 0, 0, 0.15);\n",
              "      filter: drop-shadow(0px 1px 2px rgba(0, 0, 0, 0.3));\n",
              "      fill: #FFFFFF;\n",
              "    }\n",
              "  </style>\n",
              "\n",
              "      <script>\n",
              "        const buttonEl =\n",
              "          document.querySelector('#df-22f549aa-78c2-431c-aadc-caf5278babf8 button.colab-df-convert');\n",
              "        buttonEl.style.display =\n",
              "          google.colab.kernel.accessAllowed ? 'block' : 'none';\n",
              "\n",
              "        async function convertToInteractive(key) {\n",
              "          const element = document.querySelector('#df-22f549aa-78c2-431c-aadc-caf5278babf8');\n",
              "          const dataTable =\n",
              "            await google.colab.kernel.invokeFunction('convertToInteractive',\n",
              "                                                     [key], {});\n",
              "          if (!dataTable) return;\n",
              "\n",
              "          const docLinkHtml = 'Like what you see? Visit the ' +\n",
              "            '<a target=\"_blank\" href=https://colab.research.google.com/notebooks/data_table.ipynb>data table notebook</a>'\n",
              "            + ' to learn more about interactive tables.';\n",
              "          element.innerHTML = '';\n",
              "          dataTable['output_type'] = 'display_data';\n",
              "          await google.colab.output.renderOutput(dataTable, element);\n",
              "          const docLink = document.createElement('div');\n",
              "          docLink.innerHTML = docLinkHtml;\n",
              "          element.appendChild(docLink);\n",
              "        }\n",
              "      </script>\n",
              "    </div>\n",
              "  </div>\n",
              "  "
            ]
          },
          "metadata": {},
          "execution_count": 54
        }
      ]
    },
    {
      "cell_type": "code",
      "source": [
        "x = ratings.loc['U0'].values\n",
        "y = ratings.loc['U1'].values"
      ],
      "metadata": {
        "id": "K9b_w7sCdcv6"
      },
      "execution_count": 55,
      "outputs": []
    },
    {
      "cell_type": "code",
      "source": [
        "cos_sim_U0U1 = cosine_similarity(x,y)\n",
        "print(f\"A similaridade de cossenos entre U0 e U1 é {cos_sim_U0U1:.2f}.\")"
      ],
      "metadata": {
        "colab": {
          "base_uri": "https://localhost:8080/"
        },
        "id": "LIXywMlzeJ_a",
        "outputId": "e969c695-0a49-4f50-bbb6-ae9da39534a5"
      },
      "execution_count": 56,
      "outputs": [
        {
          "output_type": "stream",
          "name": "stdout",
          "text": [
            "A similaridade de cossenos entre U0 e U1 é 0.64.\n"
          ]
        }
      ]
    },
    {
      "cell_type": "code",
      "source": [
        "def estimate_rating(ratings,\n",
        "                    user_index=0,\n",
        "                    item_index=0,\n",
        "                    k=2,\n",
        "                    similarity=centered_cosine_similarity,\n",
        "                    aggregation='mean'):\n",
        "  \"\"\"\n",
        "  Estima a avaliação de um par (usuario, item) pela filtragem colaborativa\n",
        "  Item-Item com a vizinhança de tamanho k.\n",
        "  \"\"\"\n",
        "  # vetor de avaliaçãoes do item\n",
        "  item_rating = ratings.iloc[item_index].values\n",
        "\n",
        "  # calcula a similaridade entre item_index e os demais indices\n",
        "  items_indexes = np.array([i for i in range(ratings.shape[0]) if i!=item_index])\n",
        "  similarities = np.array([similarity(x=item_rating, y=ratings.iloc[i].values) for i in items_indexes])\n",
        "\n",
        "  # acha os k itens mais semelhantes e que possuem avaliação\n",
        "  items_rated = np.where(ratings.iloc[items_indexes, user_index]>0)[0]\n",
        "  sorted_similarities = np.argsort(-1*similarities[items_rated])\n",
        "  k_closest = items_indexes[items_rated[sorted_similarities]][:k]\n",
        "\n",
        "  # agregação\n",
        "  ratings_k_closest = ratings.iloc[k_closest, user_index]\n",
        "  if aggregation=='mean':\n",
        "    prediction = np.mean(ratings_k_closest)\n",
        "  elif aggregation=='wmean':\n",
        "    similarities_k_closest = similarities[items_rated][sorted_similarities][:k]\n",
        "    prediction = np.dot(np.abs(similarities_k_closest),\n",
        "                        ratings_k_closest)/np.sum(np.abs(similarities_k_closest))\n",
        "  else:\n",
        "    raise ValueError(f'{aggregation} is an invalid value for aggregation!')\n",
        "\n",
        "  # trata singularidades\n",
        "  prediction = prediction if not np.isnan(prediction) else 3.\n",
        "\n",
        "  # verbose\n",
        "  print(f\"Predição para user_index={user_index}, item_index={item_index},\" \\\n",
        "        f\"k={k}, aggregation={aggregation} é: {prediction:.2f}\")\n",
        "  return prediction\n"
      ],
      "metadata": {
        "id": "zJbTDkhodnRP"
      },
      "execution_count": 57,
      "outputs": []
    },
    {
      "cell_type": "code",
      "source": [
        "prediction = estimate_rating(ratings,\n",
        "                             user_index=0,\n",
        "                             item_index=1,\n",
        "                             aggregation='mean')"
      ],
      "metadata": {
        "colab": {
          "base_uri": "https://localhost:8080/"
        },
        "id": "RdpaMsPLd2HD",
        "outputId": "9538c1a2-65fe-4e73-ea05-94587376635d"
      },
      "execution_count": 59,
      "outputs": [
        {
          "output_type": "stream",
          "name": "stdout",
          "text": [
            "Predição para user_index=0, item_index=1,k=2, aggregation=mean é: 4.05\n"
          ]
        }
      ]
    }
  ]
}