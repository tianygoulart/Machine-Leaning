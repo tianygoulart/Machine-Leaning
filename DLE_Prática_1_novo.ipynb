{
  "nbformat": 4,
  "nbformat_minor": 0,
  "metadata": {
    "colab": {
      "name": "DLE - Prática 1 novo",
      "provenance": [],
      "include_colab_link": true
    },
    "kernelspec": {
      "name": "python3",
      "display_name": "Python 3"
    },
    "language_info": {
      "name": "python"
    },
    "accelerator": "GPU"
  },
  "cells": [
    {
      "cell_type": "markdown",
      "metadata": {
        "id": "view-in-github",
        "colab_type": "text"
      },
      "source": [
        "<a href=\"https://colab.research.google.com/github/tianygoulart/Machine-Leaning/blob/main/DLE_Pr%C3%A1tica_1_novo.ipynb\" target=\"_parent\"><img src=\"https://colab.research.google.com/assets/colab-badge.svg\" alt=\"Open In Colab\"/></a>"
      ]
    },
    {
      "cell_type": "code",
      "metadata": {
        "id": "kcCDoMOLUjp-"
      },
      "source": [
        "import numpy #importa biblioteca para manipulação de matrizes\n",
        "from matplotlib import pyplot as plt #importa bilbioteca para criação de gráficos\n",
        "\n",
        "#início das importações de classes do Keras (modelos de Deep Learning)\n",
        "from keras.datasets import mnist           #importa dataset mnist\n",
        "from keras.models import Sequential        #importa um modelo sequencial\n",
        "from keras.layers import Dense, InputLayer #importa camadas totalmente conectadas\n",
        "from keras.layers import Dropout           #importa a estrutura de dropout\n",
        "from keras.utils import np_utils           #importa biblioteca de utilidades do Keras"
      ],
      "execution_count": null,
      "outputs": []
    },
    {
      "cell_type": "code",
      "metadata": {
        "colab": {
          "base_uri": "https://localhost:8080/",
          "height": 352
        },
        "id": "J3Sv1-tSU9ij",
        "outputId": "1af3f061-c04f-42b8-d33e-bead3ddc6494"
      },
      "source": [
        "(X_train, y_train), (X_test, y_test) = mnist.load_data() #importa o dataset Mnist da biblioteca do Keras\n",
        "print(X_train.shape) #imprime o tamanho do vetor\n",
        "\n",
        "first_image = X_train[1001] #obtém a imagem de treino no índice 100 do vetor\n",
        "# realiza manipulação dos dados da imagem\n",
        "first_image = numpy.array(first_image, dtype='float')\n",
        "pixels = first_image.reshape((28, 28))\n",
        "#exibe a imagem do vetor\n",
        "plt.imshow(pixels, cmap='gray')\n",
        "plt.show()\n",
        "\n",
        "print(y_train[1001]) #imprime a classe da imagem de treino do índice 100"
      ],
      "execution_count": null,
      "outputs": [
        {
          "output_type": "stream",
          "name": "stdout",
          "text": [
            "Downloading data from https://storage.googleapis.com/tensorflow/tf-keras-datasets/mnist.npz\n",
            "11493376/11490434 [==============================] - 0s 0us/step\n",
            "11501568/11490434 [==============================] - 0s 0us/step\n",
            "(60000, 28, 28)\n"
          ]
        },
        {
          "output_type": "display_data",
          "data": {
            "image/png": "[encoded data removed]",
            "text/plain": [
              "<Figure size 432x288 with 1 Axes>"
            ]
          },
          "metadata": {
            "needs_background": "light"
          }
        },
        {
          "output_type": "stream",
          "name": "stdout",
          "text": [
            "7\n"
          ]
        }
      ]
    },
    {
      "cell_type": "code",
      "metadata": {
        "colab": {
          "base_uri": "https://localhost:8080/"
        },
        "id": "4RfpfgYrU-r4",
        "outputId": "bcd9718a-6f15-4342-8751-b87e63d5a861"
      },
      "source": [
        "num_pixels = X_train.shape[1] * X_train.shape[2]  #calcula o total de pixels da imagem\n",
        "print(num_pixels)\n",
        "\n",
        "#tranforma os valores dos pixels para float32\n",
        "X_train2 = X_train.reshape(X_train.shape[0], num_pixels).astype('float32')\n",
        "X_test2 = X_test.reshape(X_test.shape[0], num_pixels).astype('float32')\n",
        "\n",
        "#normalizando os valores dos pixels entre 0 e 1\n",
        "X_train2 = X_train2 / 255\n",
        "X_test2 = X_test2 / 255"
      ],
      "execution_count": null,
      "outputs": [
        {
          "output_type": "stream",
          "name": "stdout",
          "text": [
            "784\n"
          ]
        }
      ]
    },
    {
      "cell_type": "code",
      "metadata": {
        "id": "q5xsItS8VYKz",
        "colab": {
          "base_uri": "https://localhost:8080/"
        },
        "outputId": "b3dbaac2-4f3d-49d1-a7ec-505451de9616"
      },
      "source": [
        "# transforma os y em one-hot vector\n",
        "y_train_h = np_utils.to_categorical(y_train)\n",
        "y_test_h = np_utils.to_categorical(y_test)\n",
        "\n",
        "#otém o número de classes do problema\n",
        "num_classes = y_test_h.shape[1]\n",
        "\n",
        "print(num_pixels)\n",
        "print(y_train[1001])\n",
        "print(y_train_h[1001])"
      ],
      "execution_count": null,
      "outputs": [
        {
          "output_type": "stream",
          "name": "stdout",
          "text": [
            "784\n",
            "7\n",
            "[0. 0. 0. 0. 0. 0. 0. 1. 0. 0.]\n"
          ]
        }
      ]
    },
    {
      "cell_type": "code",
      "metadata": {
        "colab": {
          "base_uri": "https://localhost:8080/"
        },
        "id": "zD0DdURHZvGQ",
        "outputId": "1fc0fb7a-0b89-4ec9-eb67-655d510d4790"
      },
      "source": [
        "# Cria um modelo do tipo sequencial\n",
        "model = Sequential()\n",
        "\n",
        "#model.add(InputLayer(input_shape = num_pixels))\n",
        "model.add(Dense(num_pixels, input_dim=num_pixels, kernel_initializer='normal', activation='relu')) # cria a primeira camada da rede\n",
        "model.add(Dense(1024, kernel_initializer='normal', activation='relu')) # cria a primeira camada da rede\n",
        "model.add(Dense(2048, kernel_initializer='normal', activation='relu')) # cria a segunda camada da rede\n",
        "model.add(Dense(num_classes, kernel_initializer='normal', activation='softmax')) # cria a camada de saída\n",
        "\n",
        "model.summary() #imprime informações sobre o modelo"
      ],
      "execution_count": null,
      "outputs": [
        {
          "output_type": "stream",
          "name": "stdout",
          "text": [
            "Model: \"sequential_1\"\n",
            "_________________________________________________________________\n",
            " Layer (type)                Output Shape              Param #   \n",
            "=================================================================\n",
            " dense_4 (Dense)             (None, 784)               615440    \n",
            "                                                                 \n",
            " dense_5 (Dense)             (None, 1024)              803840    \n",
            "                                                                 \n",
            " dense_6 (Dense)             (None, 2048)              2099200   \n",
            "                                                                 \n",
            " dense_7 (Dense)             (None, 10)                20490     \n",
            "                                                                 \n",
            "=================================================================\n",
            "Total params: 3,538,970\n",
            "Trainable params: 3,538,970\n",
            "Non-trainable params: 0\n",
            "_________________________________________________________________\n"
          ]
        }
      ]
    },
    {
      "cell_type": "code",
      "metadata": {
        "colab": {
          "base_uri": "https://localhost:8080/"
        },
        "id": "nh7nZg4Aj9Jv",
        "outputId": "553e2edc-9828-4ddb-849e-1fe142514094"
      },
      "source": [
        "model.compile(loss='categorical_crossentropy', optimizer='adam', metrics=['accuracy']) #compila o modelo criado\n",
        "result = model.fit(X_train2, y_train_h, validation_data=(X_test2, y_test_h), epochs=20, verbose=1, batch_size = 100) #executa o treinamento"
      ],
      "execution_count": null,
      "outputs": [
        {
          "output_type": "stream",
          "text": [
            "Epoch 1/20\n",
            "600/600 [==============================] - 16s 4ms/step - loss: 0.3363 - accuracy: 0.8962 - val_loss: 0.1141 - val_accuracy: 0.9648\n",
            "Epoch 2/20\n",
            "600/600 [==============================] - 2s 3ms/step - loss: 0.0740 - accuracy: 0.9778 - val_loss: 0.0942 - val_accuracy: 0.9712\n",
            "Epoch 3/20\n",
            "600/600 [==============================] - 2s 3ms/step - loss: 0.0446 - accuracy: 0.9858 - val_loss: 0.0839 - val_accuracy: 0.9744\n",
            "Epoch 4/20\n",
            "600/600 [==============================] - 2s 3ms/step - loss: 0.0303 - accuracy: 0.9903 - val_loss: 0.0835 - val_accuracy: 0.9776\n",
            "Epoch 5/20\n",
            "600/600 [==============================] - 2s 3ms/step - loss: 0.0262 - accuracy: 0.9911 - val_loss: 0.0799 - val_accuracy: 0.9786\n",
            "Epoch 6/20\n",
            "600/600 [==============================] - 2s 3ms/step - loss: 0.0249 - accuracy: 0.9920 - val_loss: 0.0969 - val_accuracy: 0.9754\n",
            "Epoch 7/20\n",
            "600/600 [==============================] - 2s 3ms/step - loss: 0.0207 - accuracy: 0.9932 - val_loss: 0.0879 - val_accuracy: 0.9782\n",
            "Epoch 8/20\n",
            "600/600 [==============================] - 2s 3ms/step - loss: 0.0228 - accuracy: 0.9922 - val_loss: 0.0925 - val_accuracy: 0.9783\n",
            "Epoch 9/20\n",
            "600/600 [==============================] - 2s 3ms/step - loss: 0.0157 - accuracy: 0.9951 - val_loss: 0.0774 - val_accuracy: 0.9836\n",
            "Epoch 10/20\n",
            "600/600 [==============================] - 2s 3ms/step - loss: 0.0153 - accuracy: 0.9955 - val_loss: 0.0821 - val_accuracy: 0.9822\n",
            "Epoch 11/20\n",
            "600/600 [==============================] - 2s 3ms/step - loss: 0.0142 - accuracy: 0.9954 - val_loss: 0.0939 - val_accuracy: 0.9808\n",
            "Epoch 12/20\n",
            "600/600 [==============================] - 2s 3ms/step - loss: 0.0118 - accuracy: 0.9962 - val_loss: 0.0931 - val_accuracy: 0.9823\n",
            "Epoch 13/20\n",
            "600/600 [==============================] - 2s 3ms/step - loss: 0.0090 - accuracy: 0.9973 - val_loss: 0.1275 - val_accuracy: 0.9759\n",
            "Epoch 14/20\n",
            "600/600 [==============================] - 2s 3ms/step - loss: 0.0169 - accuracy: 0.9953 - val_loss: 0.0958 - val_accuracy: 0.9821\n",
            "Epoch 15/20\n",
            "600/600 [==============================] - 2s 3ms/step - loss: 0.0065 - accuracy: 0.9981 - val_loss: 0.0887 - val_accuracy: 0.9819\n",
            "Epoch 16/20\n",
            "600/600 [==============================] - 2s 3ms/step - loss: 0.0135 - accuracy: 0.9960 - val_loss: 0.0947 - val_accuracy: 0.9819\n",
            "Epoch 17/20\n",
            "600/600 [==============================] - 2s 3ms/step - loss: 0.0122 - accuracy: 0.9964 - val_loss: 0.1105 - val_accuracy: 0.9800\n",
            "Epoch 18/20\n",
            "600/600 [==============================] - 2s 3ms/step - loss: 0.0134 - accuracy: 0.9964 - val_loss: 0.0993 - val_accuracy: 0.9807\n",
            "Epoch 19/20\n",
            "600/600 [==============================] - 2s 3ms/step - loss: 0.0064 - accuracy: 0.9979 - val_loss: 0.0997 - val_accuracy: 0.9828\n",
            "Epoch 20/20\n",
            "600/600 [==============================] - 2s 3ms/step - loss: 0.0070 - accuracy: 0.9979 - val_loss: 0.1321 - val_accuracy: 0.9788\n"
          ],
          "name": "stdout"
        }
      ]
    },
    {
      "cell_type": "code",
      "metadata": {
        "colab": {
          "base_uri": "https://localhost:8080/"
        },
        "id": "3-d-MyOOoe1H",
        "outputId": "335a2455-4492-4cd1-a23c-dc2adf9deae8"
      },
      "source": [
        "#obtém a imagem número 1001\n",
        "x = X_train2[1001]\n",
        "print(x.shape)\n",
        "x = numpy.expand_dims(x, axis=0)\n",
        "print(x.shape)\n",
        "\n",
        "# imprime a avaliação da amostra\n",
        "print(model.predict(x))\n",
        "print(numpy.argmax(model.predict(x)))"
      ],
      "execution_count": null,
      "outputs": [
        {
          "output_type": "stream",
          "text": [
            "(784,)\n",
            "(1, 784)\n",
            "[[4.2241606e-19 1.1044159e-13 3.0527857e-15 5.2271426e-17 2.1052537e-08\n",
            "  1.1259710e-13 3.9528556e-17 1.0000000e+00 2.5224095e-19 7.0693851e-09]]\n",
            "7\n"
          ],
          "name": "stdout"
        }
      ]
    }
  ]
}