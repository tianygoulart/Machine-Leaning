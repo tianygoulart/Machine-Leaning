{
  "nbformat": 4,
  "nbformat_minor": 0,
  "metadata": {
    "colab": {
      "name": "SistemaderecomendacaoMLmodulo3cap2.ipynb",
      "provenance": [],
      "authorship_tag": "ABX9TyNRwbCvwV4Z52aDzGoLiu+o",
      "include_colab_link": true
    },
    "kernelspec": {
      "name": "python3",
      "display_name": "Python 3"
    },
    "language_info": {
      "name": "python"
    }
  },
  "cells": [
    {
      "cell_type": "markdown",
      "metadata": {
        "id": "view-in-github",
        "colab_type": "text"
      },
      "source": [
        "<a href=\"https://colab.research.google.com/github/tianygoulart/Machine-Leaning/blob/main/SistemaderecomendacaoMLmodulo3cap2.ipynb\" target=\"_parent\"><img src=\"https://colab.research.google.com/assets/colab-badge.svg\" alt=\"Open In Colab\"/></a>"
      ]
    },
    {
      "cell_type": "code",
      "execution_count": 1,
      "metadata": {
        "id": "EZ-S0mIVh2aX"
      },
      "outputs": [],
      "source": [
        "#aula 2.4 distancia euclidiana \n"
      ]
    },
    {
      "cell_type": "code",
      "source": [
        "import numpy as np\n",
        "import matplotlib.pyplot as plt\n",
        "import pandas as pd\n",
        "\n",
        "from scipy.spatial.distance import pdist, hamming, cosine\n"
      ],
      "metadata": {
        "id": "7_Y0ffcVh9Xj"
      },
      "execution_count": 10,
      "outputs": []
    },
    {
      "cell_type": "code",
      "source": [
        "def euclidean_distance(x: np.array, y: np.array):\n",
        "  distance = np.sqrt(np.sum((x-y)**2))\n",
        "\n",
        "  return distance"
      ],
      "metadata": {
        "id": "n0FGw4aKPbeb"
      },
      "execution_count": 5,
      "outputs": []
    },
    {
      "cell_type": "code",
      "source": [
        "x = np.array([1, 2])\n",
        "y = np.array([5,5])"
      ],
      "metadata": {
        "id": "Pv5hqEf-P5UQ"
      },
      "execution_count": 6,
      "outputs": []
    },
    {
      "cell_type": "code",
      "source": [
        "d= euclidean_distance(x,y)\n",
        "print(f\"A distancia euclidiana entre x e y é {d}.\")"
      ],
      "metadata": {
        "colab": {
          "base_uri": "https://localhost:8080/"
        },
        "id": "-Cbt2FCNQTgv",
        "outputId": "1f989e83-7ff9-4a48-dd8b-9055118592ff"
      },
      "execution_count": 7,
      "outputs": [
        {
          "output_type": "stream",
          "name": "stdout",
          "text": [
            "A distancia euclidiana entre x e y é 5.0.\n"
          ]
        }
      ]
    },
    {
      "cell_type": "code",
      "source": [
        "np.linalg.norm?"
      ],
      "metadata": {
        "id": "JwRYIIuRhmfB"
      },
      "execution_count": 8,
      "outputs": []
    },
    {
      "cell_type": "code",
      "source": [
        "np.linalg.norm(x-y)"
      ],
      "metadata": {
        "colab": {
          "base_uri": "https://localhost:8080/"
        },
        "id": "J7JMk_frhs7f",
        "outputId": "e584a4e1-70b4-4f40-887b-6b2c255697b9"
      },
      "execution_count": 9,
      "outputs": [
        {
          "output_type": "execute_result",
          "data": {
            "text/plain": [
              "5.0"
            ]
          },
          "metadata": {},
          "execution_count": 9
        }
      ]
    },
    {
      "cell_type": "code",
      "source": [
        "#aula 2.5 distancia de hamming\n"
      ],
      "metadata": {
        "id": "ZLUQL7vxh2n0"
      },
      "execution_count": null,
      "outputs": []
    },
    {
      "cell_type": "code",
      "source": [
        "def hamming_distance(x: np.array, y: np.array, normalize: bool = False):\n",
        "   factor = 1. if not normalize else 1/len(x)\n",
        "   distance = factor * np.sum(np.abs(x-y))\n",
        "\n",
        "   return distance \n"
      ],
      "metadata": {
        "id": "AIZ_jG4xiasd"
      },
      "execution_count": 17,
      "outputs": []
    },
    {
      "cell_type": "code",
      "source": [
        "x = np.array([1,0,0,1,1,0])\n",
        "y = np.array([1,1,0,0,0,0])"
      ],
      "metadata": {
        "id": "mglCUxdxlJso"
      },
      "execution_count": 18,
      "outputs": []
    },
    {
      "cell_type": "code",
      "source": [
        "h = hamming_distance(x,y)\n",
        "print(f\"A distancia de Hamming entre x e y é {h}\")"
      ],
      "metadata": {
        "colab": {
          "base_uri": "https://localhost:8080/"
        },
        "id": "TO3ifnRplUg_",
        "outputId": "07a6e92e-e5d1-4f8a-8b62-710e64b3855a"
      },
      "execution_count": 19,
      "outputs": [
        {
          "output_type": "stream",
          "name": "stdout",
          "text": [
            "A distancia de Hamming entre x e y é 3.0\n"
          ]
        }
      ]
    },
    {
      "cell_type": "code",
      "source": [
        "h = hamming_distance(x,y, normalize=True)\n",
        "print(f\"A distancia de Hamming normalizada entre x e y é {h}.\")\n"
      ],
      "metadata": {
        "colab": {
          "base_uri": "https://localhost:8080/"
        },
        "id": "q3QVPYDMl8Nv",
        "outputId": "4f54c44b-c734-4f99-f5ca-16b3db6ab2ff"
      },
      "execution_count": 21,
      "outputs": [
        {
          "output_type": "stream",
          "name": "stdout",
          "text": [
            "A distancia de Hamming normalizada entre x e y é 0.5.\n"
          ]
        }
      ]
    },
    {
      "cell_type": "code",
      "source": [
        "hamming?"
      ],
      "metadata": {
        "id": "AYz-kLpEmQfV"
      },
      "execution_count": 22,
      "outputs": []
    },
    {
      "cell_type": "code",
      "source": [
        "hamming(x,y)"
      ],
      "metadata": {
        "colab": {
          "base_uri": "https://localhost:8080/"
        },
        "id": "QPDlTCeqmUZ8",
        "outputId": "abbfac28-031d-4441-916f-6906ea2a0c2b"
      },
      "execution_count": 23,
      "outputs": [
        {
          "output_type": "execute_result",
          "data": {
            "text/plain": [
              "0.5"
            ]
          },
          "metadata": {},
          "execution_count": 23
        }
      ]
    },
    {
      "cell_type": "code",
      "source": [
        "# aula 2.6 produto interno e similaridade por cosseno\n",
        "x=np.array([1,0,0,1,1,1]).reshape(-1,1)\n",
        "y=np.array([1,1,0,0,1,0]).reshape(-1,1)\n"
      ],
      "metadata": {
        "id": "3PZo8YU0mwcQ"
      },
      "execution_count": 24,
      "outputs": []
    },
    {
      "cell_type": "code",
      "source": [
        "print(\"x:\\n\",x)\n",
        "print(\"y:\\n\",y)"
      ],
      "metadata": {
        "colab": {
          "base_uri": "https://localhost:8080/"
        },
        "id": "Pb0_rYwcnb2X",
        "outputId": "0be708a1-0291-4d67-ea3c-cb287b730463"
      },
      "execution_count": 25,
      "outputs": [
        {
          "output_type": "stream",
          "name": "stdout",
          "text": [
            "x:\n",
            " [[1]\n",
            " [0]\n",
            " [0]\n",
            " [1]\n",
            " [1]\n",
            " [1]]\n",
            "y:\n",
            " [[1]\n",
            " [1]\n",
            " [0]\n",
            " [0]\n",
            " [1]\n",
            " [0]]\n"
          ]
        }
      ]
    },
    {
      "cell_type": "code",
      "source": [
        "x.T @ y"
      ],
      "metadata": {
        "colab": {
          "base_uri": "https://localhost:8080/"
        },
        "id": "QITiSYF8noKf",
        "outputId": "9235d4c0-f7c4-4556-cfe6-5a3023cc140e"
      },
      "execution_count": 26,
      "outputs": [
        {
          "output_type": "execute_result",
          "data": {
            "text/plain": [
              "array([[2]])"
            ]
          },
          "metadata": {},
          "execution_count": 26
        }
      ]
    },
    {
      "cell_type": "code",
      "source": [
        "np.sum(x*y)"
      ],
      "metadata": {
        "colab": {
          "base_uri": "https://localhost:8080/"
        },
        "id": "D0ztYOdPn4Tc",
        "outputId": "28c761c3-e6a3-4565-f300-3377e722057c"
      },
      "execution_count": 27,
      "outputs": [
        {
          "output_type": "execute_result",
          "data": {
            "text/plain": [
              "2"
            ]
          },
          "metadata": {},
          "execution_count": 27
        }
      ]
    },
    {
      "cell_type": "code",
      "source": [
        "np.dot?"
      ],
      "metadata": {
        "id": "pl1o-s9coDYM"
      },
      "execution_count": 28,
      "outputs": []
    },
    {
      "cell_type": "code",
      "source": [
        "np.dot(x.ravel(), y.ravel())"
      ],
      "metadata": {
        "colab": {
          "base_uri": "https://localhost:8080/"
        },
        "id": "ag55j1_SoKBM",
        "outputId": "e2e9c3e6-2b51-4a76-c411-fc8120a34874"
      },
      "execution_count": 29,
      "outputs": [
        {
          "output_type": "execute_result",
          "data": {
            "text/plain": [
              "2"
            ]
          },
          "metadata": {},
          "execution_count": 29
        }
      ]
    },
    {
      "cell_type": "code",
      "source": [
        "def cosine_similarity(x: np.array, y: np.array):\n",
        "  cosine_sim = np.dot(x,y)/(np.linalg.norm(x)*np.linalg.norm(y))\n",
        "\n",
        "  return cosine_sim"
      ],
      "metadata": {
        "id": "7KxX4xR1oTpM"
      },
      "execution_count": 31,
      "outputs": []
    },
    {
      "cell_type": "code",
      "source": [
        "c = cosine_similarity(x.ravel(), y.ravel())\n",
        "print(f\"A similaridade de cossenos entre x e y é {c}.\")"
      ],
      "metadata": {
        "colab": {
          "base_uri": "https://localhost:8080/"
        },
        "id": "djtXvdx3o_B6",
        "outputId": "2f617ef3-5cce-4361-85df-36da16d0e2e2"
      },
      "execution_count": 32,
      "outputs": [
        {
          "output_type": "stream",
          "name": "stdout",
          "text": [
            "A similaridade de cossenos entre x e y é 0.5773502691896258.\n"
          ]
        }
      ]
    },
    {
      "cell_type": "code",
      "source": [
        "cosine?"
      ],
      "metadata": {
        "id": "j0DCzxqtpNfB"
      },
      "execution_count": 33,
      "outputs": []
    },
    {
      "cell_type": "code",
      "source": [
        "1- cosine(x.ravel(), y.ravel())"
      ],
      "metadata": {
        "colab": {
          "base_uri": "https://localhost:8080/"
        },
        "id": "a6XooX3IpQMd",
        "outputId": "0ac6a883-3cec-4bfa-f2fc-8474572feb83"
      },
      "execution_count": 34,
      "outputs": [
        {
          "output_type": "execute_result",
          "data": {
            "text/plain": [
              "0.5773502691896257"
            ]
          },
          "metadata": {},
          "execution_count": 34
        }
      ]
    },
    {
      "cell_type": "code",
      "source": [
        "# aula 2.7 Distancia euclidiana vs similaridade por cossenos \n",
        "!pip install wikipedia\n"
      ],
      "metadata": {
        "colab": {
          "base_uri": "https://localhost:8080/"
        },
        "id": "kXDmoaVPp5o7",
        "outputId": "663a009c-3532-41e1-9f3c-3dc539d2aab2"
      },
      "execution_count": 35,
      "outputs": [
        {
          "output_type": "stream",
          "name": "stdout",
          "text": [
            "Collecting wikipedia\n",
            "  Downloading wikipedia-1.4.0.tar.gz (27 kB)\n",
            "Requirement already satisfied: beautifulsoup4 in /usr/local/lib/python3.7/dist-packages (from wikipedia) (4.6.3)\n",
            "Requirement already satisfied: requests<3.0.0,>=2.0.0 in /usr/local/lib/python3.7/dist-packages (from wikipedia) (2.23.0)\n",
            "Requirement already satisfied: certifi>=2017.4.17 in /usr/local/lib/python3.7/dist-packages (from requests<3.0.0,>=2.0.0->wikipedia) (2021.10.8)\n",
            "Requirement already satisfied: idna<3,>=2.5 in /usr/local/lib/python3.7/dist-packages (from requests<3.0.0,>=2.0.0->wikipedia) (2.10)\n",
            "Requirement already satisfied: urllib3!=1.25.0,!=1.25.1,<1.26,>=1.21.1 in /usr/local/lib/python3.7/dist-packages (from requests<3.0.0,>=2.0.0->wikipedia) (1.24.3)\n",
            "Requirement already satisfied: chardet<4,>=3.0.2 in /usr/local/lib/python3.7/dist-packages (from requests<3.0.0,>=2.0.0->wikipedia) (3.0.4)\n",
            "Building wheels for collected packages: wikipedia\n",
            "  Building wheel for wikipedia (setup.py) ... \u001b[?25l\u001b[?25hdone\n",
            "  Created wheel for wikipedia: filename=wikipedia-1.4.0-py3-none-any.whl size=11695 sha256=525128e24fc1fa308adb4af31a5f57a6c5c72b56537fdc18f175583f8aa0be61\n",
            "  Stored in directory: /root/.cache/pip/wheels/15/93/6d/5b2c68b8a64c7a7a04947b4ed6d89fb557dcc6bc27d1d7f3ba\n",
            "Successfully built wikipedia\n",
            "Installing collected packages: wikipedia\n",
            "Successfully installed wikipedia-1.4.0\n"
          ]
        }
      ]
    },
    {
      "cell_type": "code",
      "source": [
        "import wikipedia"
      ],
      "metadata": {
        "id": "Gr7H2Nvcqa7Z"
      },
      "execution_count": 36,
      "outputs": []
    },
    {
      "cell_type": "code",
      "source": [
        "wikipedia.set_lang(\"pt\")"
      ],
      "metadata": {
        "id": "sc2LD65Pqd3B"
      },
      "execution_count": 37,
      "outputs": []
    },
    {
      "cell_type": "code",
      "source": [
        "query_1 = wikipedia.page(\"Inteligencia Artificail\")\n",
        "query_2 = wikipedia.page(\"Futebol\")\n",
        "query_3 = wikipedia.page(\"Aprendizado de máquinas\")\n",
        "query_4 = wikipedia.page(\"Voleibol\")"
      ],
      "metadata": {
        "id": "22HWu0Hcqj9Q"
      },
      "execution_count": 38,
      "outputs": []
    },
    {
      "cell_type": "code",
      "source": [
        "query_1.title"
      ],
      "metadata": {
        "colab": {
          "base_uri": "https://localhost:8080/",
          "height": 35
        },
        "id": "mCsNCN9xq-qO",
        "outputId": "e499dab0-6ae9-46c7-d074-711e5d0a3235"
      },
      "execution_count": 39,
      "outputs": [
        {
          "output_type": "execute_result",
          "data": {
            "text/plain": [
              "'Inteligência artificial'"
            ],
            "application/vnd.google.colaboratory.intrinsic+json": {
              "type": "string"
            }
          },
          "metadata": {},
          "execution_count": 39
        }
      ]
    },
    {
      "cell_type": "code",
      "source": [
        "query_1.url"
      ],
      "metadata": {
        "colab": {
          "base_uri": "https://localhost:8080/",
          "height": 35
        },
        "id": "oeAQrhKYrGY5",
        "outputId": "6965e8ed-cb50-41e3-c115-12affb4e4883"
      },
      "execution_count": 40,
      "outputs": [
        {
          "output_type": "execute_result",
          "data": {
            "text/plain": [
              "'https://pt.wikipedia.org/wiki/Intelig%C3%AAncia_artificial'"
            ],
            "application/vnd.google.colaboratory.intrinsic+json": {
              "type": "string"
            }
          },
          "metadata": {},
          "execution_count": 40
        }
      ]
    },
    {
      "cell_type": "code",
      "source": [
        "query_1.content"
      ],
      "metadata": {
        "colab": {
          "base_uri": "https://localhost:8080/",
          "height": 140
        },
        "id": "U_suOz1VrL-V",
        "outputId": "a3e3c3bd-9663-4714-e585-c825b8fdf1cd"
      },
      "execution_count": 41,
      "outputs": [
        {
          "output_type": "execute_result",
          "data": {
            "text/plain": [
              "'Inteligência artificial (por vezes mencionada pela sigla em português IA ou pela sigla em inglês AI - artificial intelligence) é a inteligência similar à humana exibida por sistemas de software, além de também ser um campo de estudo acadêmico. Os principais pesquisadores e livros didáticos definem o campo como \"o estudo e projeto de agentes inteligentes\", onde um agente inteligente é um sistema que percebe seu ambiente e toma atitudes que maximizam suas chances de sucesso. Andreas Kaplan e Michael Haenlein definem a inteligência artificial como “uma capacidade do sistema para interpretar corretamente dados externos, aprender a partir desses dados e utilizar essas aprendizagens para atingir objetivos e tarefas específicas através de adaptação flexível”. John McCarthy, quem cunhou o termo em 1956 (\"numa conferência de especialistas celebrada em Darmouth Colege\" Gubern, Román: O Eros Eletrónico), a define como \"a ciência e engenharia de produzir sistemas inteligentes\". É uma área de pesquisa da computação dedicada a buscar métodos ou dispositivos computacionais que possuam ou multipliquem a capacidade racional do ser humano de resolver problemas, pensar ou, de forma ampla, ser inteligente. Também pode ser definida como o ramo da ciência da computação que se ocupa do comportamento inteligente ou ainda, o estudo de como fazer os computadores realizarem coisas que, atualmente, os humanos fazem melhor.O principal objetivo dos sistemas de IA, é executar funções que, caso um ser humano fosse executar, seriam consideradas inteligentes. É um conceito amplo, e que recebe tantas definições quanto damos significados diferentes à palavra inteligência. Podemos pensar em algumas características básicas desses sistemas, como a capacidade de raciocínio (aplicar regras lógicas a um conjunto de dados disponíveis para chegar a uma conclusão), aprendizagem (aprender com os erros e acertos de forma que no futuro agirá de maneira mais eficaz), reconhecer padrões (tanto padrões visuais e sensoriais, como também padrões de comportamento) e inferência (capacidade de conseguir aplicar o raciocínio nas situações do nosso cotidiano).O desenvolvimento da área começou logo após a Segunda Guerra Mundial, com o artigo \"Computing Machinery and Intelligence\" do matemático inglês Alan Turing, e o próprio nome foi cunhado em 1956. Seus principais idealizadores foram os cientistas  Herbert Simon, Allen Newell, John McCarthy, Warren McCulloch, Walter Pitts e Marvin Minsky, entre outros. A construção de máquinas inteligentes interessam à humanidade há muito tempo, havendo na história tanto um registro significante de autômatos mecânicos (reais) quanto de personagens místicos (fictícios) construídos pelo homem com inteligência própria, tais como o Golem e o Frankenstein. Tais relatos, lendas e ficções demonstram expectativas contrastantes do homem, de fascínio e de medo, em relação à Inteligência Artificial.Apenas recentemente, com o surgimento do computador moderno, é que a inteligência artificial ganhou meios e massa crítica para se estabelecer como ciência integral, com problemáticas e metodologias próprias. Desde então, seu desenvolvimento tem extrapolado os clássicos programas de xadrez ou de conversão e envolvido áreas como visão computacional, análise e síntese da voz, lógica difusa, redes neurais artificiais e muitas outras. Inicialmente a IA visava reproduzir o pensamento humano. A Inteligência Artificial abraçou a ideia de reproduzir faculdades humanas como criatividade, auto-aperfeiçoamento e uso da linguagem. Porém, o conceito de inteligência artificial é bastante difícil de se definir. Por essa razão, Inteligência Artificial foi (e continua sendo) uma noção que dispõe de múltiplas interpretações, não raro conflitantes ou circulares.\\n\\n\\n== Visão geral ==\\nA questão sobre o que é \"inteligência artificial\", mesmo como definida anteriormente, pode ser separada em duas partes: \"qual a natureza do artificial\" e \"o que é inteligência\". A primeira questão é de resolução relativamente fácil, apontando no entanto para a questão de o que poderá o homem construir.\\nA segunda questão seria consideravelmente mais difícil, levantando a questão da consciência, identidade e mente (incluindo a mente inconsciente) juntamente com a questão de que componentes estão envolvidos no único tipo de inteligência que universalmente se aceita como estando ao alcance do nosso estudo: a inteligência do ser humano. O estudo de animais e de sistemas artificiais que não são modelos triviais, começa a ser considerados como matéria de estudo na área da inteligência.\\nAo conceituar inteligência artificial, presume-se a interação com o ambiente, diante de necessidades reais como relações entre indivíduos semelhantes, a disputa entre indivíduos diferentes, perseguição e fuga; além da comunicação simbólica específica de causa e efeito em diversos níveis de compreensão intuitiva, consciente ou não.\\nSuponhamos uma competição de cara ou coroa, cujos resultados sejam observados ou não.\\nSe na segunda tentativa der o mesmo resultado que a primeira, então não existiam as mesmas chances para ambas as 2 opções iniciais. Claro que a coleta de informação em apenas duas amostragens é confiável apenas porque a quantidade de tentativas é divisível pelo número de opções de resultados prováveis.\\nA verdade é que o conceito de cara ou coroa está associado a artigos de valor, como moedas e medalhas que podem evitar que as pessoas abandonem o jogo e induzir participantes a acompanhar os resultados até o final. Para manter a disposição do adversário em desafiar a máquina seria necessário aparentar fragilidade e garantir a continuidade da partida. Isso é muito utilizado em máquinas de cassino, sendo que vários apostadores podem ser induzidos a dispensar consideráveis quantias em apostas.\\nA utilização de uma máquina de resultados pode compensar a ausência de um adversário, mas numa partida de xadrez, por exemplo, para que a máquina não precise armazenar todas as informações que excedem a capacidade de próprio universo imaginável são necessárias fórmulas que possam ser armazenadas para que então sejam calculadas por princípios físicos, lógicos, geométricos, e estatísticos para refletir o sistema completo em cada uma das suas partes; como a integração do Google com Wikipedia, por exemplo.\\nUma popular e inicial definição de inteligência artificial, introduzida por John McCarthy na famosa conferência de Dartmouth em 1956 é \"fazer a máquina comportar-se de tal forma que seja chamada inteligente caso fosse este o comportamento de um ser humano.\" No entanto, esta definição parece ignorar a possibilidade de existir a IA forte (ver abaixo).\\nOutra definição de Inteligência Artificial é a inteligência que surge de um \"dispositivo artificial\". A maior parte das definições podem ser categorizadas em sistemas que: \"pensam como um humano; agem como um humano; pensam racionalmente ou agem racionalmente\".\\n\\n\\n== História ==\\n\\nO conceito de inteligência artificial não é contemporâneo. Aristóteles, professor de Alexandre, o Grande, almejava substituir a mão-de-obra escrava por objetos autônomos, sendo essa a primeira idealização de Inteligência Artificial relatada, uma ideia que seria explorada muito tempo depois pela ciência da computação. O desenvolvimento dessa ideia se deu de forma plena no Século XX, com enfoque nos anos 50, com pensadores como Herbert Simon e John McCarthy. Os primeiros anos da IA foram repletos de sucessos – mas de uma forma limitada. Considerando-se os primeiros computadores, as ferramentas de programação da época e o fato de que apenas alguns anos antes os computadores eram vistos como objetos capazes de efetuar operações aritméticas e nada mais, causava surpresa o fato de um computador realizar qualquer atividade remotamente inteligente.\\nO sucesso inicial prosseguiu com o General Problem Solver (Solucionador de problemas gerais) ou GPS, desenvolvido por Newell e Simon. Esse programa foi projetado para imitar protocolos humanos de resolução de problemas. Dentro da classe limitada de quebra-cabeças com a qual podia lidar, verificou-se que a ordem em que os seres humanos abordavam os mesmos problemas. Desse modo, o GPS talvez tenha sido o primeiro programa a incorporar a abordagem de “pensar de forma humana”.\\nDesde o início os fundamentos da inteligência artificial tiveram o suporte de várias disciplinas que contribuíram com ideias, pontos de vista e técnicas para a IA. Os filósofos (desde 400 a.C.) tornaram a IA concebível, considerando as ideias de que a mente é, em alguns aspectos, semelhante a uma máquina, de que ela opera sobre o conhecimento codificado em alguma linguagem interna e que o pensamento pode ser usado para escolher as ações que deverão ser executadas. Por sua vez, os matemáticos forneceram as ferramentas para manipular declarações de certeza lógica, bem como declarações incertas e probabilísticas. Eles também definiram a base para a compreensão da computação e do raciocínio sobre algoritmos.\\nOs economistas formalizaram o problema de tomar decisões que maximizam o resultado esperado para o tomador de decisões. Os psicólogos adotaram a ideia de que os seres humanos e os animais podem ser considerados máquinas de processamento de informações. Os lingüistas mostraram que o uso da linguagem se ajusta a esse modelo. Os engenheiros de computação fornecem os artefatos que tornam possíveis as aplicações de IA. Os programas de IA tendem a ser extensos e não poderiam funcionar sem os grandes avanços em velocidade e memória que a indústria de informática tem proporcionado.\\nAtualmente, a IA abrange uma enorme variedade de subcampos. Dentre esses subcampos está o estudo de modelos conexionistas ou redes neurais. Uma rede neural pode ser vista como um modelo matemático simplificado do funcionamento do cérebro humano. Este consiste de um número muito grande de unidades elementares de processamento, ou neurônios, que recebem e enviam estímulos elétricos uns aos outros, formando uma rede altamente interconectada.\\nNo processamento, são compostos os estímulos recebidos conforme a intensidade de cada ligação, produzindo um único estímulo de saída. É o arranjo das interconexões entre os neurônios e as respectivas intensidades que define as principais propriedades e o funcionamento de uma RN. O estudo das redes neurais ou o conexionismo se relaciona com a capacidade dos computadores aprenderem e reconhecerem padrões. Podemos destacar também o estudo da biologia molecular na tentativa de construir vida artificial e a área da robótica, ligada à biologia e procurando construir máquinas que alojem vida artificial. Outro subcampo de estudo é a ligação da IA com a Psicologia, na tentativa de representar na máquina os mecanismos de raciocínio e de procura.\\nNos últimos anos, houve uma revolução no trabalho em inteligência artificial, tanto no conteúdo quanto na metodologia. Agora, é mais comum usar as teorias existentes como bases, em vez de propor teorias inteiramente novas, fundamentar as informações em teoremas rigorosos ou na evidência experimental rígida, em vez de utilizar como base a intuição e destacar a relevância de aplicações reais em vez de exemplos de brinquedos.\\nA utilização da IA permite obter não somente ganhos significativos de performance, mas também possibilita o desenvolvimento de aplicações inovadoras, capazes de expandir de forma extraordinária nossos sentidos e habilidades intelectuais. Cada vez mais presente, a inteligência artificial simula o pensamento humano e se alastra por nosso cotidiano. Em maio de 2017 no Brasil, foi criada a ABRIA (Associação Brasileira de Inteligência Artificial) com o objetivo de mapear iniciativas brasileiras no setor de  inteligência artificial, englobando os esforços entre as empresas nacionais e formação de mão de obra especializada. Esse passo reforça que, atualmente, a inteligência artificial é impactante no setor econômico.\\n\\n\\n=== Investigação na IA experimental ===\\nA inteligência artificial começou como um campo experimental nos anos 50 com pioneiros como Allen Newell e Herbert Simon, que fundaram o primeiro laboratório de inteligência artificial na Universidade Carnegie Mellon, e McCarty que juntamente com Marvin Minsky, que fundaram o MIT AI Lab em 1959. Foram eles alguns dos participantes na famosa conferência de verão de 1956 em Darthmouth College.Historicamente, existem dois grandes estilos de investigação em IA: IA \"neats\" e IA \"scruffies\".  A IA \"neats\", limpa, clássica ou simbólica. Envolve a manipulação de símbolos e de conceitos abstractos, e é a metodologia utilizada na maior parte dos sistemas periciais.\\nParalelamente a esta abordagem existe a abordagem IA \"scruffies\", ou  \"coneccionista\", da qual as redes neuronais são o melhor exemplo. Esta abordagem cria sistemas que tentam gerar inteligência pela aprendizagem e adaptação em vez da criação de sistemas desenhados com o objectivo especifico de resolver um problema. Ambas as abordagems apareceram num estágio inicial da história de IA. Nos anos 60s e 70s os coneccionistas foram retirados do primeiro plano da investigação em IA, mas o interesse por esta vertente da IA foi retomada nos anos 80s, quando as limitações da IA \"limpa\" começaram a ser percebidas.\\nPesquisas sobre inteligência artificial foram intensamente custeadas na década de 1980 pela Agência de Projetos de Pesquisas Avançadas sobre Defesa (“Defense Advanced Research Projects Agency”), nos Estados Unidos, e pelo Projeto da Quinta Geração (“Fifth Generation Project”), no Japão. O trabalho subsidiado fracassou no sentido de produzir resultados imediatos, a despeito das promessas grandiosas de alguns praticantes de IA, o que levou proporcionalmente a grandes cortes de verbas de agências governamentais no final dos anos 80, e em conseqüência a um arrefecimento da atividade no setor, fase conhecida como O inverno da IA. No decorrer da década seguinte, muitos pesquisadores de IA mudaram para áreas relacionadas com metas mais modestas, tais como aprendizado de máquinas, robótica e visão computacional, muito embora pesquisas sobre IA pura continuaram em níveis reduzidos.\\n\\n\\n== Abordagens filosóficas ==\\nNão existe uma teoria ou paradigma unificador que orienta a pesquisa de IA. Pesquisadores discordam sobre várias questões. Algumas das perguntas constantes mais longas que ficaram sem resposta são as seguintes: a inteligência artificial deve simular inteligência natural, estudando psicologia ou neurociência? Ou será que a biologia humana é tão irrelevante para a pesquisa de IA como a biologia das aves é para a engenharia aeronáutica? O comportamento inteligente pode ser descrito usando princípios simples e elegantes (como lógica ou otimização)? Ou ela necessariamente requer que se resolva um grande número de problemas completamente não relacionados? A inteligência pode ser reproduzida usando símbolos de alto nível, similares às palavras e ideias? Ou ela requer processamento \"sub-simbólico\"? John Haugeland, que cunhou o termo GOFAI (Good Old-Fashioned Artificial Intelligence - Boa Inteligência Artificial à Moda Antiga), também propôs que a IA deve ser mais apropriadamente chamada de inteligência sintética, um termo que já foi adotado por alguns pesquisadores não-GOFAI.\\n\\n\\n=== Cibernética e simulação cerebral ===\\nNos anos de 1940 e 1950, um número de pesquisadores exploraram a conexão entre neurologia, teoria da informação e cibernética. Alguns deles construíram máquinas que usaram redes eletrônicas para exibir inteligência rudimentar, como as tartarugas de W. Grey Walter e a Besta de Johns Hopkins. Muitos desses pesquisadores se reuniram para encontros da Sociedade teleológica da Universidade de Princeton e o Ratio Club na Inglaterra. Em 1960, esta abordagem foi abandonada, apesar de seus elementos serem revividos na década de 1980.\\n\\n\\n=== Sub-simbólica ===\\nInteligência computacionalInteresse em redes neurais e \"conexionismo\" foi revivida por David Rumelhart e outros em meados de 1980. Estas e outras abordagens sub-simbólicas, como sistemas de fuzzy e computação evolucionária, são agora estudados coletivamente pela disciplina emergente inteligência computacional.\\n\\n\\n== IA forte e IA fraca ==\\nEntre os teóricos que estudam o que é possível fazer com a IA existe uma discussão onde se consideram duas propostas básicas: uma conhecida como \"forte\" e outra conhecida como \"fraca\". Basicamente, a hipótese da IA forte considera ser possível criar uma máquina consciente, ou seja, afirma que os sistemas artificiais devem replicar a mentalidade humana.\\n\\n\\n=== Inteligência artificial forte ===\\nA investigação em Inteligência Artificial Forte aborda a criação da forma de inteligência baseada em computador que consiga raciocinar e resolver problemas; uma forma de IA forte é classificada como auto-consciente.\\nA IA forte é tema bastante controverso, pois envolve temas como consciência e fortes problemas éticos ligados ao que fazer com uma entidade que seja cognitivamente indiferenciável de seres humanos.\\nA ficção científica tratou de muitos problemas desse tipo. Isaac Asimov, por exemplo, escreveu O Homem Bicentenário, onde um robô consciente e inteligente luta para possuir um status semelhante ao de um humano na sociedade. E Steven Spielberg dirigiu \"A.I. Inteligência Artificial\" onde um garoto-robô procura conquistar o amor de sua \"mãe\", procurando uma maneira de se tornar real. Por outro lado, o mesmo Asimov reduz os robôs a servos dos seres humanos ao propor as três leis da robótica.Stephen Hawking alertou sobre os perigos da inteligência artificial e considerou uma ameaça à sobrevivência da humanidade (ver: Rebelião das máquinas).\\n\\n\\n=== Inteligência artificial fraca ===\\nTrata-se da noção de como lidar com problemas não determinísticos. Uma contribuição prática de Alan Turing foi o que se chamou depois de Teste de Turing (TT), de 1950: em lugar de responder à pergunta \"podem-se ter computadores inteligentes?\" ele formulou seu teste, que se tornou praticamente o ponto de partida da pesquisa em \"Inteligência Artificial\".O teste consiste em se fazer perguntas a uma pessoa e um computador escondidos. Um computador e seus programas passam no TT se, pelas respostas, for impossível a alguém distinguir qual interlocutor é a máquina e qual é a pessoa. No seu artigo original ele fez a previsão de que até 2000 os computadores passariam seu teste. Pois bem, há um concurso anual de programas para o TT, e o resultado dos sistemas ganhadores é tão fraco (o último tem o nome \"Ella\") que com poucas perguntas logo percebe-se as limitações das respostas da máquina. É interessante notar que tanto a Máquina de Turing quanto o Teste de Turing talvez derivem da visão que Turing tinha de que o ser humano é uma máquina.\\nHá quem diga que essa visão está absolutamente errada, do ponto de vista lingüístico, já que associamos à \"máquina\" um artefato inventado e eventualmente construído. Dizem eles: \"Nenhum ser humano foi inventado ou construído\". Afirma-se ainda que a comparação, feita por Turing, entre o homem e a máquina é sinônimo de sua \"ingenuidade social\", pois as máquinas são infinitamente mais simples do que o homem, apesar de, paradoxalmente, se afirmar que a vida é complexa. No entanto, esta linha de raciocínio é questionável, afinal de contas, os computadores modernos podem ser considerados \"complexos\" quando comparados ao COLOSSUS (computador cujo desenvolvimento foi liderado por Tommy Flowers, em 1943), ou a qualquer máquina do início do século XX.\\nA inteligência artificial fraca centra a sua investigação na criação de inteligência artificial que não é capaz de verdadeiramente raciocinar e resolver problemas. Uma tal máquina com esta característica de inteligência agiria como se fosse inteligente, mas não tem autoconsciência ou noção de si. O teste clássico para aferição da inteligência em máquinas é o Teste de Turing.Há diversos campos dentro da IA fraca, e um deles é o Processamento de linguagem natural, que trata de estudar e tentar reproduzir os processos de desenvolvimento que resultaram no funcionamento normal da língua. Muitos destes campos utilizam softwares específicos e linguagens de programação criadas para suas finalidades. Um exemplo bastante conhecido é o programa A.L.I.C.E. (Artificial Linguistic Internet Computer Entity, ou Entidade Computadorizada de Linguagem Artificial para Internet), um software que simula uma conversa humana. Programado em Java e desenvolvido com regras heurísticas para os caracteres de conversação, seu desenvolvimento resultou na AIML (Artificial Intelligence Markup Language), uma linguagem específica para tais programas e seus vários clones, chamados de Alicebots.\\nMuito do trabalho neste campo tem sido feito com simulações em computador de inteligência baseado num conjunto predefinido de regras. Poucos têm sido os progressos na IA forte. Mas dependendo da definição de IA utilizada, pode-se dizer que avanços consideráveis na IA fraca já foram alcançados.\\n\\n\\n=== Impossibilidade de Simulação Qualitativa ===\\nFoi provado que um simulador qualitativo, completo e robusto não pode existir, ou seja, desde que o vocabulário entrada-saída seja usado (como num algoritmo QSIM), haverá sempre modelos de entrada que causam predições erradas na sua saída. Por exemplo, a noção de infinito é impossível ser tida por uma máquina finita (computador ou neurónios se produzirem apenas um número finito de resultados num número finito de tempo). Neste caso é um simples paradoxo matemático, porque são em número finito as combinações saídas de qualquer conjunto finito. Se a noção de infinito pudesse ser obtida por uma certa combinação finita, isso significaria que o infinito seria equivalente a essa sequência finita, o que é obviamente uma contradição. Por isso, o infinito e outras noções abstractas têm que ser pré-adquiridas numa máquina finita, não são aí programáveis.\\n\\n\\n=== Críticas filosóficas e a argumentação de uma IA forte ===\\n\\nMuitos filósofos, sobretudo John Searle e Hubert Dreyfus, inseriram no debate questões de ordem filosófica e epistemológica, questionando qualquer possibilidade efetiva da IA forte. Seriam falsos, assim, os próprios pressupostos da construção de uma inteligência ou consciência semelhante à humana em uma máquina.Searle é bastante conhecido por seu contra-argumento sobre o Quarto Chinês (ou  Sala Chinesa), que inverte a questão colocada por Minsky a respeito do Teste de Turing. Seu argumento diz que ainda que uma máquina possa parecer falar chinês por meio de recursos de exame comparativo com mostras e tabelas de referência, binárias, isso não implica que tal máquina fale e entenda efetivamente a língua. Ou seja, demonstrar que uma máquina possa passar no Teste de Turing não necessariamente implica um ser consciente, tal como entendido em seu sentido humano. Dreyfus, em seu livro O que os computadores ainda não conseguem fazer: Uma crítica ao raciocínio artificial, argumenta que a consciência não pode ser adquirida por sistemas baseados em regras ou lógica; tampouco por sistemas que não façam parte de um corpo físico. No entanto, este último autor deixa aberta a possibilidade de um sistema robótico baseado em Redes Neuronais, ou em mecanismos semelhantes, alcançar a inteligência artificial.Mas já não seria a referida IA forte, mas sim um correlato bem mais próximo do que se entende por IA fraca. Os revezes que a acepção primeira de Inteligência Artificial vem levando nos últimos tempos contribuíram para a imediata relativização de todo seu legado. O papel de Marvin Minsky, figura proeminente do MIT e autor de Sociedade da Mente, fora central para a acepção de uma IA linear que imitaria com perfeição a mente humana, mas seu principal feito foi construir o primeiro computador baseado em redes neurais, conhecido como Snark, tendo simplesmente fracassado pois nunca executou qualquer função interessante, apenas consumiu recursos de outras pesquisas mais promissoras.         O primeiro neuro computador a obter sucesso (Mark I Perceptron) surgiu em 1957 e 1958, criado por Frank Rosenblatt, Charles Wightman e outros. Atualmente, no entanto, as vertentes que trabalham com os pressupostos da emergência e com elementos da IA fraca parecem ter ganhado proeminência do campo.\\nAs críticas sobre a impossibilidade de criar uma inteligência em um composto artificial podem ser encontradas em Jean-François Lyotard (O Pós-humano) e Lucien Sfez (Crítica da Comunicação); uma contextualização didática do debate encontra-se em Sherry Turkle (O segundo Eu: os computadores e o espírito humano). Pode-se resumir o argumento central no fato de que a própria concepção de inteligência é humana e, nesse sentido, animal e biológica. A possibilidade de transportá-la para uma base plástica, artificial, encontra um limite claro e preciso: se uma inteligência puder ser gerada a partir destes elementos, deverá ser necessariamente diferente da humana, na medida em que o seu resultado provém da emergência de elementos totalmente diferentes dos encontrados nos humanos. A inteligência, tal como a entendemos, é essencialmente o fruto do cruzamento da uma base biológica com um complexo simbólico e cultural, impossível de ser reproduzido artificialmente.\\nOutros filósofos sustentam visões diferentes. Ainda que não vejam problemas com a IA fraca, entendem que há elementos suficientes para se crer na IA forte também. Daniel Dennett argumenta em Consciência Explicada que se não há uma centelha mágica ou alma nos seres humanos, então o Homem é apenas uma outra máquina. Dennett questiona por que razão o Homem-máquina deve ter uma posição privilegiada sobre todas as outras possíveis máquinas quando provido de inteligência.\\nAlguns autores sustentam que se a IA fraca é possível, então também o é a forte. O argumento da IA fraca, de uma inteligência imitada mas não real, desvelaria assim uma suposta validação da IA forte. Isso se daria porque, tal como entende Simon Blackburn em seu livro Think, dentre outros, não existe a possibilidade de verificar se uma inteligência é verdadeira ou não. Estes autores argumentam que toda inteligência apenas parece inteligência, sem necessariamente o ser. Parte-se do princípio que é impossível separar o que é inteligência de fato do que é apenas simulação: apenas acredita-se ser.\\nEstes autores rebatem os argumentos contra a IA forte dizendo que seus críticos reduzem-se a arrogantes que não podem entender a origem da vida sem uma centelha mágica, um Deus ou uma posição superior qualquer. Eles entenderiam, em última instância, máquina como algo essencialmente incapaz e sequer conseguem supô-la como capaz de inteligência. Nos termos de Minsky, a crítica contra a IA forte erra ao supor que toda inteligência derive de um sujeito - tal como indicado por Searle - e assim desconsidera a possibilidade de uma maquinaria complexa que pudesse pensar. Mas Minsky desconsidera o simples fato de que os maiores avanços na área foram conseguidos com \"maquinaria complexa\", também chamada por pesquisadores mais importantes de Inteligência Artificial Conexista. Se a crítica de Minsky fosse válida a maquina criada por Rosenblatt e Bernard Widrow não estaria em uso ainda hoje, e o Mark I Perceptron não seria o fundador da neuro-computação. Alguns pesquisadores importantes afirmam que um dos motivos das críticas de Minsky foi o fato de ter falhado com Snark. A partir daí começou a criticar essa área por não compreende-la completamente, prejudicando desde então pesquisas importantes sobre o assunto.\\nO debate sobre a IA reflete, em última instância, a própria dificuldade da ciência contemporânea em lidar efetivamente com a ausência de um primado superior. Os argumentos pró-IA forte são esclarecedores dessa questão, pois são os próprios cientistas, que durante décadas tentaram e falharam ao criar uma IA forte, que ainda procuram a existência de uma ordem superior. Ainda que a IA forte busque uma ordem dentro da própria conjugação dos elementos internos, trata-se ainda da suposição de que existe na inteligência humana uma qualidade superior que deve ser buscada, emulada e recriada. Reflete, assim, a difícil digestão do legado radical da Teoria da Evolução, onde não existe positividade alguma em ser humano e ser inteligente; trata-se apenas de um complexo de relações que propiciaram um estado particular, produto de um cruzamento temporal entre o extrato biológico e uma complexidade simbólica.\\n\\n\\n== Resoluções de problemas com IA ==\\nUma das áreas mais estudadas por cientistas sobre Inteligência Artificial, é o processo de Resolução de Problemas, desde os mais simples até os mais complexos. Com base no estudos de comportamentos de indivíduos que resolvem problemas simples em laboratório, Allen Newell e Herbert Simon desenvolveram alguns programas para simular aspectos do comportamento inteligente e racional. Um de seus principais programas desenvolvidos, chamado \\'General Problem Solver\\' (Solucionador de Problemas Gerais) pode ser resumido em poucas etapas: a primeira etapa consiste em gravar as declarações realizadas por alguns indivíduos que verbalizam seu pensamento enquanto resolvem os problemas. A seguir, o teórico ensaia algumas hipóteses acerca dos processos mentais que possivelmente estariam envolvidos no processo de elaboração de uma solução para o problema dado. A partir dessas hipóteses ele estrutura um programa que, em sua opinião, simulará o relato gravado. Finalmente, após processar esse programa no computador digital, ele compara o relato do indivíduo com o roteiro da máquina. Se os fluxos de palavras registrados no roteiro e no relatório forem razoavelmente semelhantes, então considera-se que uma explicação para o comportamento sob estudo foi obtida. Os pesquisadores do Projeto de Simulação Cognitiva admitem, neste caso, que as estratégias utilizadas pelo computador são análogas àquelas realizadas pelo indivíduo humano. Caso contrário, o programa deverá ser modificado com base nas discrepâncias encontradas durante o confronto de palavras. O mesmo procedimento é repetido até que um ajuste satisfatório seja obtido e o programa consiga passar pelo teste de Turing. Ou seja, até que os fluxos de palavras produzidas pelo computador e pelo sujeito humano sejam praticamente indistinguíveis para um examinador humano.\\n\\n\\n== Aplicações Práticas de Técnicas de IA ==\\nEnquanto que o progresso direcionado ao objetivo final de uma inteligência similar à humana tem sido lento,  muitas derivações surgiram no processo.  Exemplos notáveis incluem as linguagens Lisp e Prolog, as quais foram desenvolvidas para pesquisa em IA, embora também sejam usadas para outros propósitos. A cultura hacker surgiu primeiramente em laboratórios de IA, em particular no MIT AI Lab, lar várias vezes de celebridades tais como McCarthy, Minsky, Seymour Papert (que desenvolveu a linguagem Logo), Terry Winograd (que abandonou IA depois de desenvolver SHRDLU).\\nMuitos outros sistemas úteis têm sido construídos usando tecnologias que ao menos uma vez eram áreas ativas em pesquisa de IA. Alguns exemplos incluem:\\n\\nSistemas Cognitivos Multi-Modais permitem que agentes conversacionais de software, também conhecidos como Chatbots, possam interagir através do raciocínio feito com dados Multi-Modais, isto é, além do texto da fala, o tom de voz, a orientação da cabeça, do corpo, expressões faciais, entre outras modalidades. Recentemente, Maira Gatti de Bayser e Jeffrey O. Kephart da IBM Research organizaram em conjunto com Rahul Divekar e Hui Su, do Instituto Politécnico Rensselaer, NY, a competição inovadora HUMAINE, que estreou na ANAC, IJCAI 2020. Nesta primera edição da competição, 2 agentes inteligentes interagem com um humano em um diálogo de negociação em uma plataforma Multi-Modal adaptada para a competição.\\nPlanejamento automatizado e escalonamento: a uma centena de milhões de quilômetros da Terra, o programa Remote Agent da NASA se tornou o primeiro programa de planejamento automatizado (autônomo) de bordo a controlar o escalonamento de operações de uma nave espacial. O Remote Agent gerou planos de metas de alto nível especificadas a partir do solo e monitorou a operação da nave espacial à medida que os planos eram executados – efetuando a detecção, o diagnóstico e a recuperação de problemas conforme eles ocorriam.\\nAplicações de Raciocínio baseado em casos: RBC tem sido utilizado em diversas aplicações como análise financeira, assessoramento de riscos, controle de processos, etc. Exemplos de aplicações de RBC incluem KRITIK, o CLAVIER na Lockheed, o CASELine na British Airways, PROTOS, CASEY, CASCADE, COMPOSER, etc..\\nAplicações de Algoritmos genéticos: AG são aplicáveis em diversos problemas como escalonamento de horários, sistemas de potência e filogenética. O CS-1 foi o primeiro sistema de classificação aplicando AG.\\nJogos: o Deep Blue da IBM  se tornou o primeiro programa de computador a derrotar o campeão mundial em uma partida de xadrez, ao vencer Garry Kasparov por um placar de 3,5 a 2,5 em um match de exibição em 11 de maio de 1997. Kasparov disse que sentiu “uma nova espécie de inteligência” do outro lado do tabuleiro. O valor das ações da IBM teve um aumento de 18 bilhões de dólares. Ainda hoje há indícios que o jogo foi armado, pois a IBM negou-se a entregar os logs sobre o jogo, especialistas afirmam que na verdade o jogo foi uma farsa, pois não era a maquina que estava jogando e sim uma equipe de especialistas em xadrez.\\nControle autônomo: o sistema de visão de computador ALVINN foi treinado para dirigir um automóvel, mantendo-o na pista. Ele foi colocado na minivan controlada por computador NAVLAB da CMU e foi utilizado para percorrer os Estados Unidos – ao longo de quase 4.600 km o ALVINN manteve o controle da direção do veículo durante 98% do tempo. Um ser humano assumiu o comando nos outros 2%, principalmente na saída de declives. A NAVLAB tem câmeras e vídeo que transmitem imagens da estrada para ALVINN, que então calcula a melhor forma de guiar, baseado na experiência obtida em sessões de treinamento anteriores.\\nDiagnóstico: programas de diagnóstico médico baseados na analise probabilística foram capazes de executar tarefas no nível de um médico especialista em diversas áreas da medicina. Heckerman (1991) descreve um caso em que um importante especialista em patologia de gânglios linfáticos ridiculariza o diagnóstico de um programa em um caso especialmente difícil. Os criadores do programa sugeriram que ele pedisse ao computador uma explicação do diagnóstico. A máquina destacou os principais fatores que influenciaram sua decisão e explicou a interação sutil de vários sintomas nesse caso. Mais tarde, o especialista concordou com o programa.\\nPlanejamento logístico: durante a crise do Golfo Pérsico em 1991, as forças armadas dos Estados Unidos distribuíram uma ferramenta denominada Dynamic Analysis and Replanning Tool, ou DART, a fim de realizar o planejamento logístico automatizado e a programação de execução do transporte. Isso envolveu até 50 000 veículos, transporte de carga aérea e de pessoal ao mesmo tempo, e teve de levar em conta os pontos de partida, destinos, rotas e resolução de conflitos entre todos os parâmetros. As técnicas de planejamento da IA permitiram a geração em algumas horas de um plano que exigiria semanas com outros métodos. A Defense Advanced Research Project Agency (DARPA) declarou que essa única aplicação compensou com folga os 30 anos de investimentos da DARPA em IA.\\nRobótica: muitos cirurgiões agora utilizam robôs assistentes em microcirurgias. O HipNav é um sistema que emprega técnicas de visão computacional para criar um modelo tridimensional da anatomia interna de um paciente, e depois utiliza controle robótico para orientar a inserção de uma prótese de substituição do quadril.\\nReconhecimento de linguagem e resolução de problemas: o PROVERB é um programa computador que resolve quebra-cabeças de palavras cruzadas melhor que a maioria dos seres humanos, utilizando restrições sobre possíveis preenchimentos de palavras, um grande banco de dados de quebra-cabeças anteriores e uma variedade fonte de informações que incluem dicionários e bancos de dados on-line, como uma lista de filmes e dos atores que participam deles. Por exemplo, ele descobre que a pista “Nice Story” pode ser resolvido por “ETAGE”, porque seu banco de dados inclui o par pista/solução ”Story in France/ETAGE” e porque reconhece que os padrões “Nice X” e “X in France” com freqüência tem mesma solução. O programa não sabe que Nice é uma cidade da França, mas consegue resolver o quebra-cabeça. * Chinook foi declarado o campeão Homem-Máquina em Damas em 1994.\\nLógica incerta, uma técnica para raciocinar dentro de incertezas, tem sido amplamento usada em sistemas de controles industriais.\\nSistemas especialistas vêm sendo usados a uma certa escala industrial. Os sistemas especialistas foram um dos primeiros sucessos da IA, com o software Mycin. Os principais componentes de um Sistema especialista são uma base de conhecimento alimentada por um especialista, uma máquina de inferência e uma memória de trabalho. Sistemas especialistas em uso como o XCON/R1 da Digital Equipment Coporation sabem hoje muito mais do que um especialista humano em como configurar os seus sistemas de computação.\\nSistemas Tutoriais Inteligentes vem sendo usados para o aprendizado. Uma característica distintiva desta técnica é o modelo do estudante. * Sistemas tradutores, tais como SYSTRAN, têm sido largamente usados (no entanto, os resultados não são ainda comparáveis com tradutores humanos).\\nRedes Neurais vêm sendo usadas em uma larga variedade de tarefas, de Sistema de detecção de intrusos a jogos de computadores.\\nSistemas de reconhecimento óptico de caracteres (OCR) podem traduzir letra escrita de forma arbitrária em texto.\\nReconhecimento de escrita a mão é usada em muitos Assistentes Pessoais Digitais. Atualmente existe um sistema de comparação de escrita forense a mão chamado CEDAR-FOX. * Reconhecimento de voz está disponível comercialmente e é amplamente usado.\\nSistemas de álgebra computacional, tais como Mathematica e Macsyma, são bons exemplos de aplicações de IA na solução de problemas algébricos.\\nSistemas com Visão computacional são usados em muitas aplicações industriais.\\nAplicações utilizando Vida Artificial são utilizados na indústria de entretenimento e no desenvolvimento da Computação Gráfica.\\nSistemas baseados na ideia de agentes artificiais, denominados Sistemas Multiagentes, têm se tornado comuns para a resolução de problemas complexos.\\nChatterbots (robôs de software para conversação), personagens virtuais que conversam em linguagem natural como se fossem humanos de verdade, são cada vez mais comuns na Internet. Eles podem ser criados com uma interface Web que permite programar a detecção de intenção da frase através de Algoritmos baseados em Aprendizagem de Máquina, tal como IBM Watson Assistant.\\nCompliance & Mitigação de riscos, empresas como Experian, Dun and Bradstreet, Equifax, LexisNexis, UpLexis, Montax Big Data e eStracta utilizam IA na análise do risco de contratações a partir de consultas automáticas de megadados sobre pessoas e organizações disponíveis em bancos de dados públicos e privados.\\nAplicação na área da saúde, a introdução na medicina com a criação da IAM (Inteligência artificial na Medicina) propôs a ajuda mútua entre profissionais da saúde e da computação com a ideia de realizarem uma revolução na área médica. A partir dos anos 70 e 80, grandes universidades americanas iniciaram projetos para auxiliar no processo de diagnósticos, como MIT, Tufts University, Pittsburgh, entre outras. Esses programas rapidamente atraíram vários dos melhores cientistas da época, com os primeiros anos da realização dos projetos sendo até hoje referências na história da IAM, por terem sido extremamente ricos e produtivos.A visão da Inteligência Artificial substituindo julgamento humano profissional tem surgido muitas vezes na história do campo, em ficção científica e, hoje em dia, em algumas áreas especializadas onde \"Sistemas Especialistas\" são usados para melhorar ou para substituir julgamento profissional em engenharia e medicina, por exemplo.\\n\\n\\n== Aplicações no governo ==\\nOs usos potenciais de IA no governo são amplos e variados, com a Deloitte considerando que \"as tecnologias cognitivas podem eventualmente revolucionar todas as facetas das operações do governo\". Mehr sugere que seis tipos de problemas governamentais são apropriados para aplicações de IA:\\nAlocação de recursos - por exemplo, quando o suporte administrativo é necessário para concluir as tarefas mais rapidamente.\\nGrandes conjuntos de dados - onde eles são muito grandes para os funcionários trabalharem de forma eficiente e vários conjuntos de dados podem ser combinados para fornecer maiores insights.\\nFalta de especialistas - incluindo onde perguntas básicas podem ser respondidas e questões de nicho podem ser aprendidas.\\nCenário previsível - os dados históricos tornam a situação previsível.\\nProcedural - tarefas repetitivas em que as entradas ou saídas têm uma resposta binária.\\nDados diversos - onde os dados assumem uma variedade de formas (como visuais e linguísticas) e precisam ser resumidos regularmente.Mehr afirma que \"Embora as aplicações de IA no trabalho do governo não tenham acompanhado a rápida expansão da IA \\u200b\\u200bno setor privado, os casos de uso em potencial no setor público refletem as aplicações comuns no setor privado.\"Os usos potenciais e reais da IA \\u200b\\u200bno governo podem ser divididos em três categorias amplas: aqueles que contribuem para os objetivos de políticas públicas; aqueles que auxiliam nas interações públicas com o governo; e outros usos.\\n\\n\\n=== Contribuição para os objetivos de políticas públicas ===\\nHá uma série de exemplos de onde a IA pode contribuir para os objetivos de políticas públicas. Esses incluem:\\n\\nReceber benefícios por perda de emprego, aposentadoria, luto e nascimento de um filho quase imediatamente, de forma automatizada (portanto, sem exigir qualquer ação dos cidadãos)\\nPrestação de serviços de seguro social\\nClassificar chamadas de emergência com base em sua urgência (como o sistema usado pelo Corpo de Bombeiros de Cincinnati nos Estados Unidos)\\nDetectando e prevenindo a propagação de doenças\\nAuxiliar os funcionários públicos a fazer pagamentos de previdência e decisões de imigração\\nJulgando audiências de fiança\\nTriagem de casos de saúde\\nMonitorar as redes sociais para obter feedback público sobre as políticas\\nMonitorar as redes sociais para identificar situações de emergência\\nIdentificar reivindicações de benefícios fraudulentas\\nPrevendo um crime e recomendando a presença policial ideal\\nPrevisão de congestionamento de trânsito e acidentes de carro\\nAntecipando os requisitos de manutenção de estradas\\nIdentificação de violações de regulamentos de saúde\\nOferecendo educação personalizada aos alunos\\nAvaliação de provas\\nAuxiliar na defesa e segurança nacional (ver Inteligência artificial § Militares e Aplicações da inteligência artificial § Outros, respectivamente).\\nCriando um Chatbot de saúde baseado em sintomas para diagnóstico\\n\\n\\n=== Auxiliando nas interações públicas com o governo ===\\nA IA pode ser usada para ajudar os membros do público a interagir com o governo e acessar serviços governamentais, por exemplo:\\nResponder a perguntas usando assistentes virtuais ou chatbots (veja abaixo)\\nDirecionar solicitações para a área apropriada dentro do governo\\nPreencher formulários\\nAuxiliar na pesquisa de documentos (por exemplo, pesquisa de marca registrada da IP Australia)\\nAgendamento de compromissosExemplos de assistentes virtuais ou chatbots usados \\u200b\\u200bpelo governo incluem o seguinte:\\n\\nLançado em fevereiro de 2016, o Australian Taxation Office tem um assistente virtual em seu site chamado \"Alex\". Em 30 de junho de 2017, Alex podia responder a mais de 500 perguntas, participou de 1,5 milhão de conversas e resolveu mais de 81% das dúvidas no primeiro contato.\\nO National Disability Insurance Scheme (NDIS) da Austrália está desenvolvendo um assistente virtual chamado \"Nadia\", que assume a forma de um avatar usando a voz do ator Cate Blanchett. O objetivo do Nadia é auxiliar os usuários do NDIS a navegar no serviço. Custando cerca de US $ 4,5 milhões, o projeto foi adiado devido a uma série de questões. O Nadia foi desenvolvido usando o IBM Watson, no entanto, o governo australiano está considerando outras plataformas, como a Microsoft Cortana, para seu desenvolvimento posterior.\\nO Departamento de Serviços Humanos do governo australiano usa assistentes virtuais em partes de seu site para responder a perguntas e incentivar os usuários a permanecer no canal digital. Em dezembro de 2018, um assistente virtual chamado \"Sam\" poderia responder a perguntas gerais sobre família, candidatos a emprego e pagamentos de estudantes e informações relacionadas. O Departamento também introduziu um assistente virtual voltado para o ambiente interno, denominado \"MelissHR\", para facilitar o acesso da equipe departamental às informações de recursos humanos.\\nA Estônia está construindo um assistente virtual que orientará os cidadãos em todas as interações que eles tiverem com o governo. Serviços automatizados e proativos \"empurram\" os serviços para os cidadãos em eventos importantes de suas vidas (incluindo nascimentos, luto, desemprego, ...). Um exemplo é o registro automatizado de bebês quando nascem.\\n\\n\\n=== Outros usos ===\\nOutros usos da inteligência artificial pelo governo incluem:\\n\\nTradução\\nInterpretação de linguagem, pioneira pela Direção Geral de Interpretação da Comissão Europeia e Florika Fink-Hooijer.\\nElaboração de documentos\\n\\n\\n=== Forças armadas ===\\n\\nOs Estados Unidos e outras nações estão desenvolvendo aplicativos de IA para uma série de funções militares. As principais aplicações militares de Inteligência Artificial e Aprendizado de Máquina são para aprimorar as Comunicações, Sensores, Integração e Interoperabilidade. A pesquisa de IA está em andamento nas áreas de coleta e análise de inteligência, logística, operações cibernéticas, operações de informação, comando e controle e em uma variedade de veículos semi-autônomos e autônomos. As tecnologias de Inteligência Artificial permitem a coordenação de sensores e efetores, detecção e identificação de ameaças, marcação de posições inimigas, aquisição de alvos, coordenação e deconflição de disparos de junção distribuídos entre veículos de combate e tanques em rede também dentro de equipes tripuladas e não tripuladas (MUM-T). A IA foi incorporada às operações militares no Iraque e na Síria.Os gastos militares anuais mundiais com robótica aumentaram de US$ 5,1 bilhões em 2010 para US$ 7,5 bilhões em 2015. Drones militares capazes de ação autônoma são amplamente considerados um ativo útil. Muitos pesquisadores de inteligência artificial procuram se distanciar das aplicações militares da IA.\\n\\n\\n== Aplicações na área da saúde ==\\n\\n\\n=== Assistência médica ===\\n\\nA IA na área da saúde é freqüentemente usada para classificação, seja para automatizar a avaliação inicial de uma tomografia computadorizada ou EKG ou para identificar pacientes de alto risco para a saúde da população. A amplitude de aplicações está aumentando rapidamente. Como exemplo, a IA está sendo aplicada ao problema de alto custo das questões de dosagem - onde as descobertas sugeriram que a IA poderia economizar US $ 16 bilhões. Em 2016, um estudo inovador na Califórnia descobriu que uma fórmula matemática desenvolvida com a ajuda de IA determinava corretamente a dose exata de medicamentos imunossupressores a serem administrados a pacientes com órgãos.A inteligência artificial está ajudando os médicos. De acordo com a Bloomberg Technology, a Microsoft desenvolveu IA para ajudar os médicos a encontrar os tratamentos certos para o câncer. Há uma grande quantidade de pesquisas e medicamentos desenvolvidos relacionados ao câncer. Em detalhe, são mais de 800 medicamentos e vacinas para tratar o câncer. Isso afeta negativamente os médicos, porque há muitas opções de escolha, tornando mais difícil escolher os medicamentos certos para os pacientes. A Microsoft está trabalhando em um projeto para desenvolver uma máquina chamada \"Hanover\". Seu objetivo é memorizar todos os papéis necessários ao câncer e ajudar a prever quais combinações de medicamentos serão mais eficazes para cada paciente. Um projeto que está sendo trabalhado no momento é o de combate à leucemia mielóide, um câncer fatal cujo tratamento não melhora há décadas. Outro estudo descobriu que a inteligência artificial era tão boa quanto médicos treinados na identificação de câncer de pele. Outro estudo está usando inteligência artificial para tentar monitorar vários pacientes de alto risco, e isso é feito perguntando a cada paciente várias perguntas com base em dados adquiridos de médico ao vivo para interações com o paciente. Um estudo foi feito com transferência de aprendizagem, a máquina realizava um diagnóstico semelhante a um oftalmologista bem treinado, e podia gerar uma decisão em 30 segundos sobre se o paciente deveria ou não ser encaminhado para tratamento, com mais de 95% de acerto.De acordo com a CNN, um estudo recente realizado por cirurgiões do Children\\'s National Medical Center em Washington demonstrou com sucesso a cirurgia com um robô autônomo. A equipe supervisionou o robô enquanto ele realizava a cirurgia de tecidos moles, costurando o intestino de um porco durante a cirurgia aberta, e fazendo isso melhor do que um cirurgião humano, afirmou a equipe. A IBM criou seu próprio computador de inteligência artificial, o IBM Watson, que venceu a inteligência humana (em alguns níveis). O Watson tem se esforçado para obter sucesso e adoção na área de saúde.As redes neurais artificiais são usadas como sistemas de apoio à decisão clínica para diagnóstico médico, como em tecnologia de processamento de conceito em software EMR.\\nOutras tarefas na medicina que podem ser potencialmente realizadas por inteligência artificial e estão começando a ser desenvolvidas incluem:\\n\\nInterpretação de imagens médicas auxiliada por computador. Esses sistemas ajudam a digitalizar imagens digitais, por exemplo, da tomografia computadorizada, para aspectos típicos e para destacar cortes conspícuos, como possíveis doenças. Uma aplicação típica é a detecção de tumores.\\nAnálise de batimentos cardíacos.\\nRobôs companheiros para cuidar dos idosos\\nAnálise de registros médicos para fornecer informações mais úteis.\\nProjetar planos de tratamento.\\nAuxiliar em trabalhos repetitivos, incluindo o gerenciamento de medicamentos.\\nAuxiliar deficientes visuais.\\nFornecer consultas.\\nFabricação e desenvolvimento de fármacos.\\nUsando avatares no lugar de pacientes para treinamento clínico\\nEstimar a probabilidade de morte em procedimentos cirúrgicos\\nEstimar a progressão do HIV.\\n\\n\\n=== Saúde e segurança no local de trabalho ===\\nA IA pode aumentar o escopo das tarefas de trabalho em que um trabalhador pode ser removido de uma situação que acarreta riscos, como estresse, excesso de trabalho, lesões musculoesqueléticas, fazendo com que a IA execute as tarefas. Isso pode expandir a gama de setores de trabalho afetados, além da automação tradicional, para empregos de colarinho branco e de serviços, como medicina, finanças e tecnologia da informação. Por exemplo, os trabalhadores do call center enfrentam grandes riscos à saúde e segurança devido à sua natureza repetitiva e exigente e às suas altas taxas de micro vigilância. Os chatbots habilitados para IA reduzem a necessidade de humanos realizarem as tarefas mais básicas do call center.O aprendizado de máquina usado para análises de pessoas para fazer previsões sobre o comportamento do trabalhador pode ser usado para melhorar a saúde do trabalhador. Por exemplo, a análise de sentimento pode ser usada para detectar a fadiga e evitar o excesso de trabalho. Os sistemas de apoio à decisão têm uma capacidade semelhante de ser usado para, por exemplo, prevenir desastres industriais ou tornar a resposta a desastres mais eficiente. Para trabalhadores de manuseio manual de materiais, análises preditivas e inteligência artificial podem ser usadas para reduzir lesões musculoesqueléticas. Sensores vestíveis também podem permitir uma intervenção precoce contra a exposição a substâncias tóxicas, e os grandes conjuntos de dados gerados podem melhorar a vigilância da saúde no local de trabalho, avaliação de risco e pesquisa.A IA também pode ser usada para tornar o fluxo de trabalho de segurança e saúde no local de trabalho mais eficiente. Um exemplo é a codificação de pedidos de indenização trabalhista. Os sistemas de realidade virtual habilitados para IA podem ser úteis para treinamento de segurança para reconhecimento de perigo. A inteligência artificial pode ser usada para detectar com mais eficiência os quase acidentes, que são importantes na redução das taxas de acidentes, mas geralmente são subnotificados.\\n\\n\\n== Mídia e comércio eletrônico ==\\n\\nAlgumas aplicações de IA são voltadas para a análise de conteúdo de mídia audiovisual, como filmes, programas de TV, vídeos publicitários ou conteúdo gerado pelo usuário. As soluções geralmente envolvem visão computacional, que é uma das principais áreas de aplicação da IA.\\nOs cenários de caso de uso típicos incluem a análise de imagens usando técnicas de reconhecimento de objetos ou de rosto, ou a análise de vídeo para reconhecer cenas, objetos ou rostos relevantes. A motivação para usar a análise de mídia baseada em IA pode ser - entre outras coisas - a facilitação da pesquisa de mídia, a criação de um conjunto de palavras-chave descritivas para um item de mídia, monitoramento de política de conteúdo de mídia (como verificar a adequação do conteúdo para um determinado Tempo de exibição de TV), fala em texto para arquivamento ou outros fins, e a detecção de logotipos, produtos ou rostos de celebridades para a colocação de anúncios relevantes.\\nAs empresas de IA de análise de mídia geralmente fornecem seus serviços por meio de uma API REST que permite o acesso automático baseado em máquina à tecnologia e permite a leitura dos resultados por máquina. Por exemplo, IBM, Microsoft e Amazon permitem acesso a sua tecnologia de reconhecimento de mídia usando APIs RESTful.\\n\\n\\n=== Deepfakes ===\\n\\nEm junho de 2016, uma equipe de pesquisa do grupo de computação visual da Universidade Técnica de Munique e da Universidade de Stanford desenvolveu o Face2Face, um programa que anima o rosto de uma pessoa alvo, transpondo as expressões faciais de uma fonte externa. A tecnologia foi demonstrada animando os lábios de pessoas, incluindo Barack Obama e Vladimir Putin. Desde então, outros métodos foram demonstrados com base na rede neural profunda, da qual o nome \"deepfake\" foi tirado.\\nEm setembro de 2018, o senador americano Mark Warner propôs penalizar as empresas de mídia social que permitem o compartilhamento de documentos provenientes de deepfakes em sua plataforma.Vincent Nozick, pesquisador do Institut Gaspard Monge, encontrou uma maneira de detectar documentos fraudados analisando os movimentos da pálpebra. O DARPA (um grupo de pesquisa associado ao Departamento de Defesa dos EUA) doou 68 milhões de dólares para trabalhar na detecção de deepfakes. Na Europa, o programa Horizonte 2020 financiou o InVid, software desenvolvido para ajudar jornalistas a detectar documentos falsos.Deepfakes podem ser usados \\u200b\\u200bpara fins cômicos, mas são mais conhecidos por serem usados \\u200b\\u200bpara notícias falsas e boatos. Deepfakes de áudio e software de IA capaz de detectar deepfakes e clonar vozes humanas após 5 segundos de escuta também existem.\\n\\n\\n=== Música ===\\nEmbora a evolução da música sempre tenha sido afetada pela tecnologia, a inteligência artificial permitiu, por meio de avanços científicos, emular, em certa medida, a composição semelhante à humana.\\nEntre os esforços iniciais notáveis, David Cope criou uma IA chamada Emily Howell que conseguiu se tornar bem conhecida no campo de Algorithmic Computer Music. O algoritmo por trás de Emily Howell é registrado como uma patente dos Estados Unidos.O AI Iamus criou em 2012 o primeiro álbum clássico completo totalmente composto por um computador.\\nOutros empreendimentos, como AIVA (Artificial Intelligence Virtual Artist), se concentram na composição de música sinfônica, principalmente música clássica para trilhas sonoras de filmes. Alcançou uma estreia mundial ao se tornar o primeiro compositor virtual a ser reconhecido por uma associação profissional musical.Inteligências artificiais podem até mesmo produzir música utilizável em um ambiente médico, com o esforço do Melomics de usar música gerada por computador para o alívio do estresse e da dor.Além disso, iniciativas como o Google Magenta, conduzido pela equipe do Google Brain, querem descobrir se uma inteligência artificial pode ser capaz de criar arte convincente.No Sony CSL Research Laboratory, o software Flow Machines criou canções pop aprendendo estilos musicais a partir de um enorme banco de dados de canções. Ao analisar combinações únicas de estilos e técnicas de otimização, ele pode compor em qualquer estilo.\\nOutro projeto de composição musical de inteligência artificial, The Watson Beat, escrito pela IBM Research, não precisa de um grande banco de dados de música como os projetos Google Magenta e Flow Machines, uma vez que usa Reinforcement Learning e Deep Belief Networks para compor música em uma simples entrada inicial melodia e um estilo selecionado. Desde que o software foi de código aberto, músicos, como Taryn Southern, têm colaborado com o projeto para criar música.\\nA canção de estreia da cantora sul-coreana Hayeon, \"Eyes on You\", foi composta usando IA que também foi supervisionada por compositores reais, incluindo NUVO.\\n\\n\\n=== Publicação de notícias e redação ===\\nA empresa Narrative Science disponibiliza comercialmente notícias e relatórios gerados por computador, incluindo resumos de eventos esportivos coletivos com base em dados estatísticos do jogo em inglês. Também cria relatórios financeiros e análises imobiliárias. Da mesma forma, a empresa Automated Insights gera recapitulações e visualizações personalizadas para o Yahoo Sports Fantasy Football. A empresa está projetada para gerar um bilhão de histórias em 2014, contra 350 milhões em 2013. A organização OpenAI também criou uma IA capaz de escrever textos.A Echobox é uma empresa de software que ajuda os editores a aumentar o tráfego postando artigos de forma \"inteligente\" em plataformas de mídia social, como Facebook e Twitter. Ao analisar grandes quantidades de dados, ele aprende como públicos específicos respondem a diferentes artigos em diferentes momentos do dia. Em seguida, ele escolhe as melhores histórias para postar e os melhores horários para postá-las. Ele usa dados históricos e em tempo real para entender o que funcionou bem no passado, bem como o que é tendência atualmente na web.Outra empresa, chamada Yseop, usa inteligência artificial para transformar dados estruturados em comentários e recomendações inteligentes em linguagem natural. Yseop é capaz de escrever relatórios financeiros, resumos executivos, vendas personalizadas ou documentos de marketing e muito mais a uma velocidade de milhares de páginas por segundo e em vários idiomas, incluindo inglês, espanhol, francês e alemão.O Boomtrain\\'s é outro exemplo de IA projetado para aprender a melhor forma de envolver cada leitor individual com os artigos exatos - enviados pelo canal certo na hora certa - que serão mais relevantes para o leitor. É como contratar um editor pessoal para cada leitor individual para selecionar a experiência de leitura perfeita.\\nA IRIS.TV está ajudando empresas de mídia com sua plataforma de programação e personalização de vídeo alimentada por IA. Ele permite que editores e proprietários de conteúdo apresentem conteúdo contextualmente relevante para o público com base nos padrões de visualização do consumidor.Além da automação de tarefas de escrita com entrada de dados, a IA mostrou um potencial significativo para os computadores se engajarem em trabalhos criativos de alto nível. AI Storytelling tem sido um campo ativo de pesquisa desde o desenvolvimento de TALESPIN por James Meehan, que inventou histórias semelhantes às fábulas de Esopo. O programa começaria com um conjunto de personagens que queriam atingir certos objetivos, com a história como uma narração das tentativas dos personagens de executar planos para satisfazer esses objetivos. Desde Meehan, outros pesquisadores trabalharam em AI Storytelling usando abordagens semelhantes ou diferentes. Mark Riedl e Vadim Bulitko argumentaram que a essência da narrativa era um problema de gerenciamento de experiência, ou \"como equilibrar a necessidade de uma progressão coerente da história com a agência do usuário, o que geralmente está em desacordo\".Embora a maioria das pesquisas sobre narração de histórias de IA tenha se concentrado na geração de histórias (por exemplo, personagem e enredo), também houve uma investigação significativa na comunicação de histórias. Em 2002, pesquisadores da North Carolina State University desenvolveram uma estrutura arquitetônica para a geração de prosa narrativa. Sua implementação particular foi capaz de reproduzir fielmente a variedade e complexidade de texto de uma série de histórias, como o capuz vermelho, com habilidade humana. Este campo específico continua a ganhar interesse. Em 2016, uma IA japonesa co-escreveu um conto e quase ganhou um prêmio literário.Hanteo Global, a organização que opera o único gráfico de registro em tempo real na Coréia do Sul, também utiliza um bot de jornalismo automatizado, que escreve artigos.\\n\\n\\n=== Videogames ===\\nEm videogames, a inteligência artificial é rotineiramente usada para gerar comportamento dinâmico e intencional em personagens não-jogadores (NPCs). Além disso, técnicas de IA bem conhecidas são usadas rotineiramente para encontrar caminhos. Alguns pesquisadores consideram a NPC AI em jogos um \"problema resolvido\" para a maioria das tarefas de produção. Jogos com IA mais atípica incluem o diretor de IA de Left 4 Dead (2008) e o treinamento neuroevolucionário de pelotões em Supreme Commander 2 (2010). AI também é usada em Alien Isolation (2014) como uma forma de controlar quais ações o Alien executará a seguir. Devido à forma como a inteligência do Alien é configurada, pode-se dizer que o Alien parece aprender mais sobre o jogador conforme o jogo continua e o Alien começa a agir de acordo\\n\\n\\n=== Arte ===\\nA inteligência artificial inspirou inúmeras aplicações criativas, incluindo seu uso para produzir arte visual. A exposição \"Thinking Machines: Art and Design in Computer Age, 1959-1989\" no MoMA oferece uma boa visão geral das aplicações históricas da IA \\u200b\\u200bpara arte, arquitetura e design. Exposições recentes que mostram o uso de IA para produzir arte incluem o benefício patrocinado pelo Google e o leilão na Gray Area Foundation em San Francisco, onde artistas experimentaram o algoritmo DeepDream e a exposição \"Unhuman: Art in the Age of AI\", que teve em Los Angeles e Frankfurt no outono de 2017. Na primavera de 2018, a Association of Computing Machinery dedicou uma edição de revista especial ao assunto de computadores e arte, destacando o papel do aprendizado de máquina nas artes. Em junho de 2018, \"Duet for Human and Machine\", uma obra de arte que permite aos espectadores interagir com uma inteligência artificial, estreou no Beall Center for Art + Technology. A Ars Electronica austríaca e o Museu de Artes Aplicadas de Viena abriram exposições sobre IA em 2019. O festival de 2019 da Ars Electronica \"Fora da caixa\" tematizou extensivamente o papel das artes para uma transformação social sustentável com IA.\\n\\n\\n== Pesquisadores ==\\nAtualmente existem diversos pesquisadores de IA ao redor do mundo em várias instituições e companhias de pesquisa. Entre os muitos que fizeram contribuições significativas estão:\\n\\n\\n=== Alan Turing (1912-1954) ===\\nFoi um dos homens de maior importância não só para seu tempo, como para a atualidade. Com estudos que não só foram base para a existência da inteligência artificial, mas de quase todos os aparelhos eletrônicos já feitos. Criou seu famoso teste, o “Teste de Turing”, usado até hoje para descobrir o nível de inteligência de um programa de inteligência artificial. Esse teste não foi criado para analisar a capacidade de um computador de pensar por si mesmo, já que as máquinas são completamente incapazes disso, mas sim de identificar o quão bem ele pode imitar o cérebro humano.\\n\\n\\n=== John McCarthy (1927-2011) ===\\nMatemático, cientista, o criador do termo “inteligência artificial” e também o pai da linguagem de programação LISP. McCarthy foi considerado um dos primeiros homens a trabalhar no desenvolvimento da inteligência artificial e sempre disse que ela deveria interagir com o homem. Nascido na cidade de Boston, trabalhou na Universidade de Stanford e no Massachusetts Institute of Technology (MIT), além de ter vencido o prêmio Turing em 1972 e a Medalha Nacional de Ciência em 1991. Já a programação LISP, uma das maiores conquistas de McCarthy, surgiu em 1958 e serviu para facilitar o desenvolvimento da inteligência artificial. A linguagem é das mais antigas ainda em uso e foi usada pela primeira vez ao colocar um computador para jogar xadrez contra um adversário humano.\\n\\n\\n=== Marvin Minsky (1927-2016) ===\\nNatural de Nova Iorque, onde nasceu, o cientista recebeu diversos prémios internacionais pelo seu trabalho pioneiro no campo da inteligência artificial, incluindo em 1969, o Prêmio Turing, o maior prêmio em ciência informática. O cientista explorou a forma de dotar as máquinas de percepção e inteligência semelhantes à humana, criou mãos robóticas com capacidade para manipular objetos, desenvolveu novos marcos de programação e escreveu sobre assuntos filosóficos relacionados com a inteligência artificial. Minsky estava convencido de que o homem, um dia, desenvolveria máquinas que competiriam com a sua inteligência e via o cérebro como uma máquina cujo funcionamento pode ser estudado e reproduzido num computador, o que poderia ajudar a compreender melhor o cérebro humano e as funções mentais superiores.\\n\\n\\n=== Raj Reddy (1937) ===\\nInformático indiano naturalizado estadunidense, foi o primeiro asiático a vencer o Prêmio Turing. Entre suas contribuições para a IA estão a criação do Instituto de Robótica da CMU e demonstrações de diversos sistemas que usam alguma forma de IA. Entre esses sistemas, estão sistemas de: fala, controlados por voz, reconhecimento de voz, reconhecimento de voz independente do interlocutor, etc. Para Reddy, ao invés de substituir a humanidade, a tecnologia irá criar um novo tipo de humano que irá coexistir com seus antecessores enquanto se aproveita das vantagens de uma nova classe de ferramentas viabilizada pela tecnologia.\\n\\n\\n=== Terry Winograd (1946) ===\\nWinograd é um cientista da computação estadunidense, professor da Universidade Stanford, e co-diretor do grupo de interação humano-computador de Stanford. É conhecido nas áreas de filosofia da mente e inteligência artificial por seu trabalho sobre língua natural usando o programa SHRDLU. Para Terry, não restam dúvidas de que a tecnologia da informática, mais precisamente a área de inteligência artificial, transformará as sociedades, introduzindo modificações socioeconômicas irreversíveis. Esse especialista procura saber se os seres-humanos seriam capazes de construir máquinas que poderiam compreende-los, resolver seus problemas e dirigir suas vidas, além de buscar respostas sobre o que aconteceria se, algum dia, essas máquinas se tornassem mais inteligentes do que os próprios humanos que as criaram.\\n\\n\\n=== Douglas Lenat (1950) ===\\nNascido na Filadélfia, Pensilvânia, se formou na Universidade da Pensilvânia. Douglas Bruce Lenat é o Diretor Executivo do Cycorp e foi também um pesquisador proeminente em inteligência artificial, recebendo o prêmio bianual IJCAI Computers and Thought em 1976 pela criação do programa de aprendizado de máquinas. Ele também trabalhou em  simulações militares e em numerosos projetos para organizações governamentais, militares, científicas e de inteligência dos EUA. A missão de Lenat, no longo ciclo do projeto Cyc, iniciado em 1984, era de construir a base de uma inteligência artificial geral ao representar manualmente o conhecimento como axiomas lógicos contextualizados na linguagem formal com base em extensões ao cálculo de predicados de primeira ordem e em seguida, usar esse enorme motor de inferência de ontologia e a base de conhecimento contextualizada como um viés indutivo para automatizar e acelerar cada vez mais a educação contínua do próprio Cyc, via aprendizagem em máquina e compreensão da linguagem natural.\\n\\n\\n== Vantagens e Desvantagens da utilização da inteligência artificial ==\\n\\n\\n=== Vantagens ===\\nRedução de erros: Uma vez que são máquinas, a inteligência artificial é mais resistente e tem maior capacidade de suportar ambientes hostis, reduzindo as chances de falharem em seus propósitos, tendo a possibilidade de alcançar um maior grau de precisão. Exploração: Devido à programação dos robôs, eles podem realizar um trabalho mais laborioso e duro com maior responsabilidade. Assim, são capazes de ser utilizadas também em processos de exploração de minérios e de outros combustíveis, no fundo do oceano e, portanto, superar as limitações humanas.Aplicações diárias: Inteligência Artificial é amplamente empregada por instituições financeiras e instituições bancárias para organizar e gerenciar dados. A sua utilização está presente em vários mecanismos do nosso cotidiano como o GPS (global positioning system), a correção nos erros de digitação na ortografia, entre outros.Sem pausas: As máquinas, ao contrário dos seres humanos, não precisam de intervalos frequentes. Elas conseguem exercer vários horas de trabalho sem ficarem cansadas, distraídas ou entendiadas, apenas pela sua programação.\\n\\n\\n=== Desvantagens ===\\nAlto custo: o custo de produção das máquinas de IA são demasiados, o que se deve a complexidade e dificuldade de manutenção. O processo de recuperação de códigos perdidos, por exemplo, requer muito tempo e recursos.Falta de criatividade: A inteligência artificial não é desenvolvida ao ponto de atuar como o cérebro humano, de forma criativa. Ademais, o cérebro humano ainda não é suficientemente compreendido para que um dia possa ser simulado fielmente em uma forma artificial. Portanto, a ideia de replicar funções do cérebro humano é intangível.Causa o desemprego: Como são capazes de executar tarefas antes exclusivas aos humanos de maneira mais otimizada e eficiente, os mecanismos de inteligência artificial tendem a substituir a atividade humana em larga escala. O trabalho de uma máquina que possui inteligência artificial é, muitas vezes, mais viável que o trabalho humano, logo, a projeção de um crescimento no desemprego em função disso é coerente.\\n\\n\\n== Mitos sobre Inteligência Artificial ==\\n\\n\\n=== Inteligência Artificial pode funcionar como nosso cérebro ===\\nA IA, nas mais diversas áreas, acaba realizando apenas tarefas específicas ao contexto em que é aplicada. Cada sistema criado é limitado a um conjunto de atividades de cada finalidade: um bot. (diminutivo de robot) de atendimento vai trabalhar com ofertas de produtos, responder a dúvidas, negociar dívidas mas esse mesmo bot. não vai conseguir jogar xadrez ou guiar um veículo autônomo, por exemplo, já que não consegue elaborar estratégias funcionais e sim apenas executar comandos com base em alguma análise de dados relativa à sua função. Um sistema tão complexo e abrangente como o cérebro humano ainda é uma realidade distante. Os extraordinários avanços da neurociência mostram que o ser humano ainda está longe de compreender alguns mistérios do cérebro humano, entre eles, a incrível capacidade de criar, destruir e refinar ideias, ou seja, a criatividade. A IA é mais competente do que as pessoas em tarefas de análise, organização e até resolução de alguns problemas, mas ainda não é capaz de melhorar a si mesma, em diversos campos, e aprender coisas novas sem informações prévias. Grandes empresas já estão trabalhando na chamada ‘deep learning’ (aprendizagem profunda), um dos mais promissores campos da IA, que pretende fazer dos sistemas entidades capazes de aprender evolutivamente. Mas, ainda não é possível, e talvez nunca será, eliminar o fator humano, entre outros pontos, da própria avaliação de progresso dessa disciplina tecnológica.\\n\\n\\n=== Inteligência Artificial eliminará todos os cargos de trabalho ===\\nUm sistema que utiliza inteligência artificial pode armazenar e analisar bilhões de dados, realizar automaticamente tarefas com base nessa análise, fechar acordos, vender, controlar uma linha de produção etc., mas não é capaz de criar estratégias do zero. Além disso, tudo o que envolve humanização, sentimentos como empatia ou características como dedicação, mesmo em um contexto onde a IA se espalhe, ainda dependerá de uma interação entre o homem e a máquina. Empregos como os conhecemos hoje se transformarão, muitos inclusive deixarão de existir, mas tantos outros novos surgirão.\\n\\n\\n=== Inteligência Artificial mudará o mundo em poucos anos ===\\nApesar de uma grande porcentagem das funções terem parte de seus processos automatizada, nos dias de hoje, menos de 10% das atividades podem ser inteiramente substituídas por tecnologia. Nas indústrias haverá uma ampla troca da mão-de-obra humana pela força de trabalho de máquinas automáticas e programas de computador que possam executar, automaticamente, tarefas repetitivas sem qualquer tipo de adversidade, já que não sofrem com todas as vulnerabilidades que um ser-humano detém como cansaço, riscos de sofrer acidentes e mobilidade, além do fato de não gerar despesas para a organização a não ser com sua manutenção e funcionamento. Porém, como se trata de um ramo da ciência relativamente novo e que está em uma fase de desenvolvimento lenta e gradual, ainda pode demorar para que a inteligência artificial cause algum impacto, realmente, significativo para as relações dentro da sociedade.\\n\\n\\n== Ver também ==\\nRealidade simulada\\nRedes neurais\\nRobocode\\n\\n\\n== Referências ==\\n\\n\\n== Ligações externas ==\\n\\n\\n=== Organizações relacionadas a IA ===\\n«Programa do governo para defender suas questões». (em português) \\n«American Association for Artificial Intelligence»'"
            ],
            "application/vnd.google.colaboratory.intrinsic+json": {
              "type": "string"
            }
          },
          "metadata": {},
          "execution_count": 41
        }
      ]
    },
    {
      "cell_type": "code",
      "source": [
        "from sklearn.feature_extraction.text import CountVectorizer\n",
        "cv = CountVectorizer()\n",
        "X = np.array(cv.fit_transform([query_1.content,\n",
        "                               query_2.content,\n",
        "                               query_3.content,\n",
        "                               query_4.content]).todense())"
      ],
      "metadata": {
        "id": "1CqlgrJgrSN_"
      },
      "execution_count": 42,
      "outputs": []
    },
    {
      "cell_type": "code",
      "source": [
        "print(\"Inteligencia Aritificial\", len(query_1.content.split()), \"\\n\"\n",
        "      \"Futebol \\t\\t\", len(query_2.content.split()), \"\\n\"\n",
        "      \"Aprendizado de Máquinas\", len(query_3.content.split()), \"\\n\"\n",
        "      \"Voleibol \\t\\t\", len(query_4.content.split()))"
      ],
      "metadata": {
        "colab": {
          "base_uri": "https://localhost:8080/"
        },
        "id": "LhMl_4GHr7O5",
        "outputId": "984b4853-e834-4f03-9c48-16765e99baf0"
      },
      "execution_count": 47,
      "outputs": [
        {
          "output_type": "stream",
          "name": "stdout",
          "text": [
            "Inteligencia Aritificial 11294 \n",
            "Futebol \t\t 10658 \n",
            "Aprendizado de Máquinas 4135 \n",
            "Voleibol \t\t 4829\n"
          ]
        }
      ]
    },
    {
      "cell_type": "code",
      "source": [
        "X.shape"
      ],
      "metadata": {
        "colab": {
          "base_uri": "https://localhost:8080/"
        },
        "id": "3SMGBAhTry8C",
        "outputId": "9fcc664b-fd58-4c12-8f2d-3af0fd731e6b"
      },
      "execution_count": 46,
      "outputs": [
        {
          "output_type": "execute_result",
          "data": {
            "text/plain": [
              "(4, 5828)"
            ]
          },
          "metadata": {},
          "execution_count": 46
        }
      ]
    },
    {
      "cell_type": "code",
      "source": [
        "# distancia euclidiana\n",
        "print(\"Inteligencia Artificial - Futebol \\t\\t\\t\", euclidean_distance(X[0], X[1]), \"\\n\"\n",
        "\"Inteligencia Aritifical - Aprendizado de Máquinas \\t\", euclidean_distance(X[0], X[2]), \"\\n\"\n",
        "\"Inteligencia Artificial - Voleibol \\t\\t\\t\", euclidean_distance(X[0], X[3]))"
      ],
      "metadata": {
        "colab": {
          "base_uri": "https://localhost:8080/"
        },
        "id": "RKHG5KXMswqr",
        "outputId": "4c3b12ad-c32f-4f8e-d5f1-ff69463d02b3"
      },
      "execution_count": 48,
      "outputs": [
        {
          "output_type": "stream",
          "name": "stdout",
          "text": [
            "Inteligencia Artificial - Futebol \t\t\t 482.80845063026806 \n",
            "Inteligencia Aritifical - Aprendizado de Máquinas \t 619.2479309614204 \n",
            "Inteligencia Artificial - Voleibol \t\t\t 683.3066661463212\n"
          ]
        }
      ]
    },
    {
      "cell_type": "code",
      "source": [
        "# distancia por cossenos \n",
        "print(\"Inteligencia Artificial - Futebol \\t\\t\\t\", cosine_similarity(X[0], X[1]), \"\\n\"\n",
        "\"Inteligencia Artifical - Aprendizado de Máquinas \\t\", cosine_similarity(X[0], X[2]), \"\\n\"\n",
        "\"Inteligencia artificail - Voleibol \\t\\t\\t\", cosine_similarity(X[0], X[3]))"
      ],
      "metadata": {
        "colab": {
          "base_uri": "https://localhost:8080/"
        },
        "id": "uuo7ANwxtshH",
        "outputId": "26bc555e-534c-4645-c0bc-ac23362d66ba"
      },
      "execution_count": 49,
      "outputs": [
        {
          "output_type": "stream",
          "name": "stdout",
          "text": [
            "Inteligencia Artificial - Futebol \t\t\t 0.8664602111921241 \n",
            "Inteligencia Artifical - Aprendizado de Máquinas \t 0.9137949373656862 \n",
            "Inteligencia artificail - Voleibol \t\t\t 0.8264403441215333\n"
          ]
        }
      ]
    },
    {
      "cell_type": "code",
      "source": [
        "# categotizando um tweet\n",
        "tweet = \"romario e ronaldo são os melhores atacantes que já vi jogar... dentro da pequena área era sempre gol!\"\n",
        "t = np.array(cv.transform([tweet]).todense())[0]"
      ],
      "metadata": {
        "id": "DjxYsvl9vlab"
      },
      "execution_count": 50,
      "outputs": []
    },
    {
      "cell_type": "code",
      "source": [
        "# tweet vs paginas co distancia euclidiana\n",
        "print(\"tweet - Inteligencia Artificial \\t\", euclidean_distance(t, X[0]), \"\\n\"\n",
        "\"tweet - Futebol \\t\\t\\t\", euclidean_distance(t, X[1]), \"\\n\"\n",
        "\"tweet - Aprendizado de Máquinas \\t\", euclidean_distance(t, X[2]), \"\\n\"\n",
        "\"twwet - Voleibol \\t\\t\\t\", euclidean_distance(t, X[3]))"
      ],
      "metadata": {
        "colab": {
          "base_uri": "https://localhost:8080/"
        },
        "id": "mEWqtrNKwIBU",
        "outputId": "69dc616e-51de-4171-c290-1cc7e8f02b49"
      },
      "execution_count": 53,
      "outputs": [
        {
          "output_type": "stream",
          "name": "stdout",
          "text": [
            "tweet - Inteligencia Artificial \t 965.9699788295701 \n",
            "tweet - Futebol \t\t\t 821.038366947611 \n",
            "tweet - Aprendizado de Máquinas \t 403.92078431296403 \n",
            "twwet - voleibol \t\t\t 384.912977177959\n"
          ]
        }
      ]
    },
    {
      "cell_type": "code",
      "source": [
        "# tweet vc paginas com similaridade por cossenos\n",
        "print(\"tweet - Inteligencia Artificial \\t\", cosine_similarity(t, X[0]), \"\\n\"\n",
        "\"tweet - Futebol \\t\\t\\t\", cosine_similarity(t, X[1]), \"\\n\"\n",
        "\"tweet - Aprendizado de Máquinas \\t\", cosine_similarity(t, X[2]), \"\\n\"\n",
        "\"twwet - Voleibol \\t\\t\\t\", cosine_similarity(t, X[3]))"
      ],
      "metadata": {
        "colab": {
          "base_uri": "https://localhost:8080/"
        },
        "id": "FMBeD412w8tw",
        "outputId": "c9f9463b-da0e-40fe-ed30-a29ab3814e57"
      },
      "execution_count": 55,
      "outputs": [
        {
          "output_type": "stream",
          "name": "stdout",
          "text": [
            "tweet - Inteligencia Artificial \t 0.15440210339760962 \n",
            "tweet - Futebol \t\t\t 0.1828706859565224 \n",
            "tweet - Aprendizado de Máquinas \t 0.11430235112545817 \n",
            "twwet - Voleibol \t\t\t 0.17611644436368035\n"
          ]
        }
      ]
    },
    {
      "cell_type": "code",
      "source": [
        "# aula 2.8 O mal da dimensionalidade\n",
        "n = 1000\n",
        "user_a = np.ones(n)\n",
        "user_b = np.zeros(n)\n",
        "euclidean_distance = np.sqrt(np.cumsum((user_a - user_b)**2))"
      ],
      "metadata": {
        "id": "OJBTWMMQx607"
      },
      "execution_count": 58,
      "outputs": []
    },
    {
      "cell_type": "code",
      "source": [
        "plt.figure(figsize=(10,5))\n",
        "plt.plot(euclidean_distance, '.', label='Distancia euclidiana')\n",
        "plt.xlabel(\"Dimensão, $n$\")\n",
        "plt.ylabel(\"Distancia\")\n",
        "plt.title('Distancia euclidiana entre $[1]^n$ e $[0]^n$')\n",
        "plt.grid()\n",
        "plt.show()"
      ],
      "metadata": {
        "colab": {
          "base_uri": "https://localhost:8080/",
          "height": 355
        },
        "id": "NgmuJEeN6O-I",
        "outputId": "0b760fb3-a86a-4a18-a17b-867707f14e9f"
      },
      "execution_count": 60,
      "outputs": [
        {
          "output_type": "display_data",
          "data": {
            "text/plain": [
              "<Figure size 720x360 with 1 Axes>"
            ],
            "image/png": "[encoded data removed]"
          },
          "metadata": {
            "needs_background": "light"
          }
        }
      ]
    },
    {
      "cell_type": "code",
      "source": [
        "def distance_distribution(number_points = 5000, distance_type='euclidean'):\n",
        "  n_range = [2,8,16,32,64,256,512,1024]\n",
        "  plt.figure(figsize=(20,10))\n",
        "  for i, n in enumerate(n_range):\n",
        "    points = np.random.uniform(size=(number_points, n))\n",
        "    pairwise_distance = pdist(points, metric=distance_type)\n",
        "    max_distance = np.max(pairwise_distance)\n",
        "    distribution = pairwise_distance/max_distance\n",
        "    xlabel_text = \"Euclidean distance/Max distance\"\n",
        "    std = np.std(distribution)\n",
        "    plt.subplot(2,4, i+1)\n",
        "    plt.subplots_adjust(hspace=.3)\n",
        "    plt.hist(distribution, density=True)\n",
        "    plt.title(f'Dimension {n}, $\\sigma$ = {std:.3f}')\n",
        "    plt.xlabel(xlabel_text)\n",
        "    plt.xticks(np.linspace(0,1,5))\n",
        "  \n",
        "  plt.show()\n",
        "\n",
        "\n"
      ],
      "metadata": {
        "id": "BxU1ooeT65FN"
      },
      "execution_count": 67,
      "outputs": []
    },
    {
      "cell_type": "code",
      "source": [
        "distance_distribution()"
      ],
      "metadata": {
        "colab": {
          "base_uri": "https://localhost:8080/",
          "height": 624
        },
        "id": "LAEJw1uD-A0S",
        "outputId": "bfb000e6-b298-499e-93d5-ef3cd9ea2a6d"
      },
      "execution_count": 68,
      "outputs": [
        {
          "output_type": "display_data",
          "data": {
            "text/plain": [
              "<Figure size 1440x720 with 8 Axes>"
            ],
            "image/png": "[encoded data removed]"
          },
          "metadata": {
            "needs_background": "light"
          }
        }
      ]
    }
  ]
}