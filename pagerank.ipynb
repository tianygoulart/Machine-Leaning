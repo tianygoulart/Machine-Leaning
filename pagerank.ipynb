{
  "cells": [
    {
      "cell_type": "markdown",
      "metadata": {
        "id": "view-in-github",
        "colab_type": "text"
      },
      "source": [
        "<a href=\"https://colab.research.google.com/github/tianygoulart/Machine-Leaning/blob/main/pagerank.ipynb\" target=\"_parent\"><img src=\"https://colab.research.google.com/assets/colab-badge.svg\" alt=\"Open In Colab\"/></a>"
      ]
    },
    {
      "cell_type": "code",
      "source": [
        "#programa utilizado para o exemplo de grafos para aplicação do PageRank"
      ],
      "metadata": {
        "id": "mMZW3fB7jqjh",
        "outputId": "36c283f5-c4e6-4fbb-80f3-3c300aa12d07"
      },
      "outputs": [
        {
          "metadata": {},
          "output_type": "display_data",
          "data": {
            "text/html": [
              "<style scoped>\n  .ansiout {\n    display: block;\n    unicode-bidi: embed;\n    white-space: pre-wrap;\n    word-wrap: break-word;\n    word-break: break-all;\n    font-family: \"Source Code Pro\", \"Menlo\", monospace;;\n    font-size: 13px;\n    color: #555;\n    margin-left: 4px;\n    line-height: 19px;\n  }\n</style>\n<div class=\"ansiout\"></div>"
            ]
          }
        }
      ],
      "execution_count": null
    },
    {
      "cell_type": "code",
      "source": [
        "from pyspark.sql import SparkSession #importa a biblioteca que cria a seção do spark"
      ],
      "metadata": {
        "id": "31trgiQyjqjk",
        "outputId": "8ddd2f19-8606-43e1-9de0-1af1102dcd58"
      },
      "outputs": [
        {
          "metadata": {},
          "output_type": "display_data",
          "data": {
            "text/html": [
              "<style scoped>\n  .ansiout {\n    display: block;\n    unicode-bidi: embed;\n    white-space: pre-wrap;\n    word-wrap: break-word;\n    word-break: break-all;\n    font-family: \"Source Code Pro\", \"Menlo\", monospace;;\n    font-size: 13px;\n    color: #555;\n    margin-left: 4px;\n    line-height: 19px;\n  }\n</style>\n<div class=\"ansiout\"></div>"
            ]
          }
        }
      ],
      "execution_count": null
    },
    {
      "cell_type": "code",
      "source": [
        "#inicia a seção para a utilização do spark\n",
        "spark = SparkSession.builder.appName(\"pageRankGrafos\").getOrCreate() #cria a seção caso não exista ou obtém a já criada"
      ],
      "metadata": {
        "id": "H0HYsYjZjqjk",
        "outputId": "df06a509-e752-4da9-c900-b3457d48a4fa"
      },
      "outputs": [
        {
          "metadata": {},
          "output_type": "display_data",
          "data": {
            "text/html": [
              "<style scoped>\n  .ansiout {\n    display: block;\n    unicode-bidi: embed;\n    white-space: pre-wrap;\n    word-wrap: break-word;\n    word-break: break-all;\n    font-family: \"Source Code Pro\", \"Menlo\", monospace;;\n    font-size: 13px;\n    color: #555;\n    margin-left: 4px;\n    line-height: 19px;\n  }\n</style>\n<div class=\"ansiout\"></div>"
            ]
          }
        }
      ],
      "execution_count": null
    },
    {
      "cell_type": "markdown",
      "source": [
        "Criando o nosso grafo"
      ],
      "metadata": {
        "id": "0U2jTSucjqjk"
      }
    },
    {
      "cell_type": "code",
      "source": [
        "#criando os nós para o nosso grafo\n",
        "nos = spark.createDataFrame([\n",
        "    (\"A\", \"ANA\"  ,350 ),\n",
        "    (\"B\", \"BERNARDO\"  ,360 ),\n",
        "    (\"C\", \"CLARA\" ,195 ),\n",
        "    (\"D\", \"DANIEL\",90),\n",
        "    (\"E\", \"ERIC\"  ,90),\n",
        "    (\"F\", \"FERNANDA\" ,215 ),\n",
        "    (\"G\", \"GUSTAVO\",30 ),\n",
        "    (\"H\", \"HENRIQUE\" ,25 ),\n",
        "    (\"I\", \"IOLANDA\"  ,25 ),\n",
        "    (\"J\", \"JENNIFER\"   ,20 )\n",
        "], [\"id\", \"nome\", \"total_segundos\"])"
      ],
      "metadata": {
        "id": "WEO0-y61jqjl",
        "outputId": "989fe895-c8ef-4d9a-94f1-1c34440612e7"
      },
      "outputs": [
        {
          "metadata": {},
          "output_type": "display_data",
          "data": {
            "text/html": [
              "<style scoped>\n  .ansiout {\n    display: block;\n    unicode-bidi: embed;\n    white-space: pre-wrap;\n    word-wrap: break-word;\n    word-break: break-all;\n    font-family: \"Source Code Pro\", \"Menlo\", monospace;;\n    font-size: 13px;\n    color: #555;\n    margin-left: 4px;\n    line-height: 19px;\n  }\n</style>\n<div class=\"ansiout\"></div>"
            ]
          }
        }
      ],
      "execution_count": null
    },
    {
      "cell_type": "code",
      "source": [
        "nos.show()"
      ],
      "metadata": {
        "id": "f7VkOO5Ujqjm",
        "outputId": "be81f607-daa3-4656-aad6-034696e66d93"
      },
      "outputs": [
        {
          "metadata": {},
          "output_type": "display_data",
          "data": {
            "text/html": [
              "<style scoped>\n  .ansiout {\n    display: block;\n    unicode-bidi: embed;\n    white-space: pre-wrap;\n    word-wrap: break-word;\n    word-break: break-all;\n    font-family: \"Source Code Pro\", \"Menlo\", monospace;;\n    font-size: 13px;\n    color: #555;\n    margin-left: 4px;\n    line-height: 19px;\n  }\n</style>\n<div class=\"ansiout\">+---+--------+--------------+\n id|    nome|total_segundos|\n+---+--------+--------------+\n  A|     ANA|           350|\n  B|BERNARDO|           360|\n  C|   CLARA|           195|\n  D|  DANIEL|            90|\n  E|    ERIC|            90|\n  F|FERNANDA|           215|\n  G| GUSTAVO|            30|\n  H|HENRIQUE|            25|\n  I| IOLANDA|            25|\n  J|JENNIFER|            20|\n+---+--------+--------------+\n\n</div>"
            ]
          }
        }
      ],
      "execution_count": null
    },
    {
      "cell_type": "code",
      "source": [
        "relacionamentos=spark.createDataFrame([\n",
        "    (\"A\", \"B\", 60),\n",
        "    (\"B\", \"A\", 50),\n",
        "    (\"A\", \"C\", 50),\n",
        "    (\"C\", \"A\", 100),\n",
        "    (\"A\", \"D\", 90),\n",
        "    (\"C\", \"I\", 25),\n",
        "    (\"C\", \"J\", 20),\n",
        "    (\"B\", \"F\", 50),\n",
        "    (\"F\", \"B\", 110),\n",
        "    (\"F\", \"G\", 30),\n",
        "    (\"F\", \"H\", 25),\n",
        "    (\"B\", \"E\", 90)\n",
        "],[\"src\",\"dst\",\"duracao_chamada\"])"
      ],
      "metadata": {
        "id": "eBhv_jYJjqjm",
        "outputId": "3cb9f35e-2fe0-4cb5-a4e5-3036c5621e45"
      },
      "outputs": [
        {
          "metadata": {},
          "output_type": "display_data",
          "data": {
            "text/html": [
              "<style scoped>\n  .ansiout {\n    display: block;\n    unicode-bidi: embed;\n    white-space: pre-wrap;\n    word-wrap: break-word;\n    word-break: break-all;\n    font-family: \"Source Code Pro\", \"Menlo\", monospace;;\n    font-size: 13px;\n    color: #555;\n    margin-left: 4px;\n    line-height: 19px;\n  }\n</style>\n<div class=\"ansiout\"></div>"
            ]
          }
        }
      ],
      "execution_count": null
    },
    {
      "cell_type": "code",
      "source": [
        "relacionamentos.show() # a fonte (src) indica quem ligou e (dst) indica quem recebeu a ligação"
      ],
      "metadata": {
        "id": "YpTZ7F3Mjqjn",
        "outputId": "77bd4141-5a9f-4435-d3c2-a8831b9e65f5"
      },
      "outputs": [
        {
          "metadata": {},
          "output_type": "display_data",
          "data": {
            "text/html": [
              "<style scoped>\n  .ansiout {\n    display: block;\n    unicode-bidi: embed;\n    white-space: pre-wrap;\n    word-wrap: break-word;\n    word-break: break-all;\n    font-family: \"Source Code Pro\", \"Menlo\", monospace;;\n    font-size: 13px;\n    color: #555;\n    margin-left: 4px;\n    line-height: 19px;\n  }\n</style>\n<div class=\"ansiout\">+---+---+---------------+\nsrc|dst|duracao_chamada|\n+---+---+---------------+\n  A|  B|             60|\n  B|  A|             50|\n  A|  C|             50|\n  C|  A|            100|\n  A|  D|             90|\n  C|  I|             25|\n  C|  J|             20|\n  B|  F|             50|\n  F|  B|            110|\n  F|  G|             30|\n  F|  H|             25|\n  B|  E|             90|\n+---+---+---------------+\n\n</div>"
            ]
          }
        }
      ],
      "execution_count": null
    },
    {
      "cell_type": "markdown",
      "source": [
        "Definindo e criando o grafo"
      ],
      "metadata": {
        "id": "tGagCb1Vjqjn"
      }
    },
    {
      "cell_type": "code",
      "source": [
        "#importando as funções para utilizar os grafos\n",
        "from pyspark.sql.types import *\n",
        "from graphframes import *  #contém os métodos para serem utilizados no processamento através dos grafos\n",
        "#obs: a biblioteca graphframes deve ser adicionada ao databricks, pois não é nativa. Para isso acesse New->\"Library\"-> \"Source\"-> \"Maven Coordinate\"-> pesquise por \"graphframes\" e adicione a biblioteca para cada cluster"
      ],
      "metadata": {
        "id": "c97ulpbQjqjo",
        "outputId": "af1042cc-8685-4033-8f64-94befd2e3fcb"
      },
      "outputs": [
        {
          "metadata": {},
          "output_type": "display_data",
          "data": {
            "text/html": [
              "<style scoped>\n  .ansiout {\n    display: block;\n    unicode-bidi: embed;\n    white-space: pre-wrap;\n    word-wrap: break-word;\n    word-break: break-all;\n    font-family: \"Source Code Pro\", \"Menlo\", monospace;;\n    font-size: 13px;\n    color: #555;\n    margin-left: 4px;\n    line-height: 19px;\n  }\n</style>\n<div class=\"ansiout\"></div>"
            ]
          }
        }
      ],
      "execution_count": null
    },
    {
      "cell_type": "code",
      "source": [
        "#controi o grafo a partir dos dataframes\n",
        "grafo = GraphFrame(nos,relacionamentos)\n"
      ],
      "metadata": {
        "id": "0Y1wUgvijqjo",
        "outputId": "499ff9c7-24c6-4b9a-afe7-9d28ab95bdc3"
      },
      "outputs": [
        {
          "metadata": {},
          "output_type": "display_data",
          "data": {
            "text/html": [
              "<style scoped>\n  .ansiout {\n    display: block;\n    unicode-bidi: embed;\n    white-space: pre-wrap;\n    word-wrap: break-word;\n    word-break: break-all;\n    font-family: \"Source Code Pro\", \"Menlo\", monospace;;\n    font-size: 13px;\n    color: #555;\n    margin-left: 4px;\n    line-height: 19px;\n  }\n</style>\n<div class=\"ansiout\"></div>"
            ]
          }
        }
      ],
      "execution_count": null
    },
    {
      "cell_type": "markdown",
      "source": [
        "Explorando o nosso grafo"
      ],
      "metadata": {
        "id": "hkny2kvJjqjo"
      }
    },
    {
      "cell_type": "code",
      "source": [
        "#encontrando chamadas com duração total maior do que 150 min\n",
        "from pyspark.sql.functions import col\n",
        "\n",
        "grafo.vertices\\\n",
        ".filter(\"total_segundos > 150\")\\\n",
        ".sort(col(\"total_segundos\").desc())\\\n",
        ".show()"
      ],
      "metadata": {
        "id": "JrUYKpL8jqjp",
        "outputId": "388ce9d0-e43b-4a16-cf9f-2f48db227f23"
      },
      "outputs": [
        {
          "metadata": {},
          "output_type": "display_data",
          "data": {
            "text/html": [
              "<style scoped>\n  .ansiout {\n    display: block;\n    unicode-bidi: embed;\n    white-space: pre-wrap;\n    word-wrap: break-word;\n    word-break: break-all;\n    font-family: \"Source Code Pro\", \"Menlo\", monospace;;\n    font-size: 13px;\n    color: #555;\n    margin-left: 4px;\n    line-height: 19px;\n  }\n</style>\n<div class=\"ansiout\">+---+--------+--------------+\n id|    nome|total_segundos|\n+---+--------+--------------+\n  B|BERNARDO|           360|\n  A|     ANA|           350|\n  F|FERNANDA|           215|\n  C|   CLARA|           195|\n+---+--------+--------------+\n\n</div>"
            ]
          }
        }
      ],
      "execution_count": null
    },
    {
      "cell_type": "code",
      "source": [
        "#encontrando as estatísticas para o total de segundos existentes no grafo (para cada um dos nós) \n",
        "grafo.vertices\\\n",
        ".describe(['total_segundos'])\\\n",
        ".show()"
      ],
      "metadata": {
        "id": "uphy_ZCyjqjp",
        "outputId": "ebe00f60-bf0f-414d-8433-297b8e973c2d"
      },
      "outputs": [
        {
          "metadata": {},
          "output_type": "display_data",
          "data": {
            "text/html": [
              "<style scoped>\n  .ansiout {\n    display: block;\n    unicode-bidi: embed;\n    white-space: pre-wrap;\n    word-wrap: break-word;\n    word-break: break-all;\n    font-family: \"Source Code Pro\", \"Menlo\", monospace;;\n    font-size: 13px;\n    color: #555;\n    margin-left: 4px;\n    line-height: 19px;\n  }\n</style>\n<div class=\"ansiout\">+-------+-----------------+\nsummary|   total_segundos|\n+-------+-----------------+\n  count|               10|\n   mean|            140.0|\n stddev|132.9578045011942|\n    min|               20|\n    max|              360|\n+-------+-----------------+\n\n</div>"
            ]
          }
        }
      ],
      "execution_count": null
    },
    {
      "cell_type": "code",
      "source": [
        "#encontrando as estatísticas para cada uma das ligações (relacionamentos)\n",
        "grafo.edges\\\n",
        ".describe(['duracao_chamada'])\\\n",
        ".show()"
      ],
      "metadata": {
        "id": "MOQiFURKjqjp",
        "outputId": "9435f927-2acf-4bfa-b1f1-fb19a8b8b4d8"
      },
      "outputs": [
        {
          "metadata": {},
          "output_type": "display_data",
          "data": {
            "text/html": [
              "<style scoped>\n  .ansiout {\n    display: block;\n    unicode-bidi: embed;\n    white-space: pre-wrap;\n    word-wrap: break-word;\n    word-break: break-all;\n    font-family: \"Source Code Pro\", \"Menlo\", monospace;;\n    font-size: 13px;\n    color: #555;\n    margin-left: 4px;\n    line-height: 19px;\n  }\n</style>\n<div class=\"ansiout\">+-------+------------------+\nsummary|   duracao_chamada|\n+-------+------------------+\n  count|                12|\n   mean|58.333333333333336|\n stddev| 31.79003083682148|\n    min|                20|\n    max|               110|\n+-------+------------------+\n\n</div>"
            ]
          }
        }
      ],
      "execution_count": null
    },
    {
      "cell_type": "code",
      "source": [
        "#mostrando a quantidade de caminhos diretos (chegando) ->  ligações recebidas\n",
        "display(grafo.inDegrees)"
      ],
      "metadata": {
        "id": "ghfmP5qxjqjp",
        "outputId": "06196096-2d1f-4770-d63a-a84d1b7a0385"
      },
      "outputs": [
        {
          "metadata": {},
          "output_type": "display_data",
          "data": {
            "text/html": [
              "<style scoped>\n  .table-result-container {\n    max-height: 300px;\n    overflow: auto;\n  }\n  table, th, td {\n    border: 1px solid black;\n    border-collapse: collapse;\n  }\n  th, td {\n    padding: 5px;\n  }\n  th {\n    text-align: left;\n  }\n</style><div class='table-result-container'><table class='table-result'><thead style='background-color: white'><tr><th>id</th><th>inDegree</th></tr></thead><tbody><tr><td>F</td><td>1</td></tr><tr><td>E</td><td>1</td></tr><tr><td>B</td><td>2</td></tr><tr><td>D</td><td>1</td></tr><tr><td>C</td><td>1</td></tr><tr><td>J</td><td>1</td></tr><tr><td>A</td><td>2</td></tr><tr><td>G</td><td>1</td></tr><tr><td>I</td><td>1</td></tr><tr><td>H</td><td>1</td></tr></tbody></table></div>"
            ]
          }
        }
      ],
      "execution_count": null
    },
    {
      "cell_type": "code",
      "source": [
        "#mostrando a quantidade de caminhos inversos (saindo) -> ligações efetuadas\n",
        "display(grafo.outDegrees)"
      ],
      "metadata": {
        "id": "e9tVRjQ4jqjq",
        "outputId": "6590e75f-e7c0-402a-871a-f970a69ab034"
      },
      "outputs": [
        {
          "metadata": {},
          "output_type": "display_data",
          "data": {
            "text/html": [
              "<style scoped>\n  .table-result-container {\n    max-height: 300px;\n    overflow: auto;\n  }\n  table, th, td {\n    border: 1px solid black;\n    border-collapse: collapse;\n  }\n  th, td {\n    padding: 5px;\n  }\n  th {\n    text-align: left;\n  }\n</style><div class='table-result-container'><table class='table-result'><thead style='background-color: white'><tr><th>id</th><th>outDegree</th></tr></thead><tbody><tr><td>F</td><td>3</td></tr><tr><td>B</td><td>3</td></tr><tr><td>C</td><td>3</td></tr><tr><td>A</td><td>3</td></tr></tbody></table></div>"
            ]
          }
        }
      ],
      "execution_count": null
    },
    {
      "cell_type": "code",
      "source": [
        "#qual é o nó mais \"importante\" (tem mais caminhos que levam até ele) -> quem mais recebeu ligações\n",
        "total_degree = grafo.degrees\n",
        "in_degree = grafo.inDegrees\n",
        "out_degree = grafo.outDegrees\n"
      ],
      "metadata": {
        "id": "SHqFEqTgjqjq",
        "outputId": "bb6ca81a-2c53-4e68-b82a-acfdc9687443"
      },
      "outputs": [
        {
          "metadata": {},
          "output_type": "display_data",
          "data": {
            "text/html": [
              "<style scoped>\n  .ansiout {\n    display: block;\n    unicode-bidi: embed;\n    white-space: pre-wrap;\n    word-wrap: break-word;\n    word-break: break-all;\n    font-family: \"Source Code Pro\", \"Menlo\", monospace;;\n    font-size: 13px;\n    color: #555;\n    margin-left: 4px;\n    line-height: 19px;\n  }\n</style>\n<div class=\"ansiout\"></div>"
            ]
          }
        }
      ],
      "execution_count": null
    },
    {
      "cell_type": "code",
      "source": [
        "total_degree.show()"
      ],
      "metadata": {
        "id": "zqVovqFGjqjq",
        "outputId": "2c6a685c-2c62-4e8f-d0ac-bc32a5bf4d99"
      },
      "outputs": [
        {
          "metadata": {},
          "output_type": "display_data",
          "data": {
            "text/html": [
              "<style scoped>\n  .ansiout {\n    display: block;\n    unicode-bidi: embed;\n    white-space: pre-wrap;\n    word-wrap: break-word;\n    word-break: break-all;\n    font-family: \"Source Code Pro\", \"Menlo\", monospace;;\n    font-size: 13px;\n    color: #555;\n    margin-left: 4px;\n    line-height: 19px;\n  }\n</style>\n<div class=\"ansiout\">+---+------+\n id|degree|\n+---+------+\n  F|     4|\n  E|     1|\n  B|     5|\n  D|     1|\n  C|     4|\n  J|     1|\n  A|     5|\n  G|     1|\n  I|     1|\n  H|     1|\n+---+------+\n\n</div>"
            ]
          }
        }
      ],
      "execution_count": null
    },
    {
      "cell_type": "code",
      "source": [
        "#realizando a união dos dois dataframes (in e out degree)\n",
        "#podem existir nós que não ligaram ou receberam ligação, assim é necessário preencher o Nan\n",
        "#fica mais interessante mostrar em ordem decrescente os dados\n",
        "total_degree.join(in_degree, \"id\", how=\"left\")\\\n",
        ".join(out_degree, \"id\", how=\"left\")\\\n",
        ".fillna(0)\\\n",
        ".sort(\"inDegree\", ascending=False)\\\n",
        ".show()"
      ],
      "metadata": {
        "id": "t3lDPZjZjqjq",
        "outputId": "20cf50e9-d304-4bd6-b7e9-f9d66fc793a4"
      },
      "outputs": [
        {
          "metadata": {},
          "output_type": "display_data",
          "data": {
            "text/html": [
              "<style scoped>\n  .ansiout {\n    display: block;\n    unicode-bidi: embed;\n    white-space: pre-wrap;\n    word-wrap: break-word;\n    word-break: break-all;\n    font-family: \"Source Code Pro\", \"Menlo\", monospace;;\n    font-size: 13px;\n    color: #555;\n    margin-left: 4px;\n    line-height: 19px;\n  }\n</style>\n<div class=\"ansiout\">+---+------+--------+---------+\n id|degree|inDegree|outDegree|\n+---+------+--------+---------+\n  B|     5|       2|        3|\n  A|     5|       2|        3|\n  F|     4|       1|        3|\n  E|     1|       1|        0|\n  J|     1|       1|        0|\n  D|     1|       1|        0|\n  C|     4|       1|        3|\n  G|     1|       1|        0|\n  I|     1|       1|        0|\n  H|     1|       1|        0|\n+---+------+--------+---------+\n\n</div>"
            ]
          }
        }
      ],
      "execution_count": null
    },
    {
      "cell_type": "markdown",
      "source": [
        "Aplicando o algoritmo PageRank"
      ],
      "metadata": {
        "id": "WbmB5tN0jqjq"
      }
    },
    {
      "cell_type": "code",
      "source": [
        "pageRank = grafo.pageRank(resetProbability=0.15, tol=0.001) # resetProbability= probabilidade de sair de uma página e visitar outra sem link direto (garante que todas possam ser visitadas)-> entre 0 e 1\n",
        "#tol=tolerância->indica o critério de parada(se não melhorou o anterior em tol-valor)"
      ],
      "metadata": {
        "id": "FTZjGcjAjqjr",
        "outputId": "82aac006-043e-48fe-fff1-22c2c6b80574"
      },
      "outputs": [
        {
          "metadata": {},
          "output_type": "display_data",
          "data": {
            "text/html": [
              "<style scoped>\n  .ansiout {\n    display: block;\n    unicode-bidi: embed;\n    white-space: pre-wrap;\n    word-wrap: break-word;\n    word-break: break-all;\n    font-family: \"Source Code Pro\", \"Menlo\", monospace;;\n    font-size: 13px;\n    color: #555;\n    margin-left: 4px;\n    line-height: 19px;\n  }\n</style>\n<div class=\"ansiout\"></div>"
            ]
          }
        }
      ],
      "execution_count": null
    },
    {
      "cell_type": "code",
      "source": [
        "#page rank gera ou outro grafo \n",
        "#indicando quais são os nós mais \"importantes\" em nosso grafo \n",
        "pageRank.vertices.sort(['pagerank'],ascending=False).show()"
      ],
      "metadata": {
        "id": "7Oxc1ZUzjqjr",
        "outputId": "c5c40967-6135-4e1a-e748-ef8846544cc3"
      },
      "outputs": [
        {
          "metadata": {},
          "output_type": "display_data",
          "data": {
            "text/html": [
              "<style scoped>\n  .ansiout {\n    display: block;\n    unicode-bidi: embed;\n    white-space: pre-wrap;\n    word-wrap: break-word;\n    word-break: break-all;\n    font-family: \"Source Code Pro\", \"Menlo\", monospace;;\n    font-size: 13px;\n    color: #555;\n    margin-left: 4px;\n    line-height: 19px;\n  }\n</style>\n<div class=\"ansiout\">+---+--------+--------------+------------------+\n id|    nome|total_segundos|          pagerank|\n+---+--------+--------------+------------------+\n  B|BERNARDO|           360|1.2519236648772267|\n  A|     ANA|           350|1.2519236648772267|\n  F|FERNANDA|           215|0.9759477302972548|\n  D|  DANIEL|            90|0.9759477302972548|\n  C|   CLARA|           195|0.9759477302972548|\n  E|    ERIC|            90|0.9759477302972548|\n  H|HENRIQUE|            25|0.8980904372641323|\n  G| GUSTAVO|            30|0.8980904372641323|\n  I| IOLANDA|            25|0.8980904372641323|\n  J|JENNIFER|            20|0.8980904372641323|\n+---+--------+--------------+------------------+\n\n</div>"
            ]
          }
        }
      ],
      "execution_count": null
    },
    {
      "cell_type": "code",
      "source": [
        "#identificando os pesos existentes entre cada conexão\n",
        "pageRank.edges.show() #page rank não leva em consideração os pesos, apenas os tipos de relacionamentos. Assim, realiza a normalização dos pesos encontrados."
      ],
      "metadata": {
        "id": "1DyYGsx3jqjr",
        "outputId": "edbfebd2-ef50-4951-cdc6-838e51592bfb"
      },
      "outputs": [
        {
          "metadata": {},
          "output_type": "display_data",
          "data": {
            "text/html": [
              "<style scoped>\n  .ansiout {\n    display: block;\n    unicode-bidi: embed;\n    white-space: pre-wrap;\n    word-wrap: break-word;\n    word-break: break-all;\n    font-family: \"Source Code Pro\", \"Menlo\", monospace;;\n    font-size: 13px;\n    color: #555;\n    margin-left: 4px;\n    line-height: 19px;\n  }\n</style>\n<div class=\"ansiout\">+---+---+---------------+------------------+\nsrc|dst|duracao_chamada|            weight|\n+---+---+---------------+------------------+\n  C|  J|             20|0.3333333333333333|\n  A|  B|             60|0.3333333333333333|\n  B|  F|             50|0.3333333333333333|\n  C|  I|             25|0.3333333333333333|\n  F|  H|             25|0.3333333333333333|\n  C|  A|            100|0.3333333333333333|\n  B|  A|             50|0.3333333333333333|\n  F|  G|             30|0.3333333333333333|\n  A|  D|             90|0.3333333333333333|\n  F|  B|            110|0.3333333333333333|\n  B|  E|             90|0.3333333333333333|\n  A|  C|             50|0.3333333333333333|\n+---+---+---------------+------------------+\n\n</div>"
            ]
          }
        }
      ],
      "execution_count": null
    }
  ],
  "metadata": {
    "name": "transporte",
    "notebookId": 492954852360119,
    "colab": {
      "name": "pagerank.ipynb",
      "provenance": [],
      "include_colab_link": true
    }
  },
  "nbformat": 4,
  "nbformat_minor": 0
}